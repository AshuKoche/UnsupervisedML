{
  "cells": [
    {
      "cell_type": "markdown",
      "metadata": {
        "id": "view-in-github",
        "colab_type": "text"
      },
      "source": [
        "<a href=\"https://colab.research.google.com/github/AshuKoche/UnsupervisedML/blob/main/Topic_Modelling_on_News_Articles_Unsupervised_ML.ipynb\" target=\"_parent\"><img src=\"https://colab.research.google.com/assets/colab-badge.svg\" alt=\"Open In Colab\"/></a>"
      ]
    },
    {
      "cell_type": "markdown",
      "metadata": {
        "id": "vncDsAP0Gaoa"
      },
      "source": [
        "# **Project Name**    -\n",
        "\n"
      ]
    },
    {
      "cell_type": "markdown",
      "metadata": {
        "id": "beRrZCGUAJYm"
      },
      "source": [
        "##### **Project Type**    - Unsupervised ML\n",
        "##### **Contribution**    - Individual"
      ]
    },
    {
      "cell_type": "markdown",
      "metadata": {
        "id": "FJNUwmbgGyua"
      },
      "source": [
        "# **Project Summary -**"
      ]
    },
    {
      "cell_type": "markdown",
      "metadata": {
        "id": "F6v_1wHtG2nS"
      },
      "source": [
        "Write the summary here within 500-600 words."
      ]
    },
    {
      "cell_type": "markdown",
      "metadata": {
        "id": "w6K7xa23Elo4"
      },
      "source": [
        "# **GitHub Link -**"
      ]
    },
    {
      "cell_type": "markdown",
      "metadata": {
        "id": "h1o69JH3Eqqn"
      },
      "source": [
        "Provide your GitHub Link here."
      ]
    },
    {
      "cell_type": "markdown",
      "metadata": {
        "id": "yQaldy8SH6Dl"
      },
      "source": [
        "# **Problem Statement**\n"
      ]
    },
    {
      "cell_type": "markdown",
      "metadata": {
        "id": "DpeJGUA3kjGy"
      },
      "source": [
        "**Write Problem Statement Here.**"
      ]
    },
    {
      "cell_type": "markdown",
      "metadata": {
        "id": "mDgbUHAGgjLW"
      },
      "source": [
        "# **General Guidelines** : -  "
      ]
    },
    {
      "cell_type": "markdown",
      "metadata": {
        "id": "ZrxVaUj-hHfC"
      },
      "source": [
        "1.   Well-structured, formatted, and commented code is required.\n",
        "2.   Exception Handling, Production Grade Code & Deployment Ready Code will be a plus. Those students will be awarded some additional credits.\n",
        "     \n",
        "     The additional credits will have advantages over other students during Star Student selection.\n",
        "       \n",
        "             [ Note: - Deployment Ready Code is defined as, the whole .ipynb notebook should be executable in one go\n",
        "                       without a single error logged. ]\n",
        "\n",
        "3.   Each and every logic should have proper comments.\n",
        "4. You may add as many number of charts you want. Make Sure for each and every chart the following format should be answered.\n",
        "        \n",
        "\n",
        "```\n",
        "# Chart visualization code\n",
        "```\n",
        "            \n",
        "\n",
        "*   Why did you pick the specific chart?\n",
        "*   What is/are the insight(s) found from the chart?\n",
        "* Will the gained insights help creating a positive business impact?\n",
        "Are there any insights that lead to negative growth? Justify with specific reason.\n",
        "\n",
        "5. You have to create at least 15 logical & meaningful charts having important insights.\n",
        "\n",
        "\n",
        "[ Hints : - Do the Vizualization in  a structured way while following \"UBM\" Rule.\n",
        "\n",
        "U - Univariate Analysis,\n",
        "\n",
        "B - Bivariate Analysis (Numerical - Categorical, Numerical - Numerical, Categorical - Categorical)\n",
        "\n",
        "M - Multivariate Analysis\n",
        " ]\n",
        "\n",
        "\n",
        "\n",
        "\n",
        "\n",
        "6. You may add more ml algorithms for model creation. Make sure for each and every algorithm, the following format should be answered.\n",
        "\n",
        "\n",
        "*   Explain the ML Model used and it's performance using Evaluation metric Score Chart.\n",
        "\n",
        "\n",
        "*   Cross- Validation & Hyperparameter Tuning\n",
        "\n",
        "*   Have you seen any improvement? Note down the improvement with updates Evaluation metric Score Chart.\n",
        "\n",
        "*   Explain each evaluation metric's indication towards business and the business impact pf the ML model used.\n",
        "\n",
        "\n",
        "\n",
        "\n",
        "\n",
        "\n",
        "\n",
        "\n",
        "\n",
        "\n",
        "\n",
        "\n",
        "\n",
        "\n",
        "\n",
        "\n",
        "\n",
        "\n"
      ]
    },
    {
      "cell_type": "markdown",
      "metadata": {
        "id": "O_i_v8NEhb9l"
      },
      "source": [
        "# ***Let's Begin !***"
      ]
    },
    {
      "cell_type": "markdown",
      "metadata": {
        "id": "HhfV-JJviCcP"
      },
      "source": [
        "## ***1. Know Your Data***"
      ]
    },
    {
      "cell_type": "markdown",
      "metadata": {
        "id": "Y3lxredqlCYt"
      },
      "source": [
        "### Import Libraries"
      ]
    },
    {
      "cell_type": "code",
      "execution_count": null,
      "metadata": {
        "colab": {
          "base_uri": "https://localhost:8080/"
        },
        "id": "gzN4Gj1R1clf",
        "outputId": "52ae26f6-bba2-466a-a637-3ce2a5ae2959"
      },
      "outputs": [
        {
          "name": "stdout",
          "output_type": "stream",
          "text": [
            "Looking in indexes: https://pypi.org/simple, https://us-python.pkg.dev/colab-wheels/public/simple/\n",
            "Requirement already satisfied: pyLDAvis in /usr/local/lib/python3.10/dist-packages (3.4.1)\n",
            "Requirement already satisfied: numpy>=1.24.2 in /usr/local/lib/python3.10/dist-packages (from pyLDAvis) (1.24.3)\n",
            "Requirement already satisfied: scipy in /usr/local/lib/python3.10/dist-packages (from pyLDAvis) (1.10.1)\n",
            "Requirement already satisfied: pandas>=2.0.0 in /usr/local/lib/python3.10/dist-packages (from pyLDAvis) (2.0.1)\n",
            "Requirement already satisfied: joblib>=1.2.0 in /usr/local/lib/python3.10/dist-packages (from pyLDAvis) (1.2.0)\n",
            "Requirement already satisfied: jinja2 in /usr/local/lib/python3.10/dist-packages (from pyLDAvis) (3.1.2)\n",
            "Requirement already satisfied: numexpr in /usr/local/lib/python3.10/dist-packages (from pyLDAvis) (2.8.4)\n",
            "Requirement already satisfied: funcy in /usr/local/lib/python3.10/dist-packages (from pyLDAvis) (2.0)\n",
            "Requirement already satisfied: scikit-learn>=1.0.0 in /usr/local/lib/python3.10/dist-packages (from pyLDAvis) (1.2.2)\n",
            "Requirement already satisfied: gensim in /usr/local/lib/python3.10/dist-packages (from pyLDAvis) (4.3.1)\n",
            "Requirement already satisfied: setuptools in /usr/local/lib/python3.10/dist-packages (from pyLDAvis) (67.7.2)\n",
            "Requirement already satisfied: python-dateutil>=2.8.2 in /usr/local/lib/python3.10/dist-packages (from pandas>=2.0.0->pyLDAvis) (2.8.2)\n",
            "Requirement already satisfied: pytz>=2020.1 in /usr/local/lib/python3.10/dist-packages (from pandas>=2.0.0->pyLDAvis) (2022.7.1)\n",
            "Requirement already satisfied: tzdata>=2022.1 in /usr/local/lib/python3.10/dist-packages (from pandas>=2.0.0->pyLDAvis) (2023.3)\n",
            "Requirement already satisfied: threadpoolctl>=2.0.0 in /usr/local/lib/python3.10/dist-packages (from scikit-learn>=1.0.0->pyLDAvis) (3.1.0)\n",
            "Requirement already satisfied: smart-open>=1.8.1 in /usr/local/lib/python3.10/dist-packages (from gensim->pyLDAvis) (6.3.0)\n",
            "Requirement already satisfied: MarkupSafe>=2.0 in /usr/local/lib/python3.10/dist-packages (from jinja2->pyLDAvis) (2.1.2)\n",
            "Requirement already satisfied: six>=1.5 in /usr/local/lib/python3.10/dist-packages (from python-dateutil>=2.8.2->pandas>=2.0.0->pyLDAvis) (1.16.0)\n"
          ]
        }
      ],
      "source": [
        "!pip install pyLDAvis"
      ]
    },
    {
      "cell_type": "code",
      "execution_count": null,
      "metadata": {
        "id": "M8Vqi-pPk-HR"
      },
      "outputs": [],
      "source": [
        "# Import Libraries\n",
        "import numpy as np\n",
        "import pandas as pd\n",
        "import seaborn as sns\n",
        "import matplotlib.pyplot as plt\n",
        "import os\n",
        "import warnings\n",
        "warnings.filterwarnings('ignore')"
      ]
    },
    {
      "cell_type": "code",
      "execution_count": null,
      "metadata": {
        "colab": {
          "base_uri": "https://localhost:8080/"
        },
        "id": "0s2NTlmfnufK",
        "outputId": "ff7ff0c5-10ba-4784-dd16-fed57149612e"
      },
      "outputs": [
        {
          "name": "stderr",
          "output_type": "stream",
          "text": [
            "[nltk_data] Downloading package punkt to /root/nltk_data...\n",
            "[nltk_data]   Package punkt is already up-to-date!\n",
            "[nltk_data] Downloading package wordnet to /root/nltk_data...\n",
            "[nltk_data]   Package wordnet is already up-to-date!\n",
            "[nltk_data] Downloading package averaged_perceptron_tagger to\n",
            "[nltk_data]     /root/nltk_data...\n",
            "[nltk_data]   Package averaged_perceptron_tagger is already up-to-\n",
            "[nltk_data]       date!\n",
            "[nltk_data] Downloading package stopwords to /root/nltk_data...\n",
            "[nltk_data]   Package stopwords is already up-to-date!\n"
          ]
        }
      ],
      "source": [
        "# library used for textual data prerocessing\n",
        "import nltk\n",
        "from nltk.tokenize import word_tokenize\n",
        "nltk.download('punkt')\n",
        "nltk.download('wordnet')\n",
        "from nltk.corpus import wordnet\n",
        "from nltk.stem import WordNetLemmatizer\n",
        "nltk.download('averaged_perceptron_tagger')\n",
        "\n",
        "nltk.download('stopwords')\n",
        "from nltk.corpus import stopwords\n",
        "import string"
      ]
    },
    {
      "cell_type": "code",
      "execution_count": null,
      "metadata": {
        "colab": {
          "base_uri": "https://localhost:8080/"
        },
        "id": "Kq0MyV9glC6E",
        "outputId": "c3c814d0-72f4-40d8-d89d-31c70cf88139"
      },
      "outputs": [
        {
          "name": "stdout",
          "output_type": "stream",
          "text": [
            "Looking in indexes: https://pypi.org/simple, https://us-python.pkg.dev/colab-wheels/public/simple/\n",
            "Collecting contractions\n",
            "  Using cached contractions-0.1.73-py2.py3-none-any.whl (8.7 kB)\n",
            "Collecting textsearch>=0.0.21 (from contractions)\n",
            "  Using cached textsearch-0.0.24-py2.py3-none-any.whl (7.6 kB)\n",
            "Collecting anyascii (from textsearch>=0.0.21->contractions)\n",
            "  Using cached anyascii-0.3.2-py3-none-any.whl (289 kB)\n",
            "Collecting pyahocorasick (from textsearch>=0.0.21->contractions)\n",
            "  Using cached pyahocorasick-2.0.0-cp310-cp310-manylinux_2_5_x86_64.manylinux1_x86_64.manylinux_2_12_x86_64.manylinux2010_x86_64.whl (110 kB)\n",
            "Installing collected packages: pyahocorasick, anyascii, textsearch, contractions\n",
            "Successfully installed anyascii-0.3.2 contractions-0.1.73 pyahocorasick-2.0.0 textsearch-0.0.24\n"
          ]
        }
      ],
      "source": [
        "!pip install contractions\n",
        "import contractions"
      ]
    },
    {
      "cell_type": "code",
      "execution_count": null,
      "metadata": {
        "colab": {
          "base_uri": "https://localhost:8080/"
        },
        "id": "MDAbXNPy1Xtw",
        "outputId": "4976774b-3b5c-4560-8605-140453bc83c8"
      },
      "outputs": [
        {
          "name": "stderr",
          "output_type": "stream",
          "text": [
            "/usr/local/lib/python3.10/dist-packages/google/rpc/__init__.py:20: DeprecationWarning: Deprecated call to `pkg_resources.declare_namespace('google.rpc')`.\n",
            "Implementing implicit namespace packages (as specified in PEP 420) is preferred to `pkg_resources.declare_namespace`. See https://setuptools.pypa.io/en/latest/references/keywords.html#keyword-namespace-packages\n",
            "  pkg_resources.declare_namespace(__name__)\n",
            "/usr/local/lib/python3.10/dist-packages/pkg_resources/__init__.py:2349: DeprecationWarning: Deprecated call to `pkg_resources.declare_namespace('google')`.\n",
            "Implementing implicit namespace packages (as specified in PEP 420) is preferred to `pkg_resources.declare_namespace`. See https://setuptools.pypa.io/en/latest/references/keywords.html#keyword-namespace-packages\n",
            "  declare_namespace(parent)\n"
          ]
        }
      ],
      "source": [
        "import pyLDAvis\n",
        "import pyLDAvis.gensim\n",
        "import gensim\n",
        "import gensim.corpora as corpora\n",
        "from gensim.utils import simple_preprocess\n",
        "from gensim.models import CoherenceModel"
      ]
    },
    {
      "cell_type": "markdown",
      "metadata": {
        "id": "3RnN4peoiCZX"
      },
      "source": [
        "### Dataset Loading"
      ]
    },
    {
      "cell_type": "code",
      "execution_count": null,
      "metadata": {
        "colab": {
          "base_uri": "https://localhost:8080/"
        },
        "id": "4CkvbW_SlZ_R",
        "outputId": "4897d8fb-0fe8-461f-cb88-3333f51afac5"
      },
      "outputs": [
        {
          "name": "stderr",
          "output_type": "stream",
          "text": [
            "/usr/local/lib/python3.10/dist-packages/ipykernel/ipkernel.py:283: DeprecationWarning: `should_run_async` will not call `transform_cell` automatically in the future. Please pass the result to `transformed_cell` argument and any exception that happen during thetransform in `preprocessing_exc_tuple` in IPython 7.17 and above.\n",
            "  and should_run_async(code)\n",
            "/usr/local/lib/python3.10/dist-packages/pexpect/popen_spawn.py:60: DeprecationWarning: setDaemon() is deprecated, set the daemon attribute instead\n",
            "  self._read_thread.setDaemon(True)\n"
          ]
        },
        {
          "name": "stdout",
          "output_type": "stream",
          "text": [
            "Mounted at /content/drive\n"
          ]
        }
      ],
      "source": [
        "# Load Dataset\n",
        "from google.colab import drive\n",
        "drive.mount('/content/drive')"
      ]
    },
    {
      "cell_type": "code",
      "execution_count": null,
      "metadata": {
        "colab": {
          "base_uri": "https://localhost:8080/"
        },
        "id": "idSrsyAKho8K",
        "outputId": "e8c2987b-5e18-41e5-855e-24d77da94885"
      },
      "outputs": [
        {
          "name": "stderr",
          "output_type": "stream",
          "text": [
            "/usr/local/lib/python3.10/dist-packages/ipykernel/ipkernel.py:283: DeprecationWarning: `should_run_async` will not call `transform_cell` automatically in the future. Please pass the result to `transformed_cell` argument and any exception that happen during thetransform in `preprocessing_exc_tuple` in IPython 7.17 and above.\n",
            "  and should_run_async(code)\n"
          ]
        },
        {
          "name": "stdout",
          "output_type": "stream",
          "text": [
            "/content/drive/MyDrive/dat/bbc\n"
          ]
        }
      ],
      "source": [
        "%cd '/content/drive/MyDrive/dat/bbc'"
      ]
    },
    {
      "cell_type": "code",
      "execution_count": null,
      "metadata": {
        "colab": {
          "base_uri": "https://localhost:8080/"
        },
        "id": "n5728pWLjGOO",
        "outputId": "0fa20616-ad9c-4670-ccca-ded7d09257e6"
      },
      "outputs": [
        {
          "name": "stderr",
          "output_type": "stream",
          "text": [
            "/usr/local/lib/python3.10/dist-packages/ipykernel/ipkernel.py:283: DeprecationWarning: `should_run_async` will not call `transform_cell` automatically in the future. Please pass the result to `transformed_cell` argument and any exception that happen during thetransform in `preprocessing_exc_tuple` in IPython 7.17 and above.\n",
            "  and should_run_async(code)\n"
          ]
        }
      ],
      "source": [
        "!cp -r \"/content/drive/MyDrive/dat/bbc\" \"/content/\""
      ]
    },
    {
      "cell_type": "code",
      "execution_count": null,
      "metadata": {
        "colab": {
          "base_uri": "https://localhost:8080/"
        },
        "id": "ok6OBbhgqqGN",
        "outputId": "b28e2d4d-e06b-4e56-c933-bcfd2fee2ed5"
      },
      "outputs": [
        {
          "name": "stderr",
          "output_type": "stream",
          "text": [
            "/usr/local/lib/python3.10/dist-packages/ipykernel/ipkernel.py:283: DeprecationWarning: `should_run_async` will not call `transform_cell` automatically in the future. Please pass the result to `transformed_cell` argument and any exception that happen during thetransform in `preprocessing_exc_tuple` in IPython 7.17 and above.\n",
            "  and should_run_async(code)\n"
          ]
        }
      ],
      "source": [
        "busi_df= pd.DataFrame(os.listdir('/content/bbc/business'))\n",
        "ent_df= pd.DataFrame(os.listdir('/content/bbc/entertainment'))\n",
        "poli_df= pd.DataFrame(os.listdir('/content/bbc/politics'))\n",
        "spo_df= pd.DataFrame(os.listdir('/content/bbc/sport'))\n",
        "techno_df= pd.DataFrame(os.listdir('/content/bbc/tech'))"
      ]
    },
    {
      "cell_type": "code",
      "execution_count": null,
      "metadata": {
        "colab": {
          "base_uri": "https://localhost:8080/"
        },
        "id": "fi9afundeBfr",
        "outputId": "30ae3625-0023-41af-be5d-8ad2c95217e9"
      },
      "outputs": [
        {
          "name": "stderr",
          "output_type": "stream",
          "text": [
            "/usr/local/lib/python3.10/dist-packages/ipykernel/ipkernel.py:283: DeprecationWarning: `should_run_async` will not call `transform_cell` automatically in the future. Please pass the result to `transformed_cell` argument and any exception that happen during thetransform in `preprocessing_exc_tuple` in IPython 7.17 and above.\n",
            "  and should_run_async(code)\n"
          ]
        }
      ],
      "source": [
        "busi_df['content']= 'business'\n",
        "ent_df['content']= 'entertainment'\n",
        "poli_df['content']= 'politics'\n",
        "spo_df['content']= 'sports'\n",
        "techno_df['content']= 'technology'"
      ]
    },
    {
      "cell_type": "code",
      "execution_count": null,
      "metadata": {
        "colab": {
          "base_uri": "https://localhost:8080/",
          "height": 261
        },
        "id": "_rhb6F2CeyfC",
        "outputId": "9ac85163-c967-4fba-d364-4c721860d261"
      },
      "outputs": [
        {
          "name": "stderr",
          "output_type": "stream",
          "text": [
            "/usr/local/lib/python3.10/dist-packages/ipykernel/ipkernel.py:283: DeprecationWarning: `should_run_async` will not call `transform_cell` automatically in the future. Please pass the result to `transformed_cell` argument and any exception that happen during thetransform in `preprocessing_exc_tuple` in IPython 7.17 and above.\n",
            "  and should_run_async(code)\n"
          ]
        },
        {
          "data": {
            "text/html": [
              "\n",
              "  <div id=\"df-3d8e420f-1378-40ba-82ba-42f433f48389\">\n",
              "    <div class=\"colab-df-container\">\n",
              "      <div>\n",
              "<style scoped>\n",
              "    .dataframe tbody tr th:only-of-type {\n",
              "        vertical-align: middle;\n",
              "    }\n",
              "\n",
              "    .dataframe tbody tr th {\n",
              "        vertical-align: top;\n",
              "    }\n",
              "\n",
              "    .dataframe thead th {\n",
              "        text-align: right;\n",
              "    }\n",
              "</style>\n",
              "<table border=\"1\" class=\"dataframe\">\n",
              "  <thead>\n",
              "    <tr style=\"text-align: right;\">\n",
              "      <th></th>\n",
              "      <th>0</th>\n",
              "      <th>content</th>\n",
              "    </tr>\n",
              "  </thead>\n",
              "  <tbody>\n",
              "    <tr>\n",
              "      <th>0</th>\n",
              "      <td>241.txt</td>\n",
              "      <td>business</td>\n",
              "    </tr>\n",
              "    <tr>\n",
              "      <th>1</th>\n",
              "      <td>431.txt</td>\n",
              "      <td>business</td>\n",
              "    </tr>\n",
              "    <tr>\n",
              "      <th>2</th>\n",
              "      <td>080.txt</td>\n",
              "      <td>business</td>\n",
              "    </tr>\n",
              "    <tr>\n",
              "      <th>3</th>\n",
              "      <td>296.txt</td>\n",
              "      <td>business</td>\n",
              "    </tr>\n",
              "    <tr>\n",
              "      <th>4</th>\n",
              "      <td>293.txt</td>\n",
              "      <td>business</td>\n",
              "    </tr>\n",
              "  </tbody>\n",
              "</table>\n",
              "</div>\n",
              "      <button class=\"colab-df-convert\" onclick=\"convertToInteractive('df-3d8e420f-1378-40ba-82ba-42f433f48389')\"\n",
              "              title=\"Convert this dataframe to an interactive table.\"\n",
              "              style=\"display:none;\">\n",
              "        \n",
              "  <svg xmlns=\"http://www.w3.org/2000/svg\" height=\"24px\"viewBox=\"0 0 24 24\"\n",
              "       width=\"24px\">\n",
              "    <path d=\"M0 0h24v24H0V0z\" fill=\"none\"/>\n",
              "    <path d=\"M18.56 5.44l.94 2.06.94-2.06 2.06-.94-2.06-.94-.94-2.06-.94 2.06-2.06.94zm-11 1L8.5 8.5l.94-2.06 2.06-.94-2.06-.94L8.5 2.5l-.94 2.06-2.06.94zm10 10l.94 2.06.94-2.06 2.06-.94-2.06-.94-.94-2.06-.94 2.06-2.06.94z\"/><path d=\"M17.41 7.96l-1.37-1.37c-.4-.4-.92-.59-1.43-.59-.52 0-1.04.2-1.43.59L10.3 9.45l-7.72 7.72c-.78.78-.78 2.05 0 2.83L4 21.41c.39.39.9.59 1.41.59.51 0 1.02-.2 1.41-.59l7.78-7.78 2.81-2.81c.8-.78.8-2.07 0-2.86zM5.41 20L4 18.59l7.72-7.72 1.47 1.35L5.41 20z\"/>\n",
              "  </svg>\n",
              "      </button>\n",
              "      \n",
              "  <style>\n",
              "    .colab-df-container {\n",
              "      display:flex;\n",
              "      flex-wrap:wrap;\n",
              "      gap: 12px;\n",
              "    }\n",
              "\n",
              "    .colab-df-convert {\n",
              "      background-color: #E8F0FE;\n",
              "      border: none;\n",
              "      border-radius: 50%;\n",
              "      cursor: pointer;\n",
              "      display: none;\n",
              "      fill: #1967D2;\n",
              "      height: 32px;\n",
              "      padding: 0 0 0 0;\n",
              "      width: 32px;\n",
              "    }\n",
              "\n",
              "    .colab-df-convert:hover {\n",
              "      background-color: #E2EBFA;\n",
              "      box-shadow: 0px 1px 2px rgba(60, 64, 67, 0.3), 0px 1px 3px 1px rgba(60, 64, 67, 0.15);\n",
              "      fill: #174EA6;\n",
              "    }\n",
              "\n",
              "    [theme=dark] .colab-df-convert {\n",
              "      background-color: #3B4455;\n",
              "      fill: #D2E3FC;\n",
              "    }\n",
              "\n",
              "    [theme=dark] .colab-df-convert:hover {\n",
              "      background-color: #434B5C;\n",
              "      box-shadow: 0px 1px 3px 1px rgba(0, 0, 0, 0.15);\n",
              "      filter: drop-shadow(0px 1px 2px rgba(0, 0, 0, 0.3));\n",
              "      fill: #FFFFFF;\n",
              "    }\n",
              "  </style>\n",
              "\n",
              "      <script>\n",
              "        const buttonEl =\n",
              "          document.querySelector('#df-3d8e420f-1378-40ba-82ba-42f433f48389 button.colab-df-convert');\n",
              "        buttonEl.style.display =\n",
              "          google.colab.kernel.accessAllowed ? 'block' : 'none';\n",
              "\n",
              "        async function convertToInteractive(key) {\n",
              "          const element = document.querySelector('#df-3d8e420f-1378-40ba-82ba-42f433f48389');\n",
              "          const dataTable =\n",
              "            await google.colab.kernel.invokeFunction('convertToInteractive',\n",
              "                                                     [key], {});\n",
              "          if (!dataTable) return;\n",
              "\n",
              "          const docLinkHtml = 'Like what you see? Visit the ' +\n",
              "            '<a target=\"_blank\" href=https://colab.research.google.com/notebooks/data_table.ipynb>data table notebook</a>'\n",
              "            + ' to learn more about interactive tables.';\n",
              "          element.innerHTML = '';\n",
              "          dataTable['output_type'] = 'display_data';\n",
              "          await google.colab.output.renderOutput(dataTable, element);\n",
              "          const docLink = document.createElement('div');\n",
              "          docLink.innerHTML = docLinkHtml;\n",
              "          element.appendChild(docLink);\n",
              "        }\n",
              "      </script>\n",
              "    </div>\n",
              "  </div>\n",
              "  "
            ],
            "text/plain": [
              "         0   content\n",
              "0  241.txt  business\n",
              "1  431.txt  business\n",
              "2  080.txt  business\n",
              "3  296.txt  business\n",
              "4  293.txt  business"
            ]
          },
          "execution_count": 12,
          "metadata": {},
          "output_type": "execute_result"
        }
      ],
      "source": [
        "busi_df.head()"
      ]
    },
    {
      "cell_type": "code",
      "execution_count": null,
      "metadata": {
        "colab": {
          "base_uri": "https://localhost:8080/"
        },
        "id": "UedKlLBsrE7c",
        "outputId": "81042f8a-dfab-4796-ea4c-6c1e77861685"
      },
      "outputs": [
        {
          "name": "stderr",
          "output_type": "stream",
          "text": [
            "/usr/local/lib/python3.10/dist-packages/ipykernel/ipkernel.py:283: DeprecationWarning: `should_run_async` will not call `transform_cell` automatically in the future. Please pass the result to `transformed_cell` argument and any exception that happen during thetransform in `preprocessing_exc_tuple` in IPython 7.17 and above.\n",
            "  and should_run_async(code)\n"
          ]
        }
      ],
      "source": [
        "def document(x,folder):\n",
        "  df = pd.read_csv( '/content/bbc/'+folder + '/'+ x , sep = '\\t',header = None)\n",
        "  return ' '.join(df[0].values)"
      ]
    },
    {
      "cell_type": "code",
      "execution_count": null,
      "metadata": {
        "colab": {
          "base_uri": "https://localhost:8080/"
        },
        "id": "JKa8EEK5rv_U",
        "outputId": "f5d65489-65c0-4462-e646-eabb6be3b4f8"
      },
      "outputs": [
        {
          "name": "stderr",
          "output_type": "stream",
          "text": [
            "/usr/local/lib/python3.10/dist-packages/ipykernel/ipkernel.py:283: DeprecationWarning: `should_run_async` will not call `transform_cell` automatically in the future. Please pass the result to `transformed_cell` argument and any exception that happen during thetransform in `preprocessing_exc_tuple` in IPython 7.17 and above.\n",
            "  and should_run_async(code)\n"
          ]
        }
      ],
      "source": [
        "busi_df[0]= busi_df[0].apply(document , args = ('business',))\n",
        "ent_df[0]= ent_df[0].apply(document , args = ('entertainment',))\n",
        "poli_df[0]= poli_df[0].apply(document , args = ('politics',))\n",
        "techno_df[0]= techno_df[0].apply(document , args = ('tech',))"
      ]
    },
    {
      "cell_type": "code",
      "execution_count": null,
      "metadata": {
        "colab": {
          "base_uri": "https://localhost:8080/"
        },
        "id": "F8981TiBtD3W",
        "outputId": "bc46d751-6072-44df-f220-ce303438a9f6"
      },
      "outputs": [
        {
          "name": "stderr",
          "output_type": "stream",
          "text": [
            "/usr/local/lib/python3.10/dist-packages/ipykernel/ipkernel.py:283: DeprecationWarning: `should_run_async` will not call `transform_cell` automatically in the future. Please pass the result to `transformed_cell` argument and any exception that happen during thetransform in `preprocessing_exc_tuple` in IPython 7.17 and above.\n",
            "  and should_run_async(code)\n"
          ]
        }
      ],
      "source": [
        "def sport_document(x):\n",
        "  if x !='272.txt':\n",
        "    df = pd.read_csv('/content/bbc/sport/'+ x , sep = '\\t',header = None ,encoding = 'latin' )\n",
        "    return ' '.join(df[0].values)"
      ]
    },
    {
      "cell_type": "code",
      "execution_count": null,
      "metadata": {
        "colab": {
          "base_uri": "https://localhost:8080/"
        },
        "id": "px_tP-V_s61w",
        "outputId": "a5b1d2f6-7046-4e74-b0f0-186e1fdec694"
      },
      "outputs": [
        {
          "name": "stderr",
          "output_type": "stream",
          "text": [
            "/usr/local/lib/python3.10/dist-packages/ipykernel/ipkernel.py:283: DeprecationWarning: `should_run_async` will not call `transform_cell` automatically in the future. Please pass the result to `transformed_cell` argument and any exception that happen during thetransform in `preprocessing_exc_tuple` in IPython 7.17 and above.\n",
            "  and should_run_async(code)\n"
          ]
        }
      ],
      "source": [
        "spo_df[0]= spo_df[0].apply(sport_document )"
      ]
    },
    {
      "cell_type": "code",
      "execution_count": null,
      "metadata": {
        "colab": {
          "base_uri": "https://localhost:8080/"
        },
        "id": "Hmj0neDmydk1",
        "outputId": "42350aff-dc2f-4222-88bc-9cc1ce2b6f16"
      },
      "outputs": [
        {
          "name": "stderr",
          "output_type": "stream",
          "text": [
            "/usr/local/lib/python3.10/dist-packages/ipykernel/ipkernel.py:283: DeprecationWarning: `should_run_async` will not call `transform_cell` automatically in the future. Please pass the result to `transformed_cell` argument and any exception that happen during thetransform in `preprocessing_exc_tuple` in IPython 7.17 and above.\n",
            "  and should_run_async(code)\n"
          ]
        }
      ],
      "source": [
        "#spo_df[0][232]=' '.join(pd.read_csv('/content/bbc/sport/272.txt' ,error_bad_lines=False, engine=\"python\",header= None)[0].values)"
      ]
    },
    {
      "cell_type": "markdown",
      "metadata": {
        "id": "x71ZqKXriCWQ"
      },
      "source": [
        "### Dataset First View"
      ]
    },
    {
      "cell_type": "code",
      "execution_count": null,
      "metadata": {
        "colab": {
          "base_uri": "https://localhost:8080/"
        },
        "id": "LWNFOSvLl09H",
        "outputId": "b8e38d44-66e3-45d4-fc7b-f72c6fe68c4f"
      },
      "outputs": [
        {
          "name": "stderr",
          "output_type": "stream",
          "text": [
            "/usr/local/lib/python3.10/dist-packages/ipykernel/ipkernel.py:283: DeprecationWarning: `should_run_async` will not call `transform_cell` automatically in the future. Please pass the result to `transformed_cell` argument and any exception that happen during thetransform in `preprocessing_exc_tuple` in IPython 7.17 and above.\n",
            "  and should_run_async(code)\n"
          ]
        }
      ],
      "source": [
        "# Dataset First Look\n",
        "news_df = pd.concat([busi_df, ent_df, poli_df, spo_df, techno_df] ,axis= 0).reset_index()"
      ]
    },
    {
      "cell_type": "code",
      "execution_count": null,
      "metadata": {
        "colab": {
          "base_uri": "https://localhost:8080/"
        },
        "id": "kgONRR039-xH",
        "outputId": "f00771a3-c2d5-4c69-c804-c892324c62bd"
      },
      "outputs": [
        {
          "name": "stderr",
          "output_type": "stream",
          "text": [
            "/usr/local/lib/python3.10/dist-packages/ipykernel/ipkernel.py:283: DeprecationWarning: `should_run_async` will not call `transform_cell` automatically in the future. Please pass the result to `transformed_cell` argument and any exception that happen during thetransform in `preprocessing_exc_tuple` in IPython 7.17 and above.\n",
            "  and should_run_async(code)\n"
          ]
        },
        {
          "data": {
            "text/html": [
              "\n",
              "  <div id=\"df-2a5cd641-d5ae-4799-9ab0-4171f41dbe60\">\n",
              "    <div class=\"colab-df-container\">\n",
              "      <div>\n",
              "<style scoped>\n",
              "    .dataframe tbody tr th:only-of-type {\n",
              "        vertical-align: middle;\n",
              "    }\n",
              "\n",
              "    .dataframe tbody tr th {\n",
              "        vertical-align: top;\n",
              "    }\n",
              "\n",
              "    .dataframe thead th {\n",
              "        text-align: right;\n",
              "    }\n",
              "</style>\n",
              "<table border=\"1\" class=\"dataframe\">\n",
              "  <thead>\n",
              "    <tr style=\"text-align: right;\">\n",
              "      <th></th>\n",
              "      <th>index</th>\n",
              "      <th>0</th>\n",
              "      <th>content</th>\n",
              "    </tr>\n",
              "  </thead>\n",
              "  <tbody>\n",
              "    <tr>\n",
              "      <th>0</th>\n",
              "      <td>0</td>\n",
              "      <td>G7 backs Africa debt relief plan G7 finance mi...</td>\n",
              "      <td>business</td>\n",
              "    </tr>\n",
              "    <tr>\n",
              "      <th>1</th>\n",
              "      <td>1</td>\n",
              "      <td>Mitsubishi in Peugeot link talks Trouble-hit M...</td>\n",
              "      <td>business</td>\n",
              "    </tr>\n",
              "    <tr>\n",
              "      <th>2</th>\n",
              "      <td>2</td>\n",
              "      <td>Argentina, Venezuela in oil deal Argentina and...</td>\n",
              "      <td>business</td>\n",
              "    </tr>\n",
              "    <tr>\n",
              "      <th>3</th>\n",
              "      <td>3</td>\n",
              "      <td>Millions 'to lose textile jobs' Millions of th...</td>\n",
              "      <td>business</td>\n",
              "    </tr>\n",
              "    <tr>\n",
              "      <th>4</th>\n",
              "      <td>4</td>\n",
              "      <td>Glazer makes new Man Utd approach Malcolm Glaz...</td>\n",
              "      <td>business</td>\n",
              "    </tr>\n",
              "    <tr>\n",
              "      <th>...</th>\n",
              "      <td>...</td>\n",
              "      <td>...</td>\n",
              "      <td>...</td>\n",
              "    </tr>\n",
              "    <tr>\n",
              "      <th>2220</th>\n",
              "      <td>396</td>\n",
              "      <td>Progress on new internet domains By early 2005...</td>\n",
              "      <td>technology</td>\n",
              "    </tr>\n",
              "    <tr>\n",
              "      <th>2221</th>\n",
              "      <td>397</td>\n",
              "      <td>Warnings on woeful wi-fi security Companies ar...</td>\n",
              "      <td>technology</td>\n",
              "    </tr>\n",
              "    <tr>\n",
              "      <th>2222</th>\n",
              "      <td>398</td>\n",
              "      <td>Remote control rifle range debuts Soon you cou...</td>\n",
              "      <td>technology</td>\n",
              "    </tr>\n",
              "    <tr>\n",
              "      <th>2223</th>\n",
              "      <td>399</td>\n",
              "      <td>Pandas benefit from wireless net The world's d...</td>\n",
              "      <td>technology</td>\n",
              "    </tr>\n",
              "    <tr>\n",
              "      <th>2224</th>\n",
              "      <td>400</td>\n",
              "      <td>US duo in first spam conviction A brother and ...</td>\n",
              "      <td>technology</td>\n",
              "    </tr>\n",
              "  </tbody>\n",
              "</table>\n",
              "<p>2225 rows × 3 columns</p>\n",
              "</div>\n",
              "      <button class=\"colab-df-convert\" onclick=\"convertToInteractive('df-2a5cd641-d5ae-4799-9ab0-4171f41dbe60')\"\n",
              "              title=\"Convert this dataframe to an interactive table.\"\n",
              "              style=\"display:none;\">\n",
              "        \n",
              "  <svg xmlns=\"http://www.w3.org/2000/svg\" height=\"24px\"viewBox=\"0 0 24 24\"\n",
              "       width=\"24px\">\n",
              "    <path d=\"M0 0h24v24H0V0z\" fill=\"none\"/>\n",
              "    <path d=\"M18.56 5.44l.94 2.06.94-2.06 2.06-.94-2.06-.94-.94-2.06-.94 2.06-2.06.94zm-11 1L8.5 8.5l.94-2.06 2.06-.94-2.06-.94L8.5 2.5l-.94 2.06-2.06.94zm10 10l.94 2.06.94-2.06 2.06-.94-2.06-.94-.94-2.06-.94 2.06-2.06.94z\"/><path d=\"M17.41 7.96l-1.37-1.37c-.4-.4-.92-.59-1.43-.59-.52 0-1.04.2-1.43.59L10.3 9.45l-7.72 7.72c-.78.78-.78 2.05 0 2.83L4 21.41c.39.39.9.59 1.41.59.51 0 1.02-.2 1.41-.59l7.78-7.78 2.81-2.81c.8-.78.8-2.07 0-2.86zM5.41 20L4 18.59l7.72-7.72 1.47 1.35L5.41 20z\"/>\n",
              "  </svg>\n",
              "      </button>\n",
              "      \n",
              "  <style>\n",
              "    .colab-df-container {\n",
              "      display:flex;\n",
              "      flex-wrap:wrap;\n",
              "      gap: 12px;\n",
              "    }\n",
              "\n",
              "    .colab-df-convert {\n",
              "      background-color: #E8F0FE;\n",
              "      border: none;\n",
              "      border-radius: 50%;\n",
              "      cursor: pointer;\n",
              "      display: none;\n",
              "      fill: #1967D2;\n",
              "      height: 32px;\n",
              "      padding: 0 0 0 0;\n",
              "      width: 32px;\n",
              "    }\n",
              "\n",
              "    .colab-df-convert:hover {\n",
              "      background-color: #E2EBFA;\n",
              "      box-shadow: 0px 1px 2px rgba(60, 64, 67, 0.3), 0px 1px 3px 1px rgba(60, 64, 67, 0.15);\n",
              "      fill: #174EA6;\n",
              "    }\n",
              "\n",
              "    [theme=dark] .colab-df-convert {\n",
              "      background-color: #3B4455;\n",
              "      fill: #D2E3FC;\n",
              "    }\n",
              "\n",
              "    [theme=dark] .colab-df-convert:hover {\n",
              "      background-color: #434B5C;\n",
              "      box-shadow: 0px 1px 3px 1px rgba(0, 0, 0, 0.15);\n",
              "      filter: drop-shadow(0px 1px 2px rgba(0, 0, 0, 0.3));\n",
              "      fill: #FFFFFF;\n",
              "    }\n",
              "  </style>\n",
              "\n",
              "      <script>\n",
              "        const buttonEl =\n",
              "          document.querySelector('#df-2a5cd641-d5ae-4799-9ab0-4171f41dbe60 button.colab-df-convert');\n",
              "        buttonEl.style.display =\n",
              "          google.colab.kernel.accessAllowed ? 'block' : 'none';\n",
              "\n",
              "        async function convertToInteractive(key) {\n",
              "          const element = document.querySelector('#df-2a5cd641-d5ae-4799-9ab0-4171f41dbe60');\n",
              "          const dataTable =\n",
              "            await google.colab.kernel.invokeFunction('convertToInteractive',\n",
              "                                                     [key], {});\n",
              "          if (!dataTable) return;\n",
              "\n",
              "          const docLinkHtml = 'Like what you see? Visit the ' +\n",
              "            '<a target=\"_blank\" href=https://colab.research.google.com/notebooks/data_table.ipynb>data table notebook</a>'\n",
              "            + ' to learn more about interactive tables.';\n",
              "          element.innerHTML = '';\n",
              "          dataTable['output_type'] = 'display_data';\n",
              "          await google.colab.output.renderOutput(dataTable, element);\n",
              "          const docLink = document.createElement('div');\n",
              "          docLink.innerHTML = docLinkHtml;\n",
              "          element.appendChild(docLink);\n",
              "        }\n",
              "      </script>\n",
              "    </div>\n",
              "  </div>\n",
              "  "
            ],
            "text/plain": [
              "      index                                                  0     content\n",
              "0         0  G7 backs Africa debt relief plan G7 finance mi...    business\n",
              "1         1  Mitsubishi in Peugeot link talks Trouble-hit M...    business\n",
              "2         2  Argentina, Venezuela in oil deal Argentina and...    business\n",
              "3         3  Millions 'to lose textile jobs' Millions of th...    business\n",
              "4         4  Glazer makes new Man Utd approach Malcolm Glaz...    business\n",
              "...     ...                                                ...         ...\n",
              "2220    396  Progress on new internet domains By early 2005...  technology\n",
              "2221    397  Warnings on woeful wi-fi security Companies ar...  technology\n",
              "2222    398  Remote control rifle range debuts Soon you cou...  technology\n",
              "2223    399  Pandas benefit from wireless net The world's d...  technology\n",
              "2224    400  US duo in first spam conviction A brother and ...  technology\n",
              "\n",
              "[2225 rows x 3 columns]"
            ]
          },
          "execution_count": 19,
          "metadata": {},
          "output_type": "execute_result"
        }
      ],
      "source": [
        "news_df"
      ]
    },
    {
      "cell_type": "markdown",
      "metadata": {
        "id": "7hBIi_osiCS2"
      },
      "source": [
        "### Dataset Rows & Columns count"
      ]
    },
    {
      "cell_type": "code",
      "execution_count": null,
      "metadata": {
        "colab": {
          "base_uri": "https://localhost:8080/"
        },
        "id": "Kllu7SJgmLij",
        "outputId": "9a6e6dbb-af6c-4729-9251-94d5fe443066"
      },
      "outputs": [
        {
          "name": "stdout",
          "output_type": "stream",
          "text": [
            "Number of rows in DataFrame is 2225\n",
            "The news data points arranged in series, so it has no columns.\n"
          ]
        },
        {
          "name": "stderr",
          "output_type": "stream",
          "text": [
            "/usr/local/lib/python3.10/dist-packages/ipykernel/ipkernel.py:283: DeprecationWarning: `should_run_async` will not call `transform_cell` automatically in the future. Please pass the result to `transformed_cell` argument and any exception that happen during thetransform in `preprocessing_exc_tuple` in IPython 7.17 and above.\n",
            "  and should_run_async(code)\n"
          ]
        }
      ],
      "source": [
        "# Dataset Rows & Columns count\n",
        "print('Number of rows in DataFrame is',len(news_df))\n",
        "print('The news data points arranged in series, so it has no columns.')"
      ]
    },
    {
      "cell_type": "markdown",
      "metadata": {
        "id": "JlHwYmJAmNHm"
      },
      "source": [
        "### Dataset Information"
      ]
    },
    {
      "cell_type": "code",
      "execution_count": null,
      "metadata": {
        "colab": {
          "base_uri": "https://localhost:8080/"
        },
        "id": "e9hRXRi6meOf",
        "outputId": "efada611-30d0-49b8-dd6b-166236b139b7"
      },
      "outputs": [
        {
          "name": "stdout",
          "output_type": "stream",
          "text": [
            "<class 'pandas.core.frame.DataFrame'>\n",
            "RangeIndex: 2225 entries, 0 to 2224\n",
            "Data columns (total 3 columns):\n",
            " #   Column   Non-Null Count  Dtype \n",
            "---  ------   --------------  ----- \n",
            " 0   index    2225 non-null   int64 \n",
            " 1   0        2224 non-null   object\n",
            " 2   content  2225 non-null   object\n",
            "dtypes: int64(1), object(2)\n",
            "memory usage: 52.3+ KB\n"
          ]
        },
        {
          "name": "stderr",
          "output_type": "stream",
          "text": [
            "/usr/local/lib/python3.10/dist-packages/ipykernel/ipkernel.py:283: DeprecationWarning: `should_run_async` will not call `transform_cell` automatically in the future. Please pass the result to `transformed_cell` argument and any exception that happen during thetransform in `preprocessing_exc_tuple` in IPython 7.17 and above.\n",
            "  and should_run_async(code)\n"
          ]
        }
      ],
      "source": [
        "# Dataset Info\n",
        "news_df.info()"
      ]
    },
    {
      "cell_type": "markdown",
      "metadata": {
        "id": "35m5QtbWiB9F"
      },
      "source": [
        "#### Duplicate Values"
      ]
    },
    {
      "cell_type": "code",
      "execution_count": null,
      "metadata": {
        "colab": {
          "base_uri": "https://localhost:8080/"
        },
        "id": "QfmZ_xpDB4WT",
        "outputId": "0da927d0-b35e-42c8-da1b-66f7df82c4dc"
      },
      "outputs": [
        {
          "name": "stdout",
          "output_type": "stream",
          "text": [
            "There are 0 duplicated columns.\n"
          ]
        },
        {
          "name": "stderr",
          "output_type": "stream",
          "text": [
            "/usr/local/lib/python3.10/dist-packages/ipykernel/ipkernel.py:283: DeprecationWarning: `should_run_async` will not call `transform_cell` automatically in the future. Please pass the result to `transformed_cell` argument and any exception that happen during thetransform in `preprocessing_exc_tuple` in IPython 7.17 and above.\n",
            "  and should_run_async(code)\n"
          ]
        }
      ],
      "source": [
        "# Dataset Duplicate Value Count\n",
        "print('There are',news_df.duplicated().sum(),'duplicated columns.')"
      ]
    },
    {
      "cell_type": "markdown",
      "metadata": {
        "id": "PoPl-ycgm1ru"
      },
      "source": [
        "#### Missing Values/Null Values"
      ]
    },
    {
      "cell_type": "code",
      "execution_count": null,
      "metadata": {
        "colab": {
          "base_uri": "https://localhost:8080/"
        },
        "id": "GgHWkxvamxVg",
        "outputId": "5a267fec-0848-492f-a2c9-92110b280c44"
      },
      "outputs": [
        {
          "name": "stderr",
          "output_type": "stream",
          "text": [
            "/usr/local/lib/python3.10/dist-packages/ipykernel/ipkernel.py:283: DeprecationWarning: `should_run_async` will not call `transform_cell` automatically in the future. Please pass the result to `transformed_cell` argument and any exception that happen during thetransform in `preprocessing_exc_tuple` in IPython 7.17 and above.\n",
            "  and should_run_async(code)\n"
          ]
        },
        {
          "data": {
            "text/plain": [
              "index      0\n",
              "0          1\n",
              "content    0\n",
              "dtype: int64"
            ]
          },
          "execution_count": 23,
          "metadata": {},
          "output_type": "execute_result"
        }
      ],
      "source": [
        "# Missing Values/Null Values Count\n",
        "news_df.isnull().sum()"
      ]
    },
    {
      "cell_type": "code",
      "execution_count": null,
      "metadata": {
        "colab": {
          "base_uri": "https://localhost:8080/"
        },
        "id": "3q5wnI3om9sJ",
        "outputId": "54c2a9d1-f0d5-46b4-d26f-ec06fb4ce2e8"
      },
      "outputs": [
        {
          "name": "stderr",
          "output_type": "stream",
          "text": [
            "/usr/local/lib/python3.10/dist-packages/ipykernel/ipkernel.py:283: DeprecationWarning: `should_run_async` will not call `transform_cell` automatically in the future. Please pass the result to `transformed_cell` argument and any exception that happen during thetransform in `preprocessing_exc_tuple` in IPython 7.17 and above.\n",
            "  and should_run_async(code)\n"
          ]
        }
      ],
      "source": [
        "# Visualizing the missing values"
      ]
    },
    {
      "cell_type": "markdown",
      "metadata": {
        "id": "H0kj-8xxnORC"
      },
      "source": [
        "### What did you know about your dataset?"
      ]
    },
    {
      "cell_type": "markdown",
      "metadata": {
        "id": "gfoNAAC-nUe_"
      },
      "source": [
        "Answer Here"
      ]
    },
    {
      "cell_type": "markdown",
      "metadata": {
        "id": "dauF4eBmngu3"
      },
      "source": [
        "## 3. ***Data Wrangling***"
      ]
    },
    {
      "cell_type": "markdown",
      "metadata": {
        "id": "bKJF3rekwFvQ"
      },
      "source": [
        "### Data Wrangling Code"
      ]
    },
    {
      "cell_type": "code",
      "execution_count": null,
      "metadata": {
        "colab": {
          "base_uri": "https://localhost:8080/"
        },
        "id": "wk-9a2fpoLcV",
        "outputId": "378f69b5-c1aa-48e5-a98d-2020a25943b0"
      },
      "outputs": [
        {
          "name": "stderr",
          "output_type": "stream",
          "text": [
            "/usr/local/lib/python3.10/dist-packages/ipykernel/ipkernel.py:283: DeprecationWarning: `should_run_async` will not call `transform_cell` automatically in the future. Please pass the result to `transformed_cell` argument and any exception that happen during thetransform in `preprocessing_exc_tuple` in IPython 7.17 and above.\n",
            "  and should_run_async(code)\n"
          ]
        }
      ],
      "source": [
        "# Write your code to make your dataset analysis ready.\n",
        "news_df.rename(columns = {0:'News'},inplace = True)"
      ]
    },
    {
      "cell_type": "markdown",
      "metadata": {
        "id": "MSa1f5Uengrz"
      },
      "source": [
        "### What all manipulations have you done and insights you found?"
      ]
    },
    {
      "cell_type": "markdown",
      "metadata": {
        "id": "LbyXE7I1olp8"
      },
      "source": [
        "Answer Here."
      ]
    },
    {
      "cell_type": "markdown",
      "metadata": {
        "id": "GF8Ens_Soomf"
      },
      "source": [
        "## ***4. Data Vizualization, Storytelling & Experimenting with charts : Understand the relationships between variables***"
      ]
    },
    {
      "cell_type": "markdown",
      "metadata": {
        "id": "0wOQAZs5pc--"
      },
      "source": [
        "#### Chart - 1"
      ]
    },
    {
      "cell_type": "code",
      "execution_count": null,
      "metadata": {
        "colab": {
          "base_uri": "https://localhost:8080/"
        },
        "id": "7v_ESjsspbW7",
        "outputId": "b6410882-a8db-4d33-8fd3-dd8599f3fc8a"
      },
      "outputs": [
        {
          "name": "stderr",
          "output_type": "stream",
          "text": [
            "/usr/local/lib/python3.10/dist-packages/ipykernel/ipkernel.py:283: DeprecationWarning: `should_run_async` will not call `transform_cell` automatically in the future. Please pass the result to `transformed_cell` argument and any exception that happen during thetransform in `preprocessing_exc_tuple` in IPython 7.17 and above.\n",
            "  and should_run_async(code)\n"
          ]
        }
      ],
      "source": [
        "# Chart - 1 visualization code"
      ]
    },
    {
      "cell_type": "markdown",
      "metadata": {
        "id": "K5QZ13OEpz2H"
      },
      "source": [
        "##### 1. Why did you pick the specific chart?"
      ]
    },
    {
      "cell_type": "markdown",
      "metadata": {
        "id": "XESiWehPqBRc"
      },
      "source": [
        "Answer Here."
      ]
    },
    {
      "cell_type": "markdown",
      "metadata": {
        "id": "lQ7QKXXCp7Bj"
      },
      "source": [
        "##### 2. What is/are the insight(s) found from the chart?"
      ]
    },
    {
      "cell_type": "markdown",
      "metadata": {
        "id": "C_j1G7yiqdRP"
      },
      "source": [
        "Answer Here"
      ]
    },
    {
      "cell_type": "markdown",
      "metadata": {
        "id": "448CDAPjqfQr"
      },
      "source": [
        "##### 3. Will the gained insights help creating a positive business impact?\n",
        "Are there any insights that lead to negative growth? Justify with specific reason."
      ]
    },
    {
      "cell_type": "markdown",
      "metadata": {
        "id": "3cspy4FjqxJW"
      },
      "source": [
        "Answer Here"
      ]
    },
    {
      "cell_type": "markdown",
      "metadata": {
        "id": "KSlN3yHqYklG"
      },
      "source": [
        "#### Chart - 2"
      ]
    },
    {
      "cell_type": "code",
      "execution_count": null,
      "metadata": {
        "colab": {
          "base_uri": "https://localhost:8080/"
        },
        "id": "R4YgtaqtYklH",
        "outputId": "3e8e30ff-6098-434c-f039-616626b02a19"
      },
      "outputs": [
        {
          "name": "stderr",
          "output_type": "stream",
          "text": [
            "/usr/local/lib/python3.10/dist-packages/ipykernel/ipkernel.py:283: DeprecationWarning: `should_run_async` will not call `transform_cell` automatically in the future. Please pass the result to `transformed_cell` argument and any exception that happen during thetransform in `preprocessing_exc_tuple` in IPython 7.17 and above.\n",
            "  and should_run_async(code)\n"
          ]
        }
      ],
      "source": [
        "# Chart - 2 visualization code"
      ]
    },
    {
      "cell_type": "markdown",
      "metadata": {
        "id": "t6dVpIINYklI"
      },
      "source": [
        "##### 1. Why did you pick the specific chart?"
      ]
    },
    {
      "cell_type": "markdown",
      "metadata": {
        "id": "5aaW0BYyYklI"
      },
      "source": [
        "Answer Here."
      ]
    },
    {
      "cell_type": "markdown",
      "metadata": {
        "id": "ijmpgYnKYklI"
      },
      "source": [
        "##### 2. What is/are the insight(s) found from the chart?"
      ]
    },
    {
      "cell_type": "markdown",
      "metadata": {
        "id": "PSx9atu2YklI"
      },
      "source": [
        "Answer Here"
      ]
    },
    {
      "cell_type": "markdown",
      "metadata": {
        "id": "-JiQyfWJYklI"
      },
      "source": [
        "##### 3. Will the gained insights help creating a positive business impact?\n",
        "Are there any insights that lead to negative growth? Justify with specific reason."
      ]
    },
    {
      "cell_type": "markdown",
      "metadata": {
        "id": "BcBbebzrYklV"
      },
      "source": [
        "Answer Here"
      ]
    },
    {
      "cell_type": "markdown",
      "metadata": {
        "id": "EM7whBJCYoAo"
      },
      "source": [
        "#### Chart - 3"
      ]
    },
    {
      "cell_type": "code",
      "execution_count": null,
      "metadata": {
        "colab": {
          "base_uri": "https://localhost:8080/"
        },
        "id": "t6GMdE67YoAp",
        "outputId": "2b18b64d-3b1a-4061-9fdd-9199273fc246"
      },
      "outputs": [
        {
          "name": "stderr",
          "output_type": "stream",
          "text": [
            "/usr/local/lib/python3.10/dist-packages/ipykernel/ipkernel.py:283: DeprecationWarning: `should_run_async` will not call `transform_cell` automatically in the future. Please pass the result to `transformed_cell` argument and any exception that happen during thetransform in `preprocessing_exc_tuple` in IPython 7.17 and above.\n",
            "  and should_run_async(code)\n"
          ]
        }
      ],
      "source": [
        "# Chart - 3 visualization code"
      ]
    },
    {
      "cell_type": "markdown",
      "metadata": {
        "id": "fge-S5ZAYoAp"
      },
      "source": [
        "##### 1. Why did you pick the specific chart?"
      ]
    },
    {
      "cell_type": "markdown",
      "metadata": {
        "id": "5dBItgRVYoAp"
      },
      "source": [
        "Answer Here."
      ]
    },
    {
      "cell_type": "markdown",
      "metadata": {
        "id": "85gYPyotYoAp"
      },
      "source": [
        "##### 2. What is/are the insight(s) found from the chart?"
      ]
    },
    {
      "cell_type": "markdown",
      "metadata": {
        "id": "4jstXR6OYoAp"
      },
      "source": [
        "Answer Here"
      ]
    },
    {
      "cell_type": "markdown",
      "metadata": {
        "id": "RoGjAbkUYoAp"
      },
      "source": [
        "##### 3. Will the gained insights help creating a positive business impact?\n",
        "Are there any insights that lead to negative growth? Justify with specific reason."
      ]
    },
    {
      "cell_type": "markdown",
      "metadata": {
        "id": "zfJ8IqMcYoAp"
      },
      "source": [
        "Answer Here"
      ]
    },
    {
      "cell_type": "markdown",
      "metadata": {
        "id": "4Of9eVA-YrdM"
      },
      "source": [
        "#### Chart - 4"
      ]
    },
    {
      "cell_type": "code",
      "execution_count": null,
      "metadata": {
        "colab": {
          "base_uri": "https://localhost:8080/"
        },
        "id": "irlUoxc8YrdO",
        "outputId": "eb8a00f7-347b-4783-f2a3-48231d8bd487"
      },
      "outputs": [
        {
          "name": "stderr",
          "output_type": "stream",
          "text": [
            "/usr/local/lib/python3.10/dist-packages/ipykernel/ipkernel.py:283: DeprecationWarning: `should_run_async` will not call `transform_cell` automatically in the future. Please pass the result to `transformed_cell` argument and any exception that happen during thetransform in `preprocessing_exc_tuple` in IPython 7.17 and above.\n",
            "  and should_run_async(code)\n"
          ]
        }
      ],
      "source": [
        "# Chart - 4 visualization code"
      ]
    },
    {
      "cell_type": "markdown",
      "metadata": {
        "id": "iky9q4vBYrdO"
      },
      "source": [
        "##### 1. Why did you pick the specific chart?"
      ]
    },
    {
      "cell_type": "markdown",
      "metadata": {
        "id": "aJRCwT6DYrdO"
      },
      "source": [
        "Answer Here."
      ]
    },
    {
      "cell_type": "markdown",
      "metadata": {
        "id": "F6T5p64dYrdO"
      },
      "source": [
        "##### 2. What is/are the insight(s) found from the chart?"
      ]
    },
    {
      "cell_type": "markdown",
      "metadata": {
        "id": "Xx8WAJvtYrdO"
      },
      "source": [
        "Answer Here"
      ]
    },
    {
      "cell_type": "markdown",
      "metadata": {
        "id": "y-Ehk30pYrdP"
      },
      "source": [
        "##### 3. Will the gained insights help creating a positive business impact?\n",
        "Are there any insights that lead to negative growth? Justify with specific reason."
      ]
    },
    {
      "cell_type": "markdown",
      "metadata": {
        "id": "jLNxxz7MYrdP"
      },
      "source": [
        "Answer Here"
      ]
    },
    {
      "cell_type": "markdown",
      "metadata": {
        "id": "bamQiAODYuh1"
      },
      "source": [
        "#### Chart - 5"
      ]
    },
    {
      "cell_type": "code",
      "execution_count": null,
      "metadata": {
        "colab": {
          "base_uri": "https://localhost:8080/"
        },
        "id": "TIJwrbroYuh3",
        "outputId": "8942cc86-7078-4866-a12c-36cd151d66d2"
      },
      "outputs": [
        {
          "name": "stderr",
          "output_type": "stream",
          "text": [
            "/usr/local/lib/python3.10/dist-packages/ipykernel/ipkernel.py:283: DeprecationWarning: `should_run_async` will not call `transform_cell` automatically in the future. Please pass the result to `transformed_cell` argument and any exception that happen during thetransform in `preprocessing_exc_tuple` in IPython 7.17 and above.\n",
            "  and should_run_async(code)\n"
          ]
        }
      ],
      "source": [
        "# Chart - 5 visualization code"
      ]
    },
    {
      "cell_type": "markdown",
      "metadata": {
        "id": "QHF8YVU7Yuh3"
      },
      "source": [
        "##### 1. Why did you pick the specific chart?"
      ]
    },
    {
      "cell_type": "markdown",
      "metadata": {
        "id": "dcxuIMRPYuh3"
      },
      "source": [
        "Answer Here."
      ]
    },
    {
      "cell_type": "markdown",
      "metadata": {
        "id": "GwzvFGzlYuh3"
      },
      "source": [
        "##### 2. What is/are the insight(s) found from the chart?"
      ]
    },
    {
      "cell_type": "markdown",
      "metadata": {
        "id": "uyqkiB8YYuh3"
      },
      "source": [
        "Answer Here"
      ]
    },
    {
      "cell_type": "markdown",
      "metadata": {
        "id": "qYpmQ266Yuh3"
      },
      "source": [
        "##### 3. Will the gained insights help creating a positive business impact?\n",
        "Are there any insights that lead to negative growth? Justify with specific reason."
      ]
    },
    {
      "cell_type": "markdown",
      "metadata": {
        "id": "_WtzZ_hCYuh4"
      },
      "source": [
        "Answer Here"
      ]
    },
    {
      "cell_type": "markdown",
      "metadata": {
        "id": "OH-pJp9IphqM"
      },
      "source": [
        "#### Chart - 6"
      ]
    },
    {
      "cell_type": "code",
      "execution_count": null,
      "metadata": {
        "colab": {
          "base_uri": "https://localhost:8080/"
        },
        "id": "kuRf4wtuphqN",
        "outputId": "7f85d728-b0ec-4a2c-e534-79d50d7ca232"
      },
      "outputs": [
        {
          "name": "stderr",
          "output_type": "stream",
          "text": [
            "/usr/local/lib/python3.10/dist-packages/ipykernel/ipkernel.py:283: DeprecationWarning: `should_run_async` will not call `transform_cell` automatically in the future. Please pass the result to `transformed_cell` argument and any exception that happen during thetransform in `preprocessing_exc_tuple` in IPython 7.17 and above.\n",
            "  and should_run_async(code)\n"
          ]
        }
      ],
      "source": [
        "# Chart - 6 visualization code"
      ]
    },
    {
      "cell_type": "markdown",
      "metadata": {
        "id": "bbFf2-_FphqN"
      },
      "source": [
        "##### 1. Why did you pick the specific chart?"
      ]
    },
    {
      "cell_type": "markdown",
      "metadata": {
        "id": "loh7H2nzphqN"
      },
      "source": [
        "Answer Here."
      ]
    },
    {
      "cell_type": "markdown",
      "metadata": {
        "id": "_ouA3fa0phqN"
      },
      "source": [
        "##### 2. What is/are the insight(s) found from the chart?"
      ]
    },
    {
      "cell_type": "markdown",
      "metadata": {
        "id": "VECbqPI7phqN"
      },
      "source": [
        "Answer Here"
      ]
    },
    {
      "cell_type": "markdown",
      "metadata": {
        "id": "Seke61FWphqN"
      },
      "source": [
        "##### 3. Will the gained insights help creating a positive business impact?\n",
        "Are there any insights that lead to negative growth? Justify with specific reason."
      ]
    },
    {
      "cell_type": "markdown",
      "metadata": {
        "id": "DW4_bGpfphqN"
      },
      "source": [
        "Answer Here"
      ]
    },
    {
      "cell_type": "markdown",
      "metadata": {
        "id": "PIIx-8_IphqN"
      },
      "source": [
        "#### Chart - 7"
      ]
    },
    {
      "cell_type": "code",
      "execution_count": null,
      "metadata": {
        "colab": {
          "base_uri": "https://localhost:8080/"
        },
        "id": "lqAIGUfyphqO",
        "outputId": "2fe6e3ee-6d30-4655-d5d8-f3fd66a1486d"
      },
      "outputs": [
        {
          "name": "stderr",
          "output_type": "stream",
          "text": [
            "/usr/local/lib/python3.10/dist-packages/ipykernel/ipkernel.py:283: DeprecationWarning: `should_run_async` will not call `transform_cell` automatically in the future. Please pass the result to `transformed_cell` argument and any exception that happen during thetransform in `preprocessing_exc_tuple` in IPython 7.17 and above.\n",
            "  and should_run_async(code)\n"
          ]
        }
      ],
      "source": [
        "# Chart - 7 visualization code"
      ]
    },
    {
      "cell_type": "markdown",
      "metadata": {
        "id": "t27r6nlMphqO"
      },
      "source": [
        "##### 1. Why did you pick the specific chart?"
      ]
    },
    {
      "cell_type": "markdown",
      "metadata": {
        "id": "iv6ro40sphqO"
      },
      "source": [
        "Answer Here."
      ]
    },
    {
      "cell_type": "markdown",
      "metadata": {
        "id": "r2jJGEOYphqO"
      },
      "source": [
        "##### 2. What is/are the insight(s) found from the chart?"
      ]
    },
    {
      "cell_type": "markdown",
      "metadata": {
        "id": "Po6ZPi4hphqO"
      },
      "source": [
        "Answer Here"
      ]
    },
    {
      "cell_type": "markdown",
      "metadata": {
        "id": "b0JNsNcRphqO"
      },
      "source": [
        "##### 3. Will the gained insights help creating a positive business impact?\n",
        "Are there any insights that lead to negative growth? Justify with specific reason."
      ]
    },
    {
      "cell_type": "markdown",
      "metadata": {
        "id": "xvSq8iUTphqO"
      },
      "source": [
        "Answer Here"
      ]
    },
    {
      "cell_type": "markdown",
      "metadata": {
        "id": "BZR9WyysphqO"
      },
      "source": [
        "#### Chart - 8"
      ]
    },
    {
      "cell_type": "code",
      "execution_count": null,
      "metadata": {
        "colab": {
          "base_uri": "https://localhost:8080/"
        },
        "id": "TdPTWpAVphqO",
        "outputId": "f34c3daf-c92d-407f-d666-b59a36060cd9"
      },
      "outputs": [
        {
          "name": "stderr",
          "output_type": "stream",
          "text": [
            "/usr/local/lib/python3.10/dist-packages/ipykernel/ipkernel.py:283: DeprecationWarning: `should_run_async` will not call `transform_cell` automatically in the future. Please pass the result to `transformed_cell` argument and any exception that happen during thetransform in `preprocessing_exc_tuple` in IPython 7.17 and above.\n",
            "  and should_run_async(code)\n"
          ]
        }
      ],
      "source": [
        "# Chart - 8 visualization code"
      ]
    },
    {
      "cell_type": "markdown",
      "metadata": {
        "id": "jj7wYXLtphqO"
      },
      "source": [
        "##### 1. Why did you pick the specific chart?"
      ]
    },
    {
      "cell_type": "markdown",
      "metadata": {
        "id": "Ob8u6rCTphqO"
      },
      "source": [
        "Answer Here."
      ]
    },
    {
      "cell_type": "markdown",
      "metadata": {
        "id": "eZrbJ2SmphqO"
      },
      "source": [
        "##### 2. What is/are the insight(s) found from the chart?"
      ]
    },
    {
      "cell_type": "markdown",
      "metadata": {
        "id": "mZtgC_hjphqO"
      },
      "source": [
        "Answer Here"
      ]
    },
    {
      "cell_type": "markdown",
      "metadata": {
        "id": "rFu4xreNphqO"
      },
      "source": [
        "##### 3. Will the gained insights help creating a positive business impact?\n",
        "Are there any insights that lead to negative growth? Justify with specific reason."
      ]
    },
    {
      "cell_type": "markdown",
      "metadata": {
        "id": "ey_0qi68phqO"
      },
      "source": [
        "Answer Here"
      ]
    },
    {
      "cell_type": "markdown",
      "metadata": {
        "id": "YJ55k-q6phqO"
      },
      "source": [
        "#### Chart - 9"
      ]
    },
    {
      "cell_type": "code",
      "execution_count": null,
      "metadata": {
        "colab": {
          "base_uri": "https://localhost:8080/"
        },
        "id": "B2aS4O1ophqO",
        "outputId": "f44e84a4-cd09-4366-a7f8-ab84a71365c9"
      },
      "outputs": [
        {
          "name": "stderr",
          "output_type": "stream",
          "text": [
            "/usr/local/lib/python3.10/dist-packages/ipykernel/ipkernel.py:283: DeprecationWarning: `should_run_async` will not call `transform_cell` automatically in the future. Please pass the result to `transformed_cell` argument and any exception that happen during thetransform in `preprocessing_exc_tuple` in IPython 7.17 and above.\n",
            "  and should_run_async(code)\n"
          ]
        }
      ],
      "source": [
        "# Chart - 9 visualization code"
      ]
    },
    {
      "cell_type": "markdown",
      "metadata": {
        "id": "gCFgpxoyphqP"
      },
      "source": [
        "##### 1. Why did you pick the specific chart?"
      ]
    },
    {
      "cell_type": "markdown",
      "metadata": {
        "id": "TVxDimi2phqP"
      },
      "source": [
        "Answer Here."
      ]
    },
    {
      "cell_type": "markdown",
      "metadata": {
        "id": "OVtJsKN_phqQ"
      },
      "source": [
        "##### 2. What is/are the insight(s) found from the chart?"
      ]
    },
    {
      "cell_type": "markdown",
      "metadata": {
        "id": "ngGi97qjphqQ"
      },
      "source": [
        "Answer Here"
      ]
    },
    {
      "cell_type": "markdown",
      "metadata": {
        "id": "lssrdh5qphqQ"
      },
      "source": [
        "##### 3. Will the gained insights help creating a positive business impact?\n",
        "Are there any insights that lead to negative growth? Justify with specific reason."
      ]
    },
    {
      "cell_type": "markdown",
      "metadata": {
        "id": "tBpY5ekJphqQ"
      },
      "source": [
        "Answer Here"
      ]
    },
    {
      "cell_type": "markdown",
      "metadata": {
        "id": "U2RJ9gkRphqQ"
      },
      "source": [
        "#### Chart - 10"
      ]
    },
    {
      "cell_type": "code",
      "execution_count": null,
      "metadata": {
        "colab": {
          "base_uri": "https://localhost:8080/"
        },
        "id": "GM7a4YP4phqQ",
        "outputId": "e7d0fc5e-5d7a-46f7-f9c3-6592634de23c"
      },
      "outputs": [
        {
          "name": "stderr",
          "output_type": "stream",
          "text": [
            "/usr/local/lib/python3.10/dist-packages/ipykernel/ipkernel.py:283: DeprecationWarning: `should_run_async` will not call `transform_cell` automatically in the future. Please pass the result to `transformed_cell` argument and any exception that happen during thetransform in `preprocessing_exc_tuple` in IPython 7.17 and above.\n",
            "  and should_run_async(code)\n"
          ]
        }
      ],
      "source": [
        "# Chart - 10 visualization code"
      ]
    },
    {
      "cell_type": "markdown",
      "metadata": {
        "id": "1M8mcRywphqQ"
      },
      "source": [
        "##### 1. Why did you pick the specific chart?"
      ]
    },
    {
      "cell_type": "markdown",
      "metadata": {
        "id": "8agQvks0phqQ"
      },
      "source": [
        "Answer Here."
      ]
    },
    {
      "cell_type": "markdown",
      "metadata": {
        "id": "tgIPom80phqQ"
      },
      "source": [
        "##### 2. What is/are the insight(s) found from the chart?"
      ]
    },
    {
      "cell_type": "markdown",
      "metadata": {
        "id": "Qp13pnNzphqQ"
      },
      "source": [
        "Answer Here"
      ]
    },
    {
      "cell_type": "markdown",
      "metadata": {
        "id": "JMzcOPDDphqR"
      },
      "source": [
        "##### 3. Will the gained insights help creating a positive business impact?\n",
        "Are there any insights that lead to negative growth? Justify with specific reason."
      ]
    },
    {
      "cell_type": "markdown",
      "metadata": {
        "id": "R4Ka1PC2phqR"
      },
      "source": [
        "Answer Here"
      ]
    },
    {
      "cell_type": "markdown",
      "metadata": {
        "id": "x-EpHcCOp1ci"
      },
      "source": [
        "#### Chart - 11"
      ]
    },
    {
      "cell_type": "code",
      "execution_count": null,
      "metadata": {
        "colab": {
          "base_uri": "https://localhost:8080/"
        },
        "id": "mAQTIvtqp1cj",
        "outputId": "a95ad963-593e-497c-d39b-a527ff8034b2"
      },
      "outputs": [
        {
          "name": "stderr",
          "output_type": "stream",
          "text": [
            "/usr/local/lib/python3.10/dist-packages/ipykernel/ipkernel.py:283: DeprecationWarning: `should_run_async` will not call `transform_cell` automatically in the future. Please pass the result to `transformed_cell` argument and any exception that happen during thetransform in `preprocessing_exc_tuple` in IPython 7.17 and above.\n",
            "  and should_run_async(code)\n"
          ]
        }
      ],
      "source": [
        "# Chart - 11 visualization code"
      ]
    },
    {
      "cell_type": "markdown",
      "metadata": {
        "id": "X_VqEhTip1ck"
      },
      "source": [
        "##### 1. Why did you pick the specific chart?"
      ]
    },
    {
      "cell_type": "markdown",
      "metadata": {
        "id": "-vsMzt_np1ck"
      },
      "source": [
        "Answer Here."
      ]
    },
    {
      "cell_type": "markdown",
      "metadata": {
        "id": "8zGJKyg5p1ck"
      },
      "source": [
        "##### 2. What is/are the insight(s) found from the chart?"
      ]
    },
    {
      "cell_type": "markdown",
      "metadata": {
        "id": "ZYdMsrqVp1ck"
      },
      "source": [
        "Answer Here"
      ]
    },
    {
      "cell_type": "markdown",
      "metadata": {
        "id": "PVzmfK_Ep1ck"
      },
      "source": [
        "##### 3. Will the gained insights help creating a positive business impact?\n",
        "Are there any insights that lead to negative growth? Justify with specific reason."
      ]
    },
    {
      "cell_type": "markdown",
      "metadata": {
        "id": "druuKYZpp1ck"
      },
      "source": [
        "Answer Here"
      ]
    },
    {
      "cell_type": "markdown",
      "metadata": {
        "id": "n3dbpmDWp1ck"
      },
      "source": [
        "#### Chart - 12"
      ]
    },
    {
      "cell_type": "code",
      "execution_count": null,
      "metadata": {
        "colab": {
          "base_uri": "https://localhost:8080/"
        },
        "id": "bwevp1tKp1ck",
        "outputId": "b2c24a15-7a40-4d34-ae69-d13742cc4870"
      },
      "outputs": [
        {
          "name": "stderr",
          "output_type": "stream",
          "text": [
            "/usr/local/lib/python3.10/dist-packages/ipykernel/ipkernel.py:283: DeprecationWarning: `should_run_async` will not call `transform_cell` automatically in the future. Please pass the result to `transformed_cell` argument and any exception that happen during thetransform in `preprocessing_exc_tuple` in IPython 7.17 and above.\n",
            "  and should_run_async(code)\n"
          ]
        }
      ],
      "source": [
        "# Chart - 12 visualization code"
      ]
    },
    {
      "cell_type": "markdown",
      "metadata": {
        "id": "ylSl6qgtp1ck"
      },
      "source": [
        "##### 1. Why did you pick the specific chart?"
      ]
    },
    {
      "cell_type": "markdown",
      "metadata": {
        "id": "m2xqNkiQp1ck"
      },
      "source": [
        "Answer Here."
      ]
    },
    {
      "cell_type": "markdown",
      "metadata": {
        "id": "ZWILFDl5p1ck"
      },
      "source": [
        "##### 2. What is/are the insight(s) found from the chart?"
      ]
    },
    {
      "cell_type": "markdown",
      "metadata": {
        "id": "x-lUsV2mp1ck"
      },
      "source": [
        "Answer Here"
      ]
    },
    {
      "cell_type": "markdown",
      "metadata": {
        "id": "M7G43BXep1ck"
      },
      "source": [
        "##### 3. Will the gained insights help creating a positive business impact?\n",
        "Are there any insights that lead to negative growth? Justify with specific reason."
      ]
    },
    {
      "cell_type": "markdown",
      "metadata": {
        "id": "5wwDJXsLp1cl"
      },
      "source": [
        "Answer Here"
      ]
    },
    {
      "cell_type": "markdown",
      "metadata": {
        "id": "Ag9LCva-p1cl"
      },
      "source": [
        "#### Chart - 13"
      ]
    },
    {
      "cell_type": "code",
      "execution_count": null,
      "metadata": {
        "colab": {
          "base_uri": "https://localhost:8080/"
        },
        "id": "EUfxeq9-p1cl",
        "outputId": "2e8621eb-b7e6-478f-e2a3-4d3d1030245d"
      },
      "outputs": [
        {
          "name": "stderr",
          "output_type": "stream",
          "text": [
            "/usr/local/lib/python3.10/dist-packages/ipykernel/ipkernel.py:283: DeprecationWarning: `should_run_async` will not call `transform_cell` automatically in the future. Please pass the result to `transformed_cell` argument and any exception that happen during thetransform in `preprocessing_exc_tuple` in IPython 7.17 and above.\n",
            "  and should_run_async(code)\n"
          ]
        }
      ],
      "source": [
        "# Chart - 13 visualization code"
      ]
    },
    {
      "cell_type": "markdown",
      "metadata": {
        "id": "E6MkPsBcp1cl"
      },
      "source": [
        "##### 1. Why did you pick the specific chart?"
      ]
    },
    {
      "cell_type": "markdown",
      "metadata": {
        "id": "V22bRsFWp1cl"
      },
      "source": [
        "Answer Here."
      ]
    },
    {
      "cell_type": "markdown",
      "metadata": {
        "id": "2cELzS2fp1cl"
      },
      "source": [
        "##### 2. What is/are the insight(s) found from the chart?"
      ]
    },
    {
      "cell_type": "markdown",
      "metadata": {
        "id": "ozQPc2_Ip1cl"
      },
      "source": [
        "Answer Here"
      ]
    },
    {
      "cell_type": "markdown",
      "metadata": {
        "id": "3MPXvC8up1cl"
      },
      "source": [
        "##### 3. Will the gained insights help creating a positive business impact?\n",
        "Are there any insights that lead to negative growth? Justify with specific reason."
      ]
    },
    {
      "cell_type": "markdown",
      "metadata": {
        "id": "GL8l1tdLp1cl"
      },
      "source": [
        "Answer Here"
      ]
    },
    {
      "cell_type": "markdown",
      "metadata": {
        "id": "NC_X3p0fY2L0"
      },
      "source": [
        "#### Chart - 14 - Correlation Heatmap"
      ]
    },
    {
      "cell_type": "code",
      "execution_count": null,
      "metadata": {
        "colab": {
          "base_uri": "https://localhost:8080/"
        },
        "id": "xyC9zolEZNRQ",
        "outputId": "e9f9cde6-30a8-412c-dcc4-bcb73a86a6ea"
      },
      "outputs": [
        {
          "name": "stderr",
          "output_type": "stream",
          "text": [
            "/usr/local/lib/python3.10/dist-packages/ipykernel/ipkernel.py:283: DeprecationWarning: `should_run_async` will not call `transform_cell` automatically in the future. Please pass the result to `transformed_cell` argument and any exception that happen during thetransform in `preprocessing_exc_tuple` in IPython 7.17 and above.\n",
            "  and should_run_async(code)\n"
          ]
        }
      ],
      "source": [
        "# Correlation Heatmap visualization code"
      ]
    },
    {
      "cell_type": "markdown",
      "metadata": {
        "id": "UV0SzAkaZNRQ"
      },
      "source": [
        "##### 1. Why did you pick the specific chart?"
      ]
    },
    {
      "cell_type": "markdown",
      "metadata": {
        "id": "DVPuT8LYZNRQ"
      },
      "source": [
        "Answer Here."
      ]
    },
    {
      "cell_type": "markdown",
      "metadata": {
        "id": "YPEH6qLeZNRQ"
      },
      "source": [
        "##### 2. What is/are the insight(s) found from the chart?"
      ]
    },
    {
      "cell_type": "markdown",
      "metadata": {
        "id": "bfSqtnDqZNRR"
      },
      "source": [
        "Answer Here"
      ]
    },
    {
      "cell_type": "markdown",
      "metadata": {
        "id": "q29F0dvdveiT"
      },
      "source": [
        "#### Chart - 15 - Pair Plot"
      ]
    },
    {
      "cell_type": "code",
      "execution_count": null,
      "metadata": {
        "colab": {
          "base_uri": "https://localhost:8080/"
        },
        "id": "o58-TEIhveiU",
        "outputId": "3fbc6448-8e30-49db-c1e0-de7d4c4ed0b1"
      },
      "outputs": [
        {
          "name": "stderr",
          "output_type": "stream",
          "text": [
            "/usr/local/lib/python3.10/dist-packages/ipykernel/ipkernel.py:283: DeprecationWarning: `should_run_async` will not call `transform_cell` automatically in the future. Please pass the result to `transformed_cell` argument and any exception that happen during thetransform in `preprocessing_exc_tuple` in IPython 7.17 and above.\n",
            "  and should_run_async(code)\n"
          ]
        }
      ],
      "source": [
        "# Pair Plot visualization code"
      ]
    },
    {
      "cell_type": "markdown",
      "metadata": {
        "id": "EXh0U9oCveiU"
      },
      "source": [
        "##### 1. Why did you pick the specific chart?"
      ]
    },
    {
      "cell_type": "markdown",
      "metadata": {
        "id": "eMmPjTByveiU"
      },
      "source": [
        "Answer Here."
      ]
    },
    {
      "cell_type": "markdown",
      "metadata": {
        "id": "22aHeOlLveiV"
      },
      "source": [
        "##### 2. What is/are the insight(s) found from the chart?"
      ]
    },
    {
      "cell_type": "markdown",
      "metadata": {
        "id": "uPQ8RGwHveiV"
      },
      "source": [
        "Answer Here"
      ]
    },
    {
      "cell_type": "markdown",
      "metadata": {
        "id": "g-ATYxFrGrvw"
      },
      "source": [
        "## ***5. Hypothesis Testing***"
      ]
    },
    {
      "cell_type": "markdown",
      "metadata": {
        "id": "Yfr_Vlr8HBkt"
      },
      "source": [
        "### Based on your chart experiments, define three hypothetical statements from the dataset. In the next three questions, perform hypothesis testing to obtain final conclusion about the statements through your code and statistical testing."
      ]
    },
    {
      "cell_type": "markdown",
      "metadata": {
        "id": "-7MS06SUHkB-"
      },
      "source": [
        "Answer Here."
      ]
    },
    {
      "cell_type": "markdown",
      "metadata": {
        "id": "8yEUt7NnHlrM"
      },
      "source": [
        "### Hypothetical Statement - 1"
      ]
    },
    {
      "cell_type": "markdown",
      "metadata": {
        "id": "tEA2Xm5dHt1r"
      },
      "source": [
        "#### 1. State Your research hypothesis as a null hypothesis and alternate hypothesis."
      ]
    },
    {
      "cell_type": "markdown",
      "metadata": {
        "id": "HI9ZP0laH0D-"
      },
      "source": [
        "Answer Here."
      ]
    },
    {
      "cell_type": "markdown",
      "metadata": {
        "id": "I79__PHVH19G"
      },
      "source": [
        "#### 2. Perform an appropriate statistical test."
      ]
    },
    {
      "cell_type": "code",
      "execution_count": null,
      "metadata": {
        "colab": {
          "base_uri": "https://localhost:8080/"
        },
        "id": "oZrfquKtyian",
        "outputId": "b5a50c6a-7a09-49cb-8e63-0227309793e5"
      },
      "outputs": [
        {
          "name": "stderr",
          "output_type": "stream",
          "text": [
            "/usr/local/lib/python3.10/dist-packages/ipykernel/ipkernel.py:283: DeprecationWarning: `should_run_async` will not call `transform_cell` automatically in the future. Please pass the result to `transformed_cell` argument and any exception that happen during thetransform in `preprocessing_exc_tuple` in IPython 7.17 and above.\n",
            "  and should_run_async(code)\n"
          ]
        }
      ],
      "source": [
        "# Perform Statistical Test to obtain P-Value"
      ]
    },
    {
      "cell_type": "markdown",
      "metadata": {
        "id": "Ou-I18pAyIpj"
      },
      "source": [
        "##### Which statistical test have you done to obtain P-Value?"
      ]
    },
    {
      "cell_type": "markdown",
      "metadata": {
        "id": "s2U0kk00ygSB"
      },
      "source": [
        "Answer Here."
      ]
    },
    {
      "cell_type": "markdown",
      "metadata": {
        "id": "fF3858GYyt-u"
      },
      "source": [
        "##### Why did you choose the specific statistical test?"
      ]
    },
    {
      "cell_type": "markdown",
      "metadata": {
        "id": "HO4K0gP5y3B4"
      },
      "source": [
        "Answer Here."
      ]
    },
    {
      "cell_type": "markdown",
      "metadata": {
        "id": "4_0_7-oCpUZd"
      },
      "source": [
        "### Hypothetical Statement - 2"
      ]
    },
    {
      "cell_type": "markdown",
      "metadata": {
        "id": "hwyV_J3ipUZe"
      },
      "source": [
        "#### 1. State Your research hypothesis as a null hypothesis and alternate hypothesis."
      ]
    },
    {
      "cell_type": "markdown",
      "metadata": {
        "id": "FnpLGJ-4pUZe"
      },
      "source": [
        "Answer Here."
      ]
    },
    {
      "cell_type": "markdown",
      "metadata": {
        "id": "3yB-zSqbpUZe"
      },
      "source": [
        "#### 2. Perform an appropriate statistical test."
      ]
    },
    {
      "cell_type": "code",
      "execution_count": null,
      "metadata": {
        "colab": {
          "base_uri": "https://localhost:8080/"
        },
        "id": "sWxdNTXNpUZe",
        "outputId": "58d12165-a697-4b4a-9d7e-4a6e2a072240"
      },
      "outputs": [
        {
          "name": "stderr",
          "output_type": "stream",
          "text": [
            "/usr/local/lib/python3.10/dist-packages/ipykernel/ipkernel.py:283: DeprecationWarning: `should_run_async` will not call `transform_cell` automatically in the future. Please pass the result to `transformed_cell` argument and any exception that happen during thetransform in `preprocessing_exc_tuple` in IPython 7.17 and above.\n",
            "  and should_run_async(code)\n"
          ]
        }
      ],
      "source": [
        "# Perform Statistical Test to obtain P-Value"
      ]
    },
    {
      "cell_type": "markdown",
      "metadata": {
        "id": "dEUvejAfpUZe"
      },
      "source": [
        "##### Which statistical test have you done to obtain P-Value?"
      ]
    },
    {
      "cell_type": "markdown",
      "metadata": {
        "id": "oLDrPz7HpUZf"
      },
      "source": [
        "Answer Here."
      ]
    },
    {
      "cell_type": "markdown",
      "metadata": {
        "id": "Fd15vwWVpUZf"
      },
      "source": [
        "##### Why did you choose the specific statistical test?"
      ]
    },
    {
      "cell_type": "markdown",
      "metadata": {
        "id": "4xOGYyiBpUZf"
      },
      "source": [
        "Answer Here."
      ]
    },
    {
      "cell_type": "markdown",
      "metadata": {
        "id": "bn_IUdTipZyH"
      },
      "source": [
        "### Hypothetical Statement - 3"
      ]
    },
    {
      "cell_type": "markdown",
      "metadata": {
        "id": "49K5P_iCpZyH"
      },
      "source": [
        "#### 1. State Your research hypothesis as a null hypothesis and alternate hypothesis."
      ]
    },
    {
      "cell_type": "markdown",
      "metadata": {
        "id": "7gWI5rT9pZyH"
      },
      "source": [
        "Answer Here."
      ]
    },
    {
      "cell_type": "markdown",
      "metadata": {
        "id": "Nff-vKELpZyI"
      },
      "source": [
        "#### 2. Perform an appropriate statistical test."
      ]
    },
    {
      "cell_type": "code",
      "execution_count": null,
      "metadata": {
        "colab": {
          "base_uri": "https://localhost:8080/"
        },
        "id": "s6AnJQjtpZyI",
        "outputId": "92d81829-d20e-467b-b7dd-869ea7643067"
      },
      "outputs": [
        {
          "name": "stderr",
          "output_type": "stream",
          "text": [
            "/usr/local/lib/python3.10/dist-packages/ipykernel/ipkernel.py:283: DeprecationWarning: `should_run_async` will not call `transform_cell` automatically in the future. Please pass the result to `transformed_cell` argument and any exception that happen during thetransform in `preprocessing_exc_tuple` in IPython 7.17 and above.\n",
            "  and should_run_async(code)\n"
          ]
        }
      ],
      "source": [
        "# Perform Statistical Test to obtain P-Value"
      ]
    },
    {
      "cell_type": "markdown",
      "metadata": {
        "id": "kLW572S8pZyI"
      },
      "source": [
        "##### Which statistical test have you done to obtain P-Value?"
      ]
    },
    {
      "cell_type": "markdown",
      "metadata": {
        "id": "ytWJ8v15pZyI"
      },
      "source": [
        "Answer Here."
      ]
    },
    {
      "cell_type": "markdown",
      "metadata": {
        "id": "dWbDXHzopZyI"
      },
      "source": [
        "##### Why did you choose the specific statistical test?"
      ]
    },
    {
      "cell_type": "markdown",
      "metadata": {
        "id": "M99G98V6pZyI"
      },
      "source": [
        "Answer Here."
      ]
    },
    {
      "cell_type": "markdown",
      "metadata": {
        "id": "yLjJCtPM0KBk"
      },
      "source": [
        "## ***6. Feature Engineering & Data Pre-processing***"
      ]
    },
    {
      "cell_type": "markdown",
      "metadata": {
        "id": "xiyOF9F70UgQ"
      },
      "source": [
        "### 1. Handling Missing Values"
      ]
    },
    {
      "cell_type": "code",
      "execution_count": null,
      "metadata": {
        "colab": {
          "base_uri": "https://localhost:8080/"
        },
        "id": "iRsAHk1K0fpS",
        "outputId": "3f490deb-3e3f-4776-add8-0456db0ec947"
      },
      "outputs": [
        {
          "name": "stderr",
          "output_type": "stream",
          "text": [
            "/usr/local/lib/python3.10/dist-packages/ipykernel/ipkernel.py:283: DeprecationWarning: `should_run_async` will not call `transform_cell` automatically in the future. Please pass the result to `transformed_cell` argument and any exception that happen during thetransform in `preprocessing_exc_tuple` in IPython 7.17 and above.\n",
            "  and should_run_async(code)\n"
          ]
        },
        {
          "data": {
            "text/plain": [
              "index      0\n",
              "News       1\n",
              "content    0\n",
              "dtype: int64"
            ]
          },
          "execution_count": 44,
          "metadata": {},
          "output_type": "execute_result"
        }
      ],
      "source": [
        "# Handling Missing Values & Missing Value Imputation\n",
        "news_df.isnull().sum()"
      ]
    },
    {
      "cell_type": "code",
      "execution_count": null,
      "metadata": {
        "colab": {
          "base_uri": "https://localhost:8080/"
        },
        "id": "4_MJBkjumoTV",
        "outputId": "a8fefd54-93be-4ad8-c129-73ea8cdc7903"
      },
      "outputs": [
        {
          "name": "stderr",
          "output_type": "stream",
          "text": [
            "/usr/local/lib/python3.10/dist-packages/ipykernel/ipkernel.py:283: DeprecationWarning: `should_run_async` will not call `transform_cell` automatically in the future. Please pass the result to `transformed_cell` argument and any exception that happen during thetransform in `preprocessing_exc_tuple` in IPython 7.17 and above.\n",
            "  and should_run_async(code)\n"
          ]
        }
      ],
      "source": [
        "news_df.dropna(inplace = True)"
      ]
    },
    {
      "cell_type": "markdown",
      "metadata": {
        "id": "7wuGOrhz0itI"
      },
      "source": [
        "#### What all missing value imputation techniques have you used and why did you use those techniques?"
      ]
    },
    {
      "cell_type": "markdown",
      "metadata": {
        "id": "1ixusLtI0pqI"
      },
      "source": [
        "Answer Here."
      ]
    },
    {
      "cell_type": "markdown",
      "metadata": {
        "id": "id1riN9m0vUs"
      },
      "source": [
        "### 2. Handling Outliers"
      ]
    },
    {
      "cell_type": "code",
      "execution_count": null,
      "metadata": {
        "colab": {
          "base_uri": "https://localhost:8080/"
        },
        "id": "M6w2CzZf04JK",
        "outputId": "40f2b804-7cea-440a-dd2d-a32843ac4b7f"
      },
      "outputs": [
        {
          "name": "stderr",
          "output_type": "stream",
          "text": [
            "/usr/local/lib/python3.10/dist-packages/ipykernel/ipkernel.py:283: DeprecationWarning: `should_run_async` will not call `transform_cell` automatically in the future. Please pass the result to `transformed_cell` argument and any exception that happen during thetransform in `preprocessing_exc_tuple` in IPython 7.17 and above.\n",
            "  and should_run_async(code)\n"
          ]
        }
      ],
      "source": [
        "# Handling Outliers & Outlier treatments"
      ]
    },
    {
      "cell_type": "markdown",
      "metadata": {
        "id": "578E2V7j08f6"
      },
      "source": [
        "##### What all outlier treatment techniques have you used and why did you use those techniques?"
      ]
    },
    {
      "cell_type": "markdown",
      "metadata": {
        "id": "uGZz5OrT1HH-"
      },
      "source": [
        "Answer Here."
      ]
    },
    {
      "cell_type": "markdown",
      "metadata": {
        "id": "89xtkJwZ18nB"
      },
      "source": [
        "### 3. Categorical Encoding"
      ]
    },
    {
      "cell_type": "code",
      "execution_count": null,
      "metadata": {
        "colab": {
          "base_uri": "https://localhost:8080/"
        },
        "id": "21JmIYMG2hEo",
        "outputId": "6c080495-b0cd-41df-e780-dfe146697796"
      },
      "outputs": [
        {
          "name": "stderr",
          "output_type": "stream",
          "text": [
            "/usr/local/lib/python3.10/dist-packages/ipykernel/ipkernel.py:283: DeprecationWarning: `should_run_async` will not call `transform_cell` automatically in the future. Please pass the result to `transformed_cell` argument and any exception that happen during thetransform in `preprocessing_exc_tuple` in IPython 7.17 and above.\n",
            "  and should_run_async(code)\n"
          ]
        }
      ],
      "source": [
        "# Encode your categorical columns"
      ]
    },
    {
      "cell_type": "markdown",
      "metadata": {
        "id": "67NQN5KX2AMe"
      },
      "source": [
        "#### What all categorical encoding techniques have you used & why did you use those techniques?"
      ]
    },
    {
      "cell_type": "markdown",
      "metadata": {
        "id": "UDaue5h32n_G"
      },
      "source": [
        "Answer Here."
      ]
    },
    {
      "cell_type": "markdown",
      "metadata": {
        "id": "Iwf50b-R2tYG"
      },
      "source": [
        "### 4. Textual Data Preprocessing\n",
        "(It's mandatory for textual dataset i.e., NLP, Sentiment Analysis, Text Clustering etc.)"
      ]
    },
    {
      "cell_type": "markdown",
      "metadata": {
        "id": "GMQiZwjn3iu7"
      },
      "source": [
        "#### 1. Expand Contraction"
      ]
    },
    {
      "cell_type": "code",
      "execution_count": null,
      "metadata": {
        "colab": {
          "base_uri": "https://localhost:8080/"
        },
        "id": "yf9ZCfA3lV4P",
        "outputId": "d1ac813e-8cf2-46ca-8bfc-bcec566ea1c8"
      },
      "outputs": [
        {
          "name": "stderr",
          "output_type": "stream",
          "text": [
            "/usr/local/lib/python3.10/dist-packages/ipykernel/ipkernel.py:283: DeprecationWarning: `should_run_async` will not call `transform_cell` automatically in the future. Please pass the result to `transformed_cell` argument and any exception that happen during thetransform in `preprocessing_exc_tuple` in IPython 7.17 and above.\n",
            "  and should_run_async(code)\n"
          ]
        }
      ],
      "source": [
        "text = \"Important issues are pending. We're still working on the project\""
      ]
    },
    {
      "cell_type": "code",
      "execution_count": null,
      "metadata": {
        "colab": {
          "base_uri": "https://localhost:8080/"
        },
        "id": "PTouz10C3oNN",
        "outputId": "8cd29815-765a-44ac-8c95-f2156d2191c8"
      },
      "outputs": [
        {
          "name": "stderr",
          "output_type": "stream",
          "text": [
            "/usr/local/lib/python3.10/dist-packages/ipykernel/ipkernel.py:283: DeprecationWarning: `should_run_async` will not call `transform_cell` automatically in the future. Please pass the result to `transformed_cell` argument and any exception that happen during thetransform in `preprocessing_exc_tuple` in IPython 7.17 and above.\n",
            "  and should_run_async(code)\n"
          ]
        }
      ],
      "source": [
        "# Expand Contraction\n",
        "def expand_contractions(text):\n",
        "  return contractions.fix(text)"
      ]
    },
    {
      "cell_type": "code",
      "execution_count": null,
      "metadata": {
        "colab": {
          "base_uri": "https://localhost:8080/"
        },
        "id": "zuHjXloklkrI",
        "outputId": "0bda5c8a-814e-45ab-befb-a382177f508e"
      },
      "outputs": [
        {
          "name": "stderr",
          "output_type": "stream",
          "text": [
            "/usr/local/lib/python3.10/dist-packages/ipykernel/ipkernel.py:283: DeprecationWarning: `should_run_async` will not call `transform_cell` automatically in the future. Please pass the result to `transformed_cell` argument and any exception that happen during thetransform in `preprocessing_exc_tuple` in IPython 7.17 and above.\n",
            "  and should_run_async(code)\n"
          ]
        }
      ],
      "source": [
        "news_df['new_tags'] = news_df['News'].apply(expand_contractions)"
      ]
    },
    {
      "cell_type": "markdown",
      "metadata": {
        "id": "WVIkgGqN3qsr"
      },
      "source": [
        "#### 2. Lower Casing"
      ]
    },
    {
      "cell_type": "code",
      "execution_count": null,
      "metadata": {
        "colab": {
          "base_uri": "https://localhost:8080/"
        },
        "id": "88JnJ1jN3w7j",
        "outputId": "a2a5b2c1-8eb1-424e-eedb-9b74952108da"
      },
      "outputs": [
        {
          "name": "stderr",
          "output_type": "stream",
          "text": [
            "/usr/local/lib/python3.10/dist-packages/ipykernel/ipkernel.py:283: DeprecationWarning: `should_run_async` will not call `transform_cell` automatically in the future. Please pass the result to `transformed_cell` argument and any exception that happen during thetransform in `preprocessing_exc_tuple` in IPython 7.17 and above.\n",
            "  and should_run_async(code)\n"
          ]
        }
      ],
      "source": [
        "# Lower Casing\n",
        "def lower_case(text):\n",
        "  return text.lower()"
      ]
    },
    {
      "cell_type": "code",
      "execution_count": null,
      "metadata": {
        "colab": {
          "base_uri": "https://localhost:8080/"
        },
        "id": "ZndOZBAdnGk7",
        "outputId": "8185651a-9088-496b-d876-f0643507f30b"
      },
      "outputs": [
        {
          "name": "stderr",
          "output_type": "stream",
          "text": [
            "/usr/local/lib/python3.10/dist-packages/ipykernel/ipkernel.py:283: DeprecationWarning: `should_run_async` will not call `transform_cell` automatically in the future. Please pass the result to `transformed_cell` argument and any exception that happen during thetransform in `preprocessing_exc_tuple` in IPython 7.17 and above.\n",
            "  and should_run_async(code)\n"
          ]
        }
      ],
      "source": [
        "news_df['new_tags']= news_df['new_tags'].apply(lower_case)"
      ]
    },
    {
      "cell_type": "markdown",
      "metadata": {
        "id": "XkPnILGE3zoT"
      },
      "source": [
        "#### 3. Removing Punctuations"
      ]
    },
    {
      "cell_type": "code",
      "execution_count": null,
      "metadata": {
        "colab": {
          "base_uri": "https://localhost:8080/"
        },
        "id": "vqbBqNaA33c0",
        "outputId": "a6268fb4-acfb-41fd-fea0-f46945c9bc89"
      },
      "outputs": [
        {
          "name": "stderr",
          "output_type": "stream",
          "text": [
            "/usr/local/lib/python3.10/dist-packages/ipykernel/ipkernel.py:283: DeprecationWarning: `should_run_async` will not call `transform_cell` automatically in the future. Please pass the result to `transformed_cell` argument and any exception that happen during thetransform in `preprocessing_exc_tuple` in IPython 7.17 and above.\n",
            "  and should_run_async(code)\n"
          ]
        }
      ],
      "source": [
        "# Remove Punctuations\n",
        "def punc_removal(text):\n",
        "  return ''.join([i for i in text if i not in string.punctuation])"
      ]
    },
    {
      "cell_type": "code",
      "execution_count": null,
      "metadata": {
        "colab": {
          "base_uri": "https://localhost:8080/"
        },
        "id": "SSW4iEfUpdy1",
        "outputId": "8e8311e5-6130-4c51-e2dc-c9a8acac282b"
      },
      "outputs": [
        {
          "name": "stderr",
          "output_type": "stream",
          "text": [
            "/usr/local/lib/python3.10/dist-packages/ipykernel/ipkernel.py:283: DeprecationWarning: `should_run_async` will not call `transform_cell` automatically in the future. Please pass the result to `transformed_cell` argument and any exception that happen during thetransform in `preprocessing_exc_tuple` in IPython 7.17 and above.\n",
            "  and should_run_async(code)\n"
          ]
        }
      ],
      "source": [
        "news_df['new_tags']= news_df['new_tags'].apply(punc_removal)"
      ]
    },
    {
      "cell_type": "markdown",
      "metadata": {
        "id": "Hlsf0x5436Go"
      },
      "source": [
        "#### 4. Removing URLs & Removing words and digits contain digits."
      ]
    },
    {
      "cell_type": "code",
      "execution_count": null,
      "metadata": {
        "colab": {
          "base_uri": "https://localhost:8080/"
        },
        "id": "2sxKgKxu4Ip3",
        "outputId": "127f8103-6b26-48bf-be4d-daa6838fb83c"
      },
      "outputs": [
        {
          "name": "stderr",
          "output_type": "stream",
          "text": [
            "/usr/local/lib/python3.10/dist-packages/ipykernel/ipkernel.py:283: DeprecationWarning: `should_run_async` will not call `transform_cell` automatically in the future. Please pass the result to `transformed_cell` argument and any exception that happen during thetransform in `preprocessing_exc_tuple` in IPython 7.17 and above.\n",
            "  and should_run_async(code)\n"
          ]
        }
      ],
      "source": [
        "# Remove URLs & Remove words and digits contain digits\n",
        "import re\n",
        "\n",
        "LK = len(news_df['new_tags'])\n",
        "new_tag_df = news_df.copy()  # create a copy of the original dataframe\n",
        "\n",
        "for i in range(LK):\n",
        "    new_com = ''\n",
        "    for j in news_df['new_tags'].iloc[i].split():\n",
        "        # remove URLs\n",
        "        if not j.startswith(\"http\"):\n",
        "            # remove words and digits containing digits\n",
        "            if not bool(re.search(r'\\d', j)):\n",
        "                new_com += ' ' + j\n",
        "    new_tag_df.at[i, 'new_tags'] = new_com.strip()"
      ]
    },
    {
      "cell_type": "markdown",
      "metadata": {
        "id": "mT9DMSJo4nBL"
      },
      "source": [
        "#### 5. Removing Stopwords & Removing White spaces"
      ]
    },
    {
      "cell_type": "code",
      "execution_count": null,
      "metadata": {
        "colab": {
          "base_uri": "https://localhost:8080/"
        },
        "id": "T2LSJh154s8W",
        "outputId": "452530fe-9089-486e-cfc4-00eefe06cd49"
      },
      "outputs": [
        {
          "name": "stderr",
          "output_type": "stream",
          "text": [
            "/usr/local/lib/python3.10/dist-packages/ipykernel/ipkernel.py:283: DeprecationWarning: `should_run_async` will not call `transform_cell` automatically in the future. Please pass the result to `transformed_cell` argument and any exception that happen during thetransform in `preprocessing_exc_tuple` in IPython 7.17 and above.\n",
            "  and should_run_async(code)\n"
          ]
        }
      ],
      "source": [
        "# Remove Stopwords\n",
        "stop_list=stopwords.words('english')\n",
        "def stop_words(text):\n",
        "  return ' '.join([i for i in text.split() if i not in stop_list ])"
      ]
    },
    {
      "cell_type": "code",
      "execution_count": null,
      "metadata": {
        "colab": {
          "base_uri": "https://localhost:8080/"
        },
        "id": "NFgjJuJZr1Sc",
        "outputId": "d4828ec7-dfca-4da9-ca3c-3d81f0e7a6fa"
      },
      "outputs": [
        {
          "name": "stderr",
          "output_type": "stream",
          "text": [
            "/usr/local/lib/python3.10/dist-packages/ipykernel/ipkernel.py:283: DeprecationWarning: `should_run_async` will not call `transform_cell` automatically in the future. Please pass the result to `transformed_cell` argument and any exception that happen during thetransform in `preprocessing_exc_tuple` in IPython 7.17 and above.\n",
            "  and should_run_async(code)\n"
          ]
        }
      ],
      "source": [
        "new_tag_df['new_tags']= new_tag_df['new_tags'].apply(stop_words)"
      ]
    },
    {
      "cell_type": "code",
      "execution_count": null,
      "metadata": {
        "colab": {
          "base_uri": "https://localhost:8080/"
        },
        "id": "EgLJGffy4vm0",
        "outputId": "40635a5c-35ae-441c-b77c-aa8f0a58dd6b"
      },
      "outputs": [
        {
          "name": "stderr",
          "output_type": "stream",
          "text": [
            "/usr/local/lib/python3.10/dist-packages/ipykernel/ipkernel.py:283: DeprecationWarning: `should_run_async` will not call `transform_cell` automatically in the future. Please pass the result to `transformed_cell` argument and any exception that happen during thetransform in `preprocessing_exc_tuple` in IPython 7.17 and above.\n",
            "  and should_run_async(code)\n"
          ]
        }
      ],
      "source": [
        "# Remove White spaces\n",
        "def white_space(text):\n",
        "  return ' '.join([i.replace(' ','') for i in text.split()])"
      ]
    },
    {
      "cell_type": "code",
      "execution_count": null,
      "metadata": {
        "colab": {
          "base_uri": "https://localhost:8080/"
        },
        "id": "n-Gb4KRZtNaJ",
        "outputId": "214fffd7-12f9-42aa-9f35-f93a9d59dc63"
      },
      "outputs": [
        {
          "name": "stderr",
          "output_type": "stream",
          "text": [
            "/usr/local/lib/python3.10/dist-packages/ipykernel/ipkernel.py:283: DeprecationWarning: `should_run_async` will not call `transform_cell` automatically in the future. Please pass the result to `transformed_cell` argument and any exception that happen during thetransform in `preprocessing_exc_tuple` in IPython 7.17 and above.\n",
            "  and should_run_async(code)\n"
          ]
        }
      ],
      "source": [
        "new_tag_df['new_tags']= new_tag_df['new_tags'].apply(white_space)"
      ]
    },
    {
      "cell_type": "markdown",
      "metadata": {
        "id": "c49ITxTc407N"
      },
      "source": [
        "#### 6. Rephrase Text"
      ]
    },
    {
      "cell_type": "code",
      "execution_count": null,
      "metadata": {
        "colab": {
          "base_uri": "https://localhost:8080/"
        },
        "id": "foqY80Qu48N2",
        "outputId": "f5118ada-1e0c-49fa-8802-62478e70768f"
      },
      "outputs": [
        {
          "name": "stderr",
          "output_type": "stream",
          "text": [
            "/usr/local/lib/python3.10/dist-packages/ipykernel/ipkernel.py:283: DeprecationWarning: `should_run_async` will not call `transform_cell` automatically in the future. Please pass the result to `transformed_cell` argument and any exception that happen during thetransform in `preprocessing_exc_tuple` in IPython 7.17 and above.\n",
            "  and should_run_async(code)\n"
          ]
        }
      ],
      "source": [
        "# Rephrase Text\n",
        "# Define the function that will rephrase the input text\n",
        "def rephrase_tokens(text):\n",
        "  # Tokenize the input text into words\n",
        "  token = word_tokenize(text)\n",
        "\n",
        "  # Create an empty list to store the rephrased words\n",
        "  rephrased_sentence= []\n",
        "\n",
        "  # Loop through each word in the tokenized input text\n",
        "  for word in token:\n",
        "    # Find synonyms for the word using WordNet\n",
        "    synonyms = wordnet.synsets(word)\n",
        "\n",
        "    # If synonyms are found, choose the first lemma of the first synset\n",
        "    if len(synonyms) > 0:\n",
        "      new_word = synonyms[0].lemmas()[0].name()\n",
        "\n",
        "    # If no synonyms are found, use the original word\n",
        "    else :\n",
        "      new_word = word\n",
        "\n",
        "    # Append the rephrased word to the list of rephrased words\n",
        "    rephrased_sentence.append(new_word)\n",
        "\n",
        "  # Join the list of rephrased words into a single string and return it\n",
        "  return ' '.join(rephrased_sentence)\n"
      ]
    },
    {
      "cell_type": "code",
      "execution_count": null,
      "metadata": {
        "colab": {
          "base_uri": "https://localhost:8080/"
        },
        "id": "mVw9opUeyGjD",
        "outputId": "32d9cf74-ad49-4449-abe7-50975262cb04"
      },
      "outputs": [
        {
          "name": "stderr",
          "output_type": "stream",
          "text": [
            "/usr/local/lib/python3.10/dist-packages/ipykernel/ipkernel.py:283: DeprecationWarning: `should_run_async` will not call `transform_cell` automatically in the future. Please pass the result to `transformed_cell` argument and any exception that happen during thetransform in `preprocessing_exc_tuple` in IPython 7.17 and above.\n",
            "  and should_run_async(code)\n"
          ]
        }
      ],
      "source": [
        "new_tag_df['new_tags']= new_tag_df['new_tags'].apply(rephrase_tokens)"
      ]
    },
    {
      "cell_type": "markdown",
      "metadata": {
        "id": "OeJFEK0N496M"
      },
      "source": [
        "#### 7. Tokenization"
      ]
    },
    {
      "cell_type": "code",
      "execution_count": null,
      "metadata": {
        "colab": {
          "base_uri": "https://localhost:8080/"
        },
        "id": "ijx1rUOS5CUU",
        "outputId": "3b041b1f-4d69-4509-9b38-5f9731e0a111"
      },
      "outputs": [
        {
          "name": "stderr",
          "output_type": "stream",
          "text": [
            "/usr/local/lib/python3.10/dist-packages/ipykernel/ipkernel.py:283: DeprecationWarning: `should_run_async` will not call `transform_cell` automatically in the future. Please pass the result to `transformed_cell` argument and any exception that happen during thetransform in `preprocessing_exc_tuple` in IPython 7.17 and above.\n",
            "  and should_run_async(code)\n"
          ]
        }
      ],
      "source": [
        "# Tokenization\n",
        "def tokenize(text):\n",
        "  return word_tokenize(text)"
      ]
    },
    {
      "cell_type": "code",
      "execution_count": null,
      "metadata": {
        "colab": {
          "base_uri": "https://localhost:8080/"
        },
        "id": "wiepiwetyL-5",
        "outputId": "a444879a-362d-4b74-be47-61f33aad6142"
      },
      "outputs": [
        {
          "name": "stderr",
          "output_type": "stream",
          "text": [
            "/usr/local/lib/python3.10/dist-packages/ipykernel/ipkernel.py:283: DeprecationWarning: `should_run_async` will not call `transform_cell` automatically in the future. Please pass the result to `transformed_cell` argument and any exception that happen during thetransform in `preprocessing_exc_tuple` in IPython 7.17 and above.\n",
            "  and should_run_async(code)\n"
          ]
        }
      ],
      "source": [
        "new_tag_df['new_tags']= new_tag_df['new_tags'].apply(tokenize)"
      ]
    },
    {
      "cell_type": "markdown",
      "metadata": {
        "id": "9ExmJH0g5HBk"
      },
      "source": [
        "#### 8. Text Normalization"
      ]
    },
    {
      "cell_type": "code",
      "execution_count": null,
      "metadata": {
        "colab": {
          "base_uri": "https://localhost:8080/"
        },
        "id": "AIJ1a-Zc5PY8",
        "outputId": "4d4e5c84-0d76-4ce9-a7a5-138676cbd97d"
      },
      "outputs": [
        {
          "name": "stderr",
          "output_type": "stream",
          "text": [
            "/usr/local/lib/python3.10/dist-packages/ipykernel/ipkernel.py:283: DeprecationWarning: `should_run_async` will not call `transform_cell` automatically in the future. Please pass the result to `transformed_cell` argument and any exception that happen during thetransform in `preprocessing_exc_tuple` in IPython 7.17 and above.\n",
            "  and should_run_async(code)\n"
          ]
        }
      ],
      "source": [
        "# Normalizing Text (i.e., Stemming, Lemmatization etc.)\n",
        "def normalization(text):\n",
        "  lemmatizer = WordNetLemmatizer()\n",
        "  return ' '.join([lemmatizer.lemmatize(i) for i in text])"
      ]
    },
    {
      "cell_type": "code",
      "execution_count": null,
      "metadata": {
        "colab": {
          "base_uri": "https://localhost:8080/"
        },
        "id": "kmoBIIxAzEPo",
        "outputId": "ccd8b349-c637-4ac8-a808-88d2c3559fb7"
      },
      "outputs": [
        {
          "name": "stderr",
          "output_type": "stream",
          "text": [
            "/usr/local/lib/python3.10/dist-packages/ipykernel/ipkernel.py:283: DeprecationWarning: `should_run_async` will not call `transform_cell` automatically in the future. Please pass the result to `transformed_cell` argument and any exception that happen during thetransform in `preprocessing_exc_tuple` in IPython 7.17 and above.\n",
            "  and should_run_async(code)\n"
          ]
        }
      ],
      "source": [
        "new_tag_df['new_tags']= new_tag_df['new_tags'].apply(normalization)"
      ]
    },
    {
      "cell_type": "markdown",
      "metadata": {
        "id": "1l2OH3Ct0FH9"
      },
      "source": [
        "### 9. All text to list."
      ]
    },
    {
      "cell_type": "code",
      "execution_count": null,
      "metadata": {
        "colab": {
          "base_uri": "https://localhost:8080/"
        },
        "id": "FmiMr2y00RpS",
        "outputId": "05d17a49-3321-4aeb-bb49-48cfdc6e8117"
      },
      "outputs": [
        {
          "name": "stderr",
          "output_type": "stream",
          "text": [
            "/usr/local/lib/python3.10/dist-packages/ipykernel/ipkernel.py:283: DeprecationWarning: `should_run_async` will not call `transform_cell` automatically in the future. Please pass the result to `transformed_cell` argument and any exception that happen during thetransform in `preprocessing_exc_tuple` in IPython 7.17 and above.\n",
            "  and should_run_async(code)\n"
          ]
        },
        {
          "data": {
            "text/plain": [
              "2225"
            ]
          },
          "execution_count": 66,
          "metadata": {},
          "output_type": "execute_result"
        }
      ],
      "source": [
        "data = list(new_tag_df['new_tags'].apply(tokenize))\n",
        "len(data)"
      ]
    },
    {
      "cell_type": "markdown",
      "metadata": {
        "id": "rWZNafsv0tl5"
      },
      "source": [
        "### 10. Dictionary of all the words with unique integer id."
      ]
    },
    {
      "cell_type": "code",
      "execution_count": null,
      "metadata": {
        "colab": {
          "base_uri": "https://localhost:8080/"
        },
        "id": "Yx-kV8Bf077C",
        "outputId": "8cba320b-ca8d-4c43-eae1-f35c203f5dfd"
      },
      "outputs": [
        {
          "name": "stderr",
          "output_type": "stream",
          "text": [
            "/usr/local/lib/python3.10/dist-packages/ipykernel/ipkernel.py:283: DeprecationWarning: `should_run_async` will not call `transform_cell` automatically in the future. Please pass the result to `transformed_cell` argument and any exception that happen during thetransform in `preprocessing_exc_tuple` in IPython 7.17 and above.\n",
            "  and should_run_async(code)\n"
          ]
        },
        {
          "name": "stdout",
          "output_type": "stream",
          "text": [
            "Total Vocabulary Size: 22760\n"
          ]
        }
      ],
      "source": [
        "id2word = corpora.Dictionary(data)\n",
        "print('Total Vocabulary Size:', len(id2word))"
      ]
    },
    {
      "cell_type": "markdown",
      "metadata": {
        "id": "MDo7ZVL_Nc8t"
      },
      "source": [
        "### 11. Dictionary for word id and word count."
      ]
    },
    {
      "cell_type": "code",
      "execution_count": null,
      "metadata": {
        "colab": {
          "base_uri": "https://localhost:8080/"
        },
        "id": "lwSHFB2HMCNS",
        "outputId": "32bedb99-611c-4411-8ae7-325ac7fe0381"
      },
      "outputs": [
        {
          "name": "stderr",
          "output_type": "stream",
          "text": [
            "/usr/local/lib/python3.10/dist-packages/ipykernel/ipkernel.py:283: DeprecationWarning: `should_run_async` will not call `transform_cell` automatically in the future. Please pass the result to `transformed_cell` argument and any exception that happen during thetransform in `preprocessing_exc_tuple` in IPython 7.17 and above.\n",
            "  and should_run_async(code)\n"
          ]
        }
      ],
      "source": [
        "corpus = [id2word.doc2bow(text) for text in data]"
      ]
    },
    {
      "cell_type": "code",
      "execution_count": null,
      "metadata": {
        "colab": {
          "base_uri": "https://localhost:8080/"
        },
        "id": "pcvXza18MNcT",
        "outputId": "17c6576b-d0a5-4570-b880-a5aee177ef66"
      },
      "outputs": [
        {
          "name": "stderr",
          "output_type": "stream",
          "text": [
            "/usr/local/lib/python3.10/dist-packages/ipykernel/ipkernel.py:283: DeprecationWarning: `should_run_async` will not call `transform_cell` automatically in the future. Please pass the result to `transformed_cell` argument and any exception that happen during thetransform in `preprocessing_exc_tuple` in IPython 7.17 and above.\n",
            "  and should_run_async(code)\n"
          ]
        }
      ],
      "source": [
        "dict_corpus ={}\n",
        "for k in range(len(corpus)):\n",
        "  for i,j in corpus[k]:\n",
        "    if id2word[i] in dict_corpus :\n",
        "      dict_corpus[id2word[i]] += j\n",
        "    else :\n",
        "      dict_corpus[id2word[i]] = j\n",
        "\n",
        "dict_df = pd.DataFrame.from_dict(dict_corpus, orient='index', columns=['freq'])"
      ]
    },
    {
      "cell_type": "code",
      "execution_count": null,
      "metadata": {
        "colab": {
          "base_uri": "https://localhost:8080/",
          "height": 478
        },
        "id": "BxZUeG2pNlbN",
        "outputId": "6132d85c-1a8f-477d-f78c-9fa02e21747a"
      },
      "outputs": [
        {
          "name": "stderr",
          "output_type": "stream",
          "text": [
            "/usr/local/lib/python3.10/dist-packages/ipykernel/ipkernel.py:283: DeprecationWarning: `should_run_async` will not call `transform_cell` automatically in the future. Please pass the result to `transformed_cell` argument and any exception that happen during thetransform in `preprocessing_exc_tuple` in IPython 7.17 and above.\n",
            "  and should_run_async(code)\n"
          ]
        },
        {
          "data": {
            "text/html": [
              "\n",
              "  <div id=\"df-ffc0f1f7-f260-4ae1-b3bd-06b886ab82a0\">\n",
              "    <div class=\"colab-df-container\">\n",
              "      <div>\n",
              "<style scoped>\n",
              "    .dataframe tbody tr th:only-of-type {\n",
              "        vertical-align: middle;\n",
              "    }\n",
              "\n",
              "    .dataframe tbody tr th {\n",
              "        vertical-align: top;\n",
              "    }\n",
              "\n",
              "    .dataframe thead th {\n",
              "        text-align: right;\n",
              "    }\n",
              "</style>\n",
              "<table border=\"1\" class=\"dataframe\">\n",
              "  <thead>\n",
              "    <tr style=\"text-align: right;\">\n",
              "      <th></th>\n",
              "      <th>freq</th>\n",
              "    </tr>\n",
              "  </thead>\n",
              "  <tbody>\n",
              "    <tr>\n",
              "      <th>state</th>\n",
              "      <td>9804</td>\n",
              "    </tr>\n",
              "    <tr>\n",
              "      <th>Mister</th>\n",
              "      <td>3005</td>\n",
              "    </tr>\n",
              "    <tr>\n",
              "      <th>would</th>\n",
              "      <td>2746</td>\n",
              "    </tr>\n",
              "    <tr>\n",
              "      <th>United_States</th>\n",
              "      <td>2175</td>\n",
              "    </tr>\n",
              "    <tr>\n",
              "      <th>besides</th>\n",
              "      <td>2157</td>\n",
              "    </tr>\n",
              "    <tr>\n",
              "      <th>...</th>\n",
              "      <td>...</td>\n",
              "    </tr>\n",
              "    <tr>\n",
              "      <th>steadfast</th>\n",
              "      <td>1</td>\n",
              "    </tr>\n",
              "    <tr>\n",
              "      <th>behindclosed</th>\n",
              "      <td>1</td>\n",
              "    </tr>\n",
              "    <tr>\n",
              "      <th>captivity</th>\n",
              "      <td>1</td>\n",
              "    </tr>\n",
              "    <tr>\n",
              "      <th>exaides</th>\n",
              "      <td>1</td>\n",
              "    </tr>\n",
              "    <tr>\n",
              "      <th>seventy-five</th>\n",
              "      <td>1</td>\n",
              "    </tr>\n",
              "  </tbody>\n",
              "</table>\n",
              "<p>22760 rows × 1 columns</p>\n",
              "</div>\n",
              "      <button class=\"colab-df-convert\" onclick=\"convertToInteractive('df-ffc0f1f7-f260-4ae1-b3bd-06b886ab82a0')\"\n",
              "              title=\"Convert this dataframe to an interactive table.\"\n",
              "              style=\"display:none;\">\n",
              "        \n",
              "  <svg xmlns=\"http://www.w3.org/2000/svg\" height=\"24px\"viewBox=\"0 0 24 24\"\n",
              "       width=\"24px\">\n",
              "    <path d=\"M0 0h24v24H0V0z\" fill=\"none\"/>\n",
              "    <path d=\"M18.56 5.44l.94 2.06.94-2.06 2.06-.94-2.06-.94-.94-2.06-.94 2.06-2.06.94zm-11 1L8.5 8.5l.94-2.06 2.06-.94-2.06-.94L8.5 2.5l-.94 2.06-2.06.94zm10 10l.94 2.06.94-2.06 2.06-.94-2.06-.94-.94-2.06-.94 2.06-2.06.94z\"/><path d=\"M17.41 7.96l-1.37-1.37c-.4-.4-.92-.59-1.43-.59-.52 0-1.04.2-1.43.59L10.3 9.45l-7.72 7.72c-.78.78-.78 2.05 0 2.83L4 21.41c.39.39.9.59 1.41.59.51 0 1.02-.2 1.41-.59l7.78-7.78 2.81-2.81c.8-.78.8-2.07 0-2.86zM5.41 20L4 18.59l7.72-7.72 1.47 1.35L5.41 20z\"/>\n",
              "  </svg>\n",
              "      </button>\n",
              "      \n",
              "  <style>\n",
              "    .colab-df-container {\n",
              "      display:flex;\n",
              "      flex-wrap:wrap;\n",
              "      gap: 12px;\n",
              "    }\n",
              "\n",
              "    .colab-df-convert {\n",
              "      background-color: #E8F0FE;\n",
              "      border: none;\n",
              "      border-radius: 50%;\n",
              "      cursor: pointer;\n",
              "      display: none;\n",
              "      fill: #1967D2;\n",
              "      height: 32px;\n",
              "      padding: 0 0 0 0;\n",
              "      width: 32px;\n",
              "    }\n",
              "\n",
              "    .colab-df-convert:hover {\n",
              "      background-color: #E2EBFA;\n",
              "      box-shadow: 0px 1px 2px rgba(60, 64, 67, 0.3), 0px 1px 3px 1px rgba(60, 64, 67, 0.15);\n",
              "      fill: #174EA6;\n",
              "    }\n",
              "\n",
              "    [theme=dark] .colab-df-convert {\n",
              "      background-color: #3B4455;\n",
              "      fill: #D2E3FC;\n",
              "    }\n",
              "\n",
              "    [theme=dark] .colab-df-convert:hover {\n",
              "      background-color: #434B5C;\n",
              "      box-shadow: 0px 1px 3px 1px rgba(0, 0, 0, 0.15);\n",
              "      filter: drop-shadow(0px 1px 2px rgba(0, 0, 0, 0.3));\n",
              "      fill: #FFFFFF;\n",
              "    }\n",
              "  </style>\n",
              "\n",
              "      <script>\n",
              "        const buttonEl =\n",
              "          document.querySelector('#df-ffc0f1f7-f260-4ae1-b3bd-06b886ab82a0 button.colab-df-convert');\n",
              "        buttonEl.style.display =\n",
              "          google.colab.kernel.accessAllowed ? 'block' : 'none';\n",
              "\n",
              "        async function convertToInteractive(key) {\n",
              "          const element = document.querySelector('#df-ffc0f1f7-f260-4ae1-b3bd-06b886ab82a0');\n",
              "          const dataTable =\n",
              "            await google.colab.kernel.invokeFunction('convertToInteractive',\n",
              "                                                     [key], {});\n",
              "          if (!dataTable) return;\n",
              "\n",
              "          const docLinkHtml = 'Like what you see? Visit the ' +\n",
              "            '<a target=\"_blank\" href=https://colab.research.google.com/notebooks/data_table.ipynb>data table notebook</a>'\n",
              "            + ' to learn more about interactive tables.';\n",
              "          element.innerHTML = '';\n",
              "          dataTable['output_type'] = 'display_data';\n",
              "          await google.colab.output.renderOutput(dataTable, element);\n",
              "          const docLink = document.createElement('div');\n",
              "          docLink.innerHTML = docLinkHtml;\n",
              "          element.appendChild(docLink);\n",
              "        }\n",
              "      </script>\n",
              "    </div>\n",
              "  </div>\n",
              "  "
            ],
            "text/plain": [
              "               freq\n",
              "state          9804\n",
              "Mister         3005\n",
              "would          2746\n",
              "United_States  2175\n",
              "besides        2157\n",
              "...             ...\n",
              "steadfast         1\n",
              "behindclosed      1\n",
              "captivity         1\n",
              "exaides           1\n",
              "seventy-five      1\n",
              "\n",
              "[22760 rows x 1 columns]"
            ]
          },
          "execution_count": 70,
          "metadata": {},
          "output_type": "execute_result"
        }
      ],
      "source": [
        "dict_df.sort_values(by = 'freq',ascending = False)"
      ]
    },
    {
      "cell_type": "markdown",
      "metadata": {
        "id": "pwtAQc0uN2r0"
      },
      "source": [
        "### 12. Filtering the words."
      ]
    },
    {
      "cell_type": "code",
      "execution_count": null,
      "metadata": {
        "colab": {
          "base_uri": "https://localhost:8080/",
          "height": 597
        },
        "id": "qETEkP-wOI3M",
        "outputId": "a34bfc21-8880-448a-ab24-ff5bce19330d"
      },
      "outputs": [
        {
          "name": "stderr",
          "output_type": "stream",
          "text": [
            "/usr/local/lib/python3.10/dist-packages/ipykernel/ipkernel.py:283: DeprecationWarning: `should_run_async` will not call `transform_cell` automatically in the future. Please pass the result to `transformed_cell` argument and any exception that happen during thetransform in `preprocessing_exc_tuple` in IPython 7.17 and above.\n",
            "  and should_run_async(code)\n"
          ]
        },
        {
          "data": {
            "image/png": "[encoded data removed]",
            "text/plain": [
              "<Figure size 800x600 with 1 Axes>"
            ]
          },
          "metadata": {},
          "output_type": "display_data"
        }
      ],
      "source": [
        "plt.figure(figsize=(8,6))\n",
        "sns.distplot(dict_df['freq'], bins=100);"
      ]
    },
    {
      "cell_type": "code",
      "execution_count": null,
      "metadata": {
        "colab": {
          "base_uri": "https://localhost:8080/"
        },
        "id": "5S-SeB6iN8IU",
        "outputId": "b7a04709-6e0b-4c20-8cbb-6bd361b1c37f"
      },
      "outputs": [
        {
          "name": "stderr",
          "output_type": "stream",
          "text": [
            "/usr/local/lib/python3.10/dist-packages/ipykernel/ipkernel.py:283: DeprecationWarning: `should_run_async` will not call `transform_cell` automatically in the future. Please pass the result to `transformed_cell` argument and any exception that happen during thetransform in `preprocessing_exc_tuple` in IPython 7.17 and above.\n",
            "  and should_run_async(code)\n"
          ]
        }
      ],
      "source": [
        "extensions = dict_df[dict_df['freq']>500].index.to_list()\n"
      ]
    },
    {
      "cell_type": "code",
      "execution_count": null,
      "metadata": {
        "colab": {
          "base_uri": "https://localhost:8080/"
        },
        "id": "KYbxftf8OWfC",
        "outputId": "0c7f2c4f-1a0a-47a1-ed3e-1a7dda7b0631"
      },
      "outputs": [
        {
          "name": "stderr",
          "output_type": "stream",
          "text": [
            "/usr/local/lib/python3.10/dist-packages/ipykernel/ipkernel.py:283: DeprecationWarning: `should_run_async` will not call `transform_cell` automatically in the future. Please pass the result to `transformed_cell` argument and any exception that happen during thetransform in `preprocessing_exc_tuple` in IPython 7.17 and above.\n",
            "  and should_run_async(code)\n"
          ]
        }
      ],
      "source": [
        "ids=[id2word.token2id[extensions[i]] for i in range(len(extensions))]\n",
        "id2word.filter_tokens(bad_ids=ids)"
      ]
    },
    {
      "cell_type": "code",
      "execution_count": null,
      "metadata": {
        "colab": {
          "base_uri": "https://localhost:8080/"
        },
        "id": "76WSBVZcQGZ9",
        "outputId": "e418f74a-bf7f-4ae3-df58-00617941eeea"
      },
      "outputs": [
        {
          "name": "stderr",
          "output_type": "stream",
          "text": [
            "/usr/local/lib/python3.10/dist-packages/ipykernel/ipkernel.py:283: DeprecationWarning: `should_run_async` will not call `transform_cell` automatically in the future. Please pass the result to `transformed_cell` argument and any exception that happen during thetransform in `preprocessing_exc_tuple` in IPython 7.17 and above.\n",
            "  and should_run_async(code)\n"
          ]
        }
      ],
      "source": [
        "# Create Corpus: Term Document Frequency\n",
        "corpus=[id2word.doc2bow(text) for text in data]"
      ]
    },
    {
      "cell_type": "markdown",
      "metadata": {
        "id": "VfCC591jGiD4"
      },
      "source": [
        "## ***7. ML Model Implementation***"
      ]
    },
    {
      "cell_type": "markdown",
      "metadata": {
        "id": "OB4l2ZhMeS1U"
      },
      "source": [
        "### ML Model - 1"
      ]
    },
    {
      "cell_type": "code",
      "execution_count": null,
      "metadata": {
        "colab": {
          "base_uri": "https://localhost:8080/"
        },
        "id": "7ebyywQieS1U",
        "outputId": "c8a0a13f-52e6-4db5-b0e2-d25841fe95ac"
      },
      "outputs": [
        {
          "name": "stderr",
          "output_type": "stream",
          "text": [
            "/usr/local/lib/python3.10/dist-packages/ipykernel/ipkernel.py:283: DeprecationWarning: `should_run_async` will not call `transform_cell` automatically in the future. Please pass the result to `transformed_cell` argument and any exception that happen during thetransform in `preprocessing_exc_tuple` in IPython 7.17 and above.\n",
            "  and should_run_async(code)\n"
          ]
        }
      ],
      "source": [
        "# ML Model - 1 Implementation\n",
        "ldamallet = gensim.models.LdaModel(corpus=corpus, num_topics=5, id2word=id2word,passes=20)\n"
      ]
    },
    {
      "cell_type": "code",
      "execution_count": null,
      "metadata": {
        "colab": {
          "base_uri": "https://localhost:8080/"
        },
        "id": "lgTfhQ5vQdiD",
        "outputId": "bb09a06b-4e1c-4e4d-9e6f-abbde7ef38e0"
      },
      "outputs": [
        {
          "name": "stdout",
          "output_type": "stream",
          "text": [
            "[(0,\n",
            "  [('user', 0.011147337),\n",
            "   ('site', 0.008991302),\n",
            "   ('software', 0.008705234),\n",
            "   ('computer', 0.008055301),\n",
            "   ('security', 0.007657854),\n",
            "   ('search', 0.0073217405),\n",
            "   ('web_site', 0.006692623),\n",
            "   ('virus', 0.0062311366),\n",
            "   ('information', 0.0061679734),\n",
            "   ('electronic_mail', 0.0052752006)]),\n",
            " (1,\n",
            "  [('digital', 0.00835885),\n",
            "   ('video', 0.00674747),\n",
            "   ('device', 0.006067577),\n",
            "   ('consumer', 0.0053922697),\n",
            "   ('medium', 0.004880827),\n",
            "   ('content', 0.004661244),\n",
            "   ('broadband', 0.0044792453),\n",
            "   ('appliance', 0.0043895296),\n",
            "   ('computer', 0.00412541),\n",
            "   ('radio', 0.0038552363)]),\n",
            " (2,\n",
            "  [('on-line', 0.0088544525),\n",
            "   ('patent', 0.008441969),\n",
            "   ('software', 0.005814872),\n",
            "   ('sphere', 0.00547072),\n",
            "   ('appliance', 0.005365583),\n",
            "   ('user', 0.005283712),\n",
            "   ('computer', 0.0046720486),\n",
            "   ('laptop', 0.0037922184),\n",
            "   ('entree', 0.0035031815),\n",
            "   ('broadband', 0.0035024881)]),\n",
            " (3,\n",
            "  [('sport', 0.0038501273),\n",
            "   ('title', 0.00359097),\n",
            "   ('team', 0.003200998),\n",
            "   ('match', 0.0031448654),\n",
            "   ('prize', 0.0025767533),\n",
            "   ('side', 0.0025742312),\n",
            "   ('great', 0.0024621324),\n",
            "   ('truly', 0.0024569714),\n",
            "   ('point', 0.0023916883),\n",
            "   ('six', 0.0023619558)]),\n",
            " (4,\n",
            "  [('court', 0.002905066),\n",
            "   ('issue', 0.0024215034),\n",
            "   ('deal', 0.0023674858),\n",
            "   ('case', 0.0023575579),\n",
            "   ('brown', 0.0023321812),\n",
            "   ('China', 0.0022646463),\n",
            "   ('wage', 0.0021839663),\n",
            "   ('Godhead', 0.0021358652),\n",
            "   ('committee', 0.0020700803),\n",
            "   ('occupation', 0.0020312164)])]\n"
          ]
        },
        {
          "name": "stderr",
          "output_type": "stream",
          "text": [
            "/usr/local/lib/python3.10/dist-packages/ipykernel/ipkernel.py:283: DeprecationWarning: `should_run_async` will not call `transform_cell` automatically in the future. Please pass the result to `transformed_cell` argument and any exception that happen during thetransform in `preprocessing_exc_tuple` in IPython 7.17 and above.\n",
            "  and should_run_async(code)\n"
          ]
        }
      ],
      "source": [
        "from pprint import pprint\n",
        "# display topics\n",
        "pprint(ldamallet.show_topics(formatted=False))"
      ]
    },
    {
      "cell_type": "code",
      "execution_count": null,
      "metadata": {
        "colab": {
          "base_uri": "https://localhost:8080/"
        },
        "id": "PTgpS5H1Qmfq",
        "outputId": "4f88d5ee-e32d-4fcc-bf69-3e12d72f56eb"
      },
      "outputs": [
        {
          "name": "stderr",
          "output_type": "stream",
          "text": [
            "/usr/local/lib/python3.10/dist-packages/ipykernel/ipkernel.py:283: DeprecationWarning: `should_run_async` will not call `transform_cell` automatically in the future. Please pass the result to `transformed_cell` argument and any exception that happen during thetransform in `preprocessing_exc_tuple` in IPython 7.17 and above.\n",
            "  and should_run_async(code)\n"
          ]
        },
        {
          "name": "stdout",
          "output_type": "stream",
          "text": [
            "Coherence Score:  0.5474030092664567\n"
          ]
        }
      ],
      "source": [
        "# Compute Coherence Score\n",
        "coherence_model_ldamallet = CoherenceModel(model=ldamallet, texts=data, dictionary=id2word, coherence='c_v')\n",
        "coherence_ldamallet = coherence_model_ldamallet.get_coherence()\n",
        "print('Coherence Score: ', coherence_ldamallet)"
      ]
    },
    {
      "cell_type": "code",
      "execution_count": null,
      "metadata": {
        "colab": {
          "base_uri": "https://localhost:8080/"
        },
        "id": "pM3eWwgZSoam",
        "outputId": "ff71e23b-a726-47f8-d522-e08be1d89af3"
      },
      "outputs": [
        {
          "name": "stderr",
          "output_type": "stream",
          "text": [
            "/usr/local/lib/python3.10/dist-packages/ipykernel/ipkernel.py:283: DeprecationWarning: `should_run_async` will not call `transform_cell` automatically in the future. Please pass the result to `transformed_cell` argument and any exception that happen during thetransform in `preprocessing_exc_tuple` in IPython 7.17 and above.\n",
            "  and should_run_async(code)\n"
          ]
        }
      ],
      "source": [
        "tm_results = ldamallet[corpus]\n",
        "topic_df=pd.DataFrame(tm_results)"
      ]
    },
    {
      "cell_type": "code",
      "execution_count": null,
      "metadata": {
        "colab": {
          "base_uri": "https://localhost:8080/",
          "height": 916
        },
        "id": "bbalCuccV3RT",
        "outputId": "fcc9afb6-c8ac-4626-a297-eb14e180aab0"
      },
      "outputs": [
        {
          "name": "stderr",
          "output_type": "stream",
          "text": [
            "/usr/local/lib/python3.10/dist-packages/ipykernel/ipkernel.py:283: DeprecationWarning: `should_run_async` will not call `transform_cell` automatically in the future. Please pass the result to `transformed_cell` argument and any exception that happen during thetransform in `preprocessing_exc_tuple` in IPython 7.17 and above.\n",
            "  and should_run_async(code)\n"
          ]
        },
        {
          "data": {
            "text/html": [
              "\n",
              "<link rel=\"stylesheet\" type=\"text/css\" href=\"https://cdn.jsdelivr.net/gh/bmabey/pyLDAvis@3.4.0/pyLDAvis/js/ldavis.v1.0.0.css\">\n",
              "\n",
              "\n",
              "<div id=\"ldavis_el4951397252951356327717608503\" style=\"background-color:white;\"></div>\n",
              "<script type=\"text/javascript\">\n",
              "\n",
              "var ldavis_el4951397252951356327717608503_data = {\"mdsDat\": {\"x\": [-0.11132692219376214, -0.0742407593631969, -0.09901013275012713, 0.23502430883168102, 0.049553505475405074], \"y\": [0.10510597499695451, 0.09438540715092983, -0.17609893855251676, 0.013112399659737031, -0.03650484325510467], \"topics\": [1, 2, 3, 4, 5], \"cluster\": [1, 1, 1, 1, 1], \"Freq\": [8.059796559615643, 12.896817743396236, 3.5673690299117204, 26.77215233759868, 48.70386432947772]}, \"tinfo\": {\"Term\": [\"user\", \"computer\", \"software\", \"digital\", \"security\", \"on-line\", \"site\", \"appliance\", \"law\", \"video\", \"search\", \"web_site\", \"device\", \"information\", \"consumer\", \"attack\", \"exploitation\", \"network\", \"broadband\", \"virus\", \"medium\", \"personal_computer\", \"radio\", \"electronic_mail\", \"data\", \"content\", \"committee\", \"list\", \"patent\", \"web\", \"virus\", \"Google\", \"browser\", \"malicious\", \"spyware\", \"infect\", \"jeeves\", \"antivirus\", \"worm\", \"millan\", \"xp\", \"firefox\", \"scam\", \"bot\", \"spammer\", \"screensaver\", \"debris\", \"hacker\", \"lycos\", \"bloglines\", \"bittorrent\", \"firewall\", \"uwb\", \"Internet_Explorer\", \"explorer\", \"wong\", \"search\", \"blinkx\", \"phishing\", \"Hogan\", \"site\", \"web_log\", \"traffic\", \"update\", \"electronic_mail\", \"Windows\", \"web\", \"user\", \"Spam\", \"security\", \"software\", \"information\", \"web_site\", \"computer\", \"hiphop\", \"microsoft\", \"machine\", \"file\", \"network\", \"data\", \"attack\", \"tool\", \"version\", \"exploitation\", \"personal_computer\", \"message\", \"on-line\", \"code\", \"problem\", \"found\", \"ask\", \"radio\", \"xbox\", \"darmstadtium\", \"playstation\", \"ink\", \"cerium\", \"laser\", \"iptv\", \"highdefinition\", \"Ea\", \"psp\", \"printer\", \"intel\", \"french_fries\", \"life_style\", \"iPod\", \"grid\", \"subscription\", \"revolution\", \"cea\", \"hd\", \"napster\", \"drm\", \"nintendo\", \"horsepower\", \"tremor\", \"miniskirt\", \"bts\", \"telewest\", \"experiment\", \"argonaut\", \"console_table\", \"digital\", \"synergistic\", \"macintosh\", \"device\", \"portable\", \"sony\", \"electronics\", \"hand-held\", \"video\", \"content\", \"bt\", \"gambling\", \"cell\", \"broadband\", \"handset\", \"appliance\", \"consumer\", \"download\", \"entertainment\", \"apple\", \"gamers\", \"camera\", \"medium\", \"videodisk\", \"personal_computer\", \"radio\", \"computer\", \"research\", \"industry\", \"customer\", \"network\", \"on-line\", \"drive\", \"screen\", \"harmonize\", \"establish\", \"control\", \"program\", \"Europe\", \"mean\", \"jaynes\", \"directive\", \"patent\", \"icann\", \"Department_of_Defense\", \"bluray\", \"personal_digital_assistant\", \"broadreach\", \"Environmental_Protection_Agency\", \"intellectual\", \"ebbers\", \"land_line\", \"negroponte\", \"ash\", \"entropia\", \"skype\", \"custom\", \"Marine\", \"Sinclair\", \"calculator\", \"chronometer\", \"accumulate\", \"ippr\", \"hot_spot\", \"warez\", \"kilgore\", \"mda\", \"nineyear\", \"deathifier\", \"degroot\", \"cabir\", \"generic\", \"skull\", \"useless\", \"distributor\", \"commodore\", \"laptop\", \"Virginia\", \"donate\", \"sphere\", \"ebay\", \"demonstration\", \"text\", \"on-line\", \"sister\", \"appliance\", \"prosecutor\", \"software\", \"invention\", \"billion\", \"entree\", \"user\", \"computer\", \"message\", \"broadband\", \"exploitation\", \"law\", \"list\", \"name_calling\", \"ibm\", \"electronic_mail\", \"call\", \"community\", \"beginning\", \"history\", \"free\", \"open\", \"let\", \"without\", \"Academy_Award\", \"rugby\", \"championship\", \"tournament\", \"enemy\", \"actor\", \"nomination\", \"volt\", \"doom\", \"exeem\", \"arsenal\", \"roddick\", \"bafta\", \"casual\", \"aviator\", \"actress\", \"indoor\", \"tennis\", \"Pacific\", \"rifle\", \"antic\", \"franchise\", \"captain\", \"underbrush\", \"mourinho\", \"marathon\", \"Texas_Ranger\", \"cup\", \"sloncek\", \"festival\", \"league\", \"chelsea\", \"squad\", \"decoration\", \"season\", \"champion\", \"joule\", \"prize\", \"album\", \"comedy\", \"winner\", \"match\", \"football\", \"beat\", \"shooting\", \"victory\", \"Williams\", \"sport\", \"coach\", \"title\", \"team\", \"side\", \"Ireland\", \"final\", \"winning\", \"fan\", \"feel\", \"great\", \"minute\", \"tour\", \"six\", \"Wales\", \"truly\", \"injury\", \"point\", \"open\", \"four\", \"left\", \"five\", \"baseball_club\", \"prime\", \"brown\", \"Chancellor_of_the_Exchequer\", \"conservative\", \"debt\", \"mononuclear_phagocyte_system\", \"yukos\", \"Democrat\", \"liberal\", \"newspaper\", \"reporter\", \"lib\", \"investor\", \"reform\", \"suspend\", \"private\", \"Kennedy\", \"stockholder\", \"military_policeman\", \"finance\", \"sleep_together\", \"delta\", \"ukip\", \"poster\", \"politician\", \"simonetti\", \"dems\", \"Muslim\", \"parliamentary\", \"kilroysilk\", \"secretary\", \"pension\", \"economic\", \"China\", \"political\", \"foreign\", \"budget\", \"Iraq\", \"tony\", \"journalist\", \"police\", \"Howard\", \"Godhead\", \"oil\", \"court\", \"airline\", \"rule\", \"policy\", \"leader\", \"net_income\", \"committee\", \"general\", \"official\", \"investing\", \"wage\", \"bank\", \"cut\", \"issue\", \"deal\", \"rate\", \"case\", \"decision\", \"occupation\", \"addition\", \"executive\", \"business\", \"spokesman\", \"law\", \"former\", \"continue\", \"cost\", \"London\", \"political_campaign\"], \"Freq\": [487.0, 480.0, 432.0, 422.0, 348.0, 349.0, 291.0, 272.0, 348.0, 366.0, 218.0, 356.0, 311.0, 317.0, 365.0, 335.0, 319.0, 308.0, 268.0, 179.0, 422.0, 337.0, 412.0, 197.0, 284.0, 251.0, 398.0, 318.0, 110.0, 188.0, 178.78822446332353, 78.22064986788813, 74.53842130273667, 60.590068390241086, 59.22577453834206, 54.525341002074235, 51.205391614152276, 46.075926912993786, 34.082985696694315, 33.288325062159004, 33.20877649399695, 31.554994663582995, 30.615436387296604, 30.543319923445296, 30.255278282533315, 30.037078380512806, 29.52384564912081, 28.205958190565287, 27.00399819817111, 26.641839270719217, 37.607032359940156, 22.666862621970893, 21.580369138257215, 21.7164317616254, 19.77901744881191, 24.001346219972696, 210.0806103139595, 18.622869281416378, 17.322428061429424, 16.67212895505334, 257.98486160957134, 133.43648847491272, 63.352272587424935, 47.155950290617604, 151.35982471669982, 98.66938509202468, 143.79755670222485, 319.84735970215894, 80.21103086746818, 219.7246157562838, 249.77679884497334, 176.97589998167112, 192.02951536400266, 231.12846333287598, 48.37694315059051, 120.11036803667139, 119.63512755446163, 114.18591535436074, 139.30747008944513, 126.50220488238777, 137.5009710414637, 67.21642570501723, 104.87164816333548, 117.7870888888584, 115.28471773892167, 78.29867193192884, 86.22333269286771, 67.81573055500675, 81.27079215756434, 77.10441794611664, 76.43920953745244, 77.0932013140827, 93.85791640776128, 78.42599542618402, 67.30072901392931, 65.16561984942646, 50.77676307997713, 45.62326122947463, 45.214787297578546, 44.71036958809586, 41.042407516174464, 38.345051406145465, 35.07225711674817, 50.431444585309166, 32.77908297719903, 32.450135936849755, 137.21969345937646, 34.06668476433898, 29.836847218022726, 28.854434353554414, 28.608787710056877, 27.793157366176416, 27.859784321386897, 27.54376126946159, 101.24486839175444, 26.319304229733028, 24.682238971488886, 83.36540697216958, 24.110507486070958, 23.456630104007896, 23.929566303227073, 23.771124512141125, 169.90204428500522, 383.774982068595, 61.15290317066949, 90.38591738364056, 278.57709427960026, 124.70984991508097, 137.84866089600945, 85.02257443077045, 64.14987880885491, 309.79262052328414, 214.0089550116349, 119.5503136630356, 175.072719326081, 66.38540811169914, 205.65296045144578, 96.0221553228475, 201.5338961309718, 247.57211466618796, 164.07603002942884, 89.57673567170117, 167.11294282290947, 89.71962110699393, 115.38637349193814, 224.09054254729983, 87.1881121585891, 173.11896290236606, 177.00320401877943, 189.40753907197106, 151.6843730988764, 166.75025872096714, 114.28959829566116, 142.71069954851887, 140.41193997972945, 129.23062685837064, 117.58143114865075, 132.733316346317, 127.69464985201337, 124.62217203827917, 122.07867980532244, 120.31768215684401, 120.60822068569014, 37.71166832651774, 28.981105091575547, 107.21099824503557, 25.530075834160815, 16.72276198387968, 15.437645647441117, 13.158041636199506, 12.619768678893935, 12.610314010793603, 12.300061923091521, 11.710913389345823, 11.616413279420707, 11.43673097133003, 11.248202376049619, 10.5286858706981, 34.063674455655196, 10.057465656111596, 9.52735076895108, 9.52647257147624, 9.524742049347791, 9.165298336255821, 8.617890055386223, 8.437597148714554, 29.42046699254829, 8.403148596084092, 7.070730828652248, 6.800405678669882, 6.882600674818756, 6.3465025129432995, 6.34629922649079, 22.111680335773237, 6.4312862696619435, 20.00790801760005, 11.376498304286777, 17.804846160680633, 29.43388833375467, 48.16027264094959, 19.625541724123156, 20.498107794616267, 69.47684569764687, 18.940636400564106, 17.26675061700634, 33.95218477286457, 112.44944322555843, 28.298624420977333, 68.1416307086285, 26.82272337924724, 73.84749555591112, 35.14846123343933, 33.02065084667454, 44.489572782176985, 67.10188629493267, 59.33390732854848, 37.6918305256467, 44.48076715227775, 42.000075139107985, 43.01610526408929, 40.56645767949979, 27.279950832889945, 26.990621726103566, 32.966796938899286, 37.26023342793635, 33.090882989510845, 35.817301752685914, 33.1424009511409, 30.944296326768853, 32.09829511900943, 31.81274787946318, 30.136484753246258, 144.83162529191023, 165.54174985316257, 117.27279636259125, 107.71664917865942, 115.0515850500687, 181.61168827898533, 123.12639211554041, 98.17875384473783, 96.70744392227118, 88.56031182075586, 125.89868724952711, 79.4613707057431, 80.4632585794358, 76.16610181837794, 72.38823515464784, 115.17818298843758, 63.19518328474948, 52.5857712110323, 52.52553455832374, 51.85205793597028, 58.14611132769234, 64.23233217931302, 84.78354914430602, 49.03257428034617, 46.22210559623168, 45.164272196268996, 45.15962047097003, 210.63640150484085, 44.38975854707314, 105.66264478385983, 191.32108443090584, 161.8543768603647, 107.38964703671307, 81.01405392181162, 198.05243328677898, 215.60017241455532, 64.30672095037298, 245.5860424859044, 161.02740717233243, 93.28378519758476, 189.79241155126417, 299.73185867743183, 194.93472882594202, 180.944746817517, 173.03277510204543, 167.8850765828357, 156.41451559679658, 366.9491949369603, 171.11957069303912, 342.2493491076645, 305.0817699421957, 245.34567283324677, 198.1957408215706, 218.5794069130046, 163.37652567447083, 211.61978233548365, 210.67226167458742, 234.66171665357592, 213.74056963922646, 163.46351321494515, 225.11405741205007, 206.83886278635808, 234.16983761731217, 198.21116335744554, 227.94780968719584, 205.0925213392387, 195.54299807898838, 181.57922328620114, 190.51993362127712, 184.07029569048603, 299.2868998769316, 404.3647319839357, 235.37589410044924, 227.1601581035608, 178.76835909131304, 177.4782978554573, 167.1109694991637, 164.4895189661749, 162.34504169424238, 164.8986415420133, 159.6743608113365, 155.87634730308397, 141.60540946658566, 135.13530215025537, 131.20469570694524, 131.6029185743149, 117.8414613701486, 110.9362639317854, 106.16996271092582, 102.29784127740857, 102.22130110238369, 104.80588438070924, 97.97777210279438, 97.10023455551217, 95.8023618619205, 94.48017676304995, 91.9313102146048, 89.75902859375437, 92.64086105127399, 85.01125687729163, 270.74433792599433, 153.53166862661973, 335.50212994262534, 392.6552155452669, 314.76997612605686, 335.15715416958994, 220.7739381731491, 155.77131650120054, 191.54356424854421, 204.55242685991252, 234.6676754503707, 308.94268920899276, 370.3265168384182, 259.0064015067256, 503.6942193216928, 206.71149763040594, 293.64759256166246, 255.88327170681808, 247.66711183237805, 284.47286388133335, 358.9204159880864, 302.24822956001435, 261.88339974169287, 235.9905367348592, 378.6665296964955, 284.8380041150359, 344.80541462894956, 419.8518451621235, 410.48600825997596, 324.5689957012553, 408.7646617077287, 335.44938746442386, 352.18201436626276, 329.0970171842012, 284.8080702860375, 348.8501349645337, 279.10392989002474, 290.02582128395574, 311.2954518359046, 316.034867109208, 311.20288505250164, 311.27332946464213, 287.15750244647285], \"Total\": [487.0, 480.0, 432.0, 422.0, 348.0, 349.0, 291.0, 272.0, 348.0, 366.0, 218.0, 356.0, 311.0, 317.0, 365.0, 335.0, 319.0, 308.0, 268.0, 179.0, 422.0, 337.0, 412.0, 197.0, 284.0, 251.0, 398.0, 318.0, 110.0, 188.0, 179.58719656217366, 79.02173275201693, 75.3296088472008, 61.39094334985399, 60.01605604338451, 55.32317089357847, 51.995753648779996, 46.86755755512815, 34.87427645306029, 34.078509448585784, 34.00282347881644, 32.3453790690076, 31.407147310398955, 31.333512739522305, 31.04622032338174, 30.827666434935136, 30.332690000475843, 29.02229920761505, 27.79426074065164, 27.43202443369816, 38.80192424272977, 23.45799592073265, 22.372410685872048, 22.51878315215414, 20.56955275395769, 24.967954359226233, 218.97190361209283, 19.413082377188495, 18.113452464044915, 17.46231145462591, 291.2932658237093, 148.8047609171172, 69.51011709317311, 53.10591735558378, 197.41243665349896, 122.96451181553584, 188.21257149109894, 487.8969913826252, 100.05037610338896, 348.9009536121245, 432.6426205495991, 317.68759904724476, 356.3768116983189, 480.5383510082141, 58.750943530031414, 214.95318249144236, 215.82648885133497, 203.93735382176757, 308.07151476038763, 284.61600716434225, 335.55247230019586, 103.17178650822216, 231.54742463885967, 319.1719426601052, 337.0436181280849, 177.68219117666303, 349.51746997145295, 124.90400158039276, 446.9749496721706, 313.7383198627388, 340.8702775056455, 412.26468396345194, 94.70919124385257, 79.20940497061486, 68.0853703072699, 65.95907995656489, 51.56002479298035, 46.407448151579146, 45.99709279476898, 45.51276889672361, 41.82711142765596, 39.1279250766889, 35.85455883474399, 51.62608623082445, 33.56536416839808, 33.24116986783538, 140.70798710063679, 34.934140337589916, 30.620921788534314, 29.63901707927198, 29.391919366901522, 28.575621065974232, 28.650644218829548, 28.32734235994246, 104.21512926077463, 27.101862014174404, 25.465882941569344, 86.0718788016767, 24.893391138620874, 24.238944760725186, 24.731998711871274, 24.574372330049005, 182.57707493903612, 422.62612893288286, 64.8677826989309, 97.16722620705131, 311.54852941853585, 135.83267735433554, 152.96476655602382, 92.38555909744636, 68.7253416904441, 366.43888127245924, 251.38976066224387, 135.07740155153041, 212.63353837604967, 74.12627491378801, 268.19822497909155, 113.43230943827086, 272.2134965266637, 365.4453669162623, 229.37653975899565, 110.2728738058802, 251.04930412060435, 111.98042140202693, 158.1961776067033, 422.4474489160873, 112.18955559019099, 337.0436181280849, 412.26468396345194, 480.5383510082141, 317.9986134127573, 416.57653550831026, 187.39486551551633, 308.07151476038763, 349.51746997145295, 282.27808857192264, 250.39496934038658, 406.86027059211244, 406.53123947897166, 389.3231915500798, 345.00915431459737, 348.82818601876954, 464.96021368802167, 38.48733712045199, 29.760505878926228, 110.23948787914306, 26.30489592078655, 17.559507521359844, 16.213077998835132, 13.934883932651754, 13.394548745697879, 13.391314700921598, 13.099804077409447, 12.492661253363591, 12.39268462270561, 12.21189842817555, 12.033375238401547, 11.30346674539623, 36.72502466514134, 10.85537309627532, 10.304836921992624, 10.305511539559665, 10.306134345408825, 9.940083467690934, 9.39495903683492, 9.212389239924693, 32.16394031220418, 9.204337837637755, 7.850592912639203, 7.576099801476804, 7.672569335888013, 7.121282853485505, 7.12123862125245, 25.093819570248574, 7.217430927226308, 23.36072968275965, 13.267627479311754, 21.763308071321145, 38.31234560502555, 67.59074391379518, 24.596463607099277, 26.136114770848767, 118.50593490312917, 25.0314313391982, 23.75802310851889, 62.739292775057784, 349.51746997145295, 54.98655159930606, 272.2134965266637, 61.17980394433811, 432.6426205495991, 114.53121415765608, 101.23373827093326, 196.2332043537623, 487.8969913826252, 480.5383510082141, 177.68219117666303, 268.19822497909155, 319.1719426601052, 348.178388972945, 318.78993200531954, 87.16309379185076, 85.374172259309, 197.41243665349896, 339.851207236684, 214.7587023149504, 321.13097436466546, 362.4662075690445, 278.102546753381, 420.5094357145864, 427.59731378030176, 349.8333264240606, 145.3939351690343, 166.29324201194237, 117.83721425000918, 108.27618960030749, 115.65466258099464, 182.59925682928818, 123.79719920904705, 98.74716381997087, 97.26889938611782, 89.12337512762711, 126.7158437583653, 80.0198553046841, 81.0299203238852, 76.7341003072516, 72.94819170990813, 116.14091416322395, 63.75572024214033, 53.147941602724345, 53.09469233229954, 52.414095919541936, 58.794031116459465, 64.95121317073468, 85.74233962021975, 49.59120596437841, 46.79044767565718, 45.72498513779819, 45.721869797794874, 213.30008171793855, 44.95286064900242, 107.0206317981425, 194.65796422776125, 164.50548090792938, 108.79595390031551, 82.23140170509566, 203.51058349301184, 223.8466389639482, 65.23618775714321, 257.1948380649279, 167.94572315017828, 95.96053831908345, 203.6730950699259, 337.08515361904614, 212.83444319197312, 197.51267026905367, 189.53408867288067, 184.35352160248098, 170.92535020496055, 449.5951200924704, 191.84095655461954, 440.6943959907375, 397.3774125788518, 316.1491804352452, 244.8178007546191, 285.2941323056547, 193.57549677526816, 284.4425249577646, 287.12767095870873, 341.8500388044836, 298.67429599024837, 196.62301512159812, 390.4307554530546, 328.6213110876572, 438.0457155254347, 310.3967704252291, 450.25396982459654, 420.5094357145864, 419.7562235718089, 296.8688888942294, 428.8147778811681, 344.4122649613926, 299.7830890655016, 405.15464966340187, 235.86969741918307, 227.65449161061514, 179.2627558008733, 177.97229661224105, 167.60452515458473, 164.98547532986134, 162.83945574691802, 165.4012138125274, 160.17789681692517, 156.37001928840942, 142.1005198848179, 135.62955041360695, 131.70490216885113, 132.10544339518654, 118.33961011906663, 111.43083498179247, 106.66528777379436, 102.79216490052758, 102.71657245587983, 105.31762680667983, 98.47257232077071, 97.59507361562666, 96.2973030094669, 94.97402435856905, 92.4249408967069, 90.25345735442112, 93.1577466207533, 85.50942854408326, 272.90410179004493, 154.60535705137752, 341.7344673769896, 403.4059065914958, 322.27263812172805, 343.67938039266676, 225.3378737268874, 158.08780619385286, 195.759251980609, 209.53398744147333, 241.66653231731271, 321.69534463643424, 390.0015524226302, 269.8269495527218, 545.2950769336121, 213.37425610150893, 310.17899639156167, 269.22134263158677, 260.58209379820914, 305.4105174025799, 398.83522856265637, 332.8495233892007, 282.75778183075096, 250.72727119940492, 434.74317926255384, 312.3062206453667, 392.46374104207564, 496.4633738982779, 484.17998308007384, 367.6937417624192, 501.29740007940876, 393.5491499981002, 442.4205032973002, 406.619377032562, 327.8592069191857, 458.6389646299767, 321.92208958194357, 348.178388972945, 411.9539315174608, 445.81289798625903, 447.91332880474386, 449.24463775651435, 352.7733678554412], \"Category\": [\"Default\", \"Default\", \"Default\", \"Default\", \"Default\", \"Default\", \"Default\", \"Default\", \"Default\", \"Default\", \"Default\", \"Default\", \"Default\", \"Default\", \"Default\", \"Default\", \"Default\", \"Default\", \"Default\", \"Default\", \"Default\", \"Default\", \"Default\", \"Default\", \"Default\", \"Default\", \"Default\", \"Default\", \"Default\", \"Default\", \"Topic1\", \"Topic1\", \"Topic1\", \"Topic1\", \"Topic1\", \"Topic1\", \"Topic1\", \"Topic1\", \"Topic1\", \"Topic1\", \"Topic1\", \"Topic1\", \"Topic1\", \"Topic1\", \"Topic1\", \"Topic1\", \"Topic1\", \"Topic1\", \"Topic1\", \"Topic1\", \"Topic1\", \"Topic1\", \"Topic1\", \"Topic1\", \"Topic1\", \"Topic1\", \"Topic1\", \"Topic1\", \"Topic1\", \"Topic1\", \"Topic1\", \"Topic1\", \"Topic1\", \"Topic1\", \"Topic1\", \"Topic1\", \"Topic1\", \"Topic1\", \"Topic1\", \"Topic1\", \"Topic1\", \"Topic1\", \"Topic1\", \"Topic1\", \"Topic1\", \"Topic1\", \"Topic1\", \"Topic1\", \"Topic1\", \"Topic1\", \"Topic1\", \"Topic1\", \"Topic1\", \"Topic1\", \"Topic1\", \"Topic1\", \"Topic1\", \"Topic1\", \"Topic1\", \"Topic1\", \"Topic1\", \"Topic1\", \"Topic2\", \"Topic2\", \"Topic2\", \"Topic2\", \"Topic2\", \"Topic2\", \"Topic2\", \"Topic2\", \"Topic2\", \"Topic2\", \"Topic2\", \"Topic2\", \"Topic2\", \"Topic2\", \"Topic2\", \"Topic2\", \"Topic2\", \"Topic2\", \"Topic2\", \"Topic2\", \"Topic2\", \"Topic2\", \"Topic2\", \"Topic2\", \"Topic2\", \"Topic2\", \"Topic2\", \"Topic2\", \"Topic2\", \"Topic2\", \"Topic2\", \"Topic2\", \"Topic2\", \"Topic2\", \"Topic2\", \"Topic2\", \"Topic2\", \"Topic2\", \"Topic2\", \"Topic2\", \"Topic2\", \"Topic2\", \"Topic2\", \"Topic2\", \"Topic2\", \"Topic2\", \"Topic2\", \"Topic2\", \"Topic2\", \"Topic2\", \"Topic2\", \"Topic2\", \"Topic2\", \"Topic2\", \"Topic2\", \"Topic2\", \"Topic2\", \"Topic2\", \"Topic2\", \"Topic2\", \"Topic2\", \"Topic2\", \"Topic2\", \"Topic2\", \"Topic2\", \"Topic2\", \"Topic2\", \"Topic2\", \"Topic2\", \"Topic2\", \"Topic2\", \"Topic3\", \"Topic3\", \"Topic3\", \"Topic3\", \"Topic3\", \"Topic3\", \"Topic3\", \"Topic3\", \"Topic3\", \"Topic3\", \"Topic3\", \"Topic3\", \"Topic3\", \"Topic3\", \"Topic3\", \"Topic3\", \"Topic3\", \"Topic3\", \"Topic3\", \"Topic3\", \"Topic3\", \"Topic3\", \"Topic3\", \"Topic3\", \"Topic3\", \"Topic3\", \"Topic3\", \"Topic3\", \"Topic3\", \"Topic3\", \"Topic3\", \"Topic3\", \"Topic3\", \"Topic3\", \"Topic3\", \"Topic3\", \"Topic3\", \"Topic3\", \"Topic3\", \"Topic3\", \"Topic3\", \"Topic3\", \"Topic3\", \"Topic3\", \"Topic3\", \"Topic3\", \"Topic3\", \"Topic3\", \"Topic3\", \"Topic3\", \"Topic3\", \"Topic3\", \"Topic3\", \"Topic3\", \"Topic3\", \"Topic3\", \"Topic3\", \"Topic3\", \"Topic3\", \"Topic3\", \"Topic3\", \"Topic3\", \"Topic3\", \"Topic3\", \"Topic3\", \"Topic3\", \"Topic3\", \"Topic3\", \"Topic3\", \"Topic4\", \"Topic4\", \"Topic4\", \"Topic4\", \"Topic4\", \"Topic4\", \"Topic4\", \"Topic4\", \"Topic4\", \"Topic4\", \"Topic4\", \"Topic4\", \"Topic4\", \"Topic4\", \"Topic4\", \"Topic4\", \"Topic4\", \"Topic4\", \"Topic4\", \"Topic4\", \"Topic4\", \"Topic4\", \"Topic4\", \"Topic4\", \"Topic4\", \"Topic4\", \"Topic4\", \"Topic4\", \"Topic4\", \"Topic4\", \"Topic4\", \"Topic4\", \"Topic4\", \"Topic4\", \"Topic4\", \"Topic4\", \"Topic4\", \"Topic4\", \"Topic4\", \"Topic4\", \"Topic4\", \"Topic4\", \"Topic4\", \"Topic4\", \"Topic4\", \"Topic4\", \"Topic4\", \"Topic4\", \"Topic4\", \"Topic4\", \"Topic4\", \"Topic4\", \"Topic4\", \"Topic4\", \"Topic4\", \"Topic4\", \"Topic4\", \"Topic4\", \"Topic4\", \"Topic4\", \"Topic4\", \"Topic4\", \"Topic4\", \"Topic4\", \"Topic4\", \"Topic4\", \"Topic4\", \"Topic4\", \"Topic4\", \"Topic4\", \"Topic5\", \"Topic5\", \"Topic5\", \"Topic5\", \"Topic5\", \"Topic5\", \"Topic5\", \"Topic5\", \"Topic5\", \"Topic5\", \"Topic5\", \"Topic5\", \"Topic5\", \"Topic5\", \"Topic5\", \"Topic5\", \"Topic5\", \"Topic5\", \"Topic5\", \"Topic5\", \"Topic5\", \"Topic5\", \"Topic5\", \"Topic5\", \"Topic5\", \"Topic5\", \"Topic5\", \"Topic5\", \"Topic5\", \"Topic5\", \"Topic5\", \"Topic5\", \"Topic5\", \"Topic5\", \"Topic5\", \"Topic5\", \"Topic5\", \"Topic5\", \"Topic5\", \"Topic5\", \"Topic5\", \"Topic5\", \"Topic5\", \"Topic5\", \"Topic5\", \"Topic5\", \"Topic5\", \"Topic5\", \"Topic5\", \"Topic5\", \"Topic5\", \"Topic5\", \"Topic5\", \"Topic5\", \"Topic5\", \"Topic5\", \"Topic5\", \"Topic5\", \"Topic5\", \"Topic5\", \"Topic5\", \"Topic5\", \"Topic5\", \"Topic5\", \"Topic5\", \"Topic5\", \"Topic5\", \"Topic5\", \"Topic5\", \"Topic5\", \"Topic5\", \"Topic5\", \"Topic5\"], \"logprob\": [30.0, 29.0, 28.0, 27.0, 26.0, 25.0, 24.0, 23.0, 22.0, 21.0, 20.0, 19.0, 18.0, 17.0, 16.0, 15.0, 14.0, 13.0, 12.0, 11.0, 10.0, 9.0, 8.0, 7.0, 6.0, 5.0, 4.0, 3.0, 2.0, 1.0, -5.0782, -5.9049, -5.9531, -6.1603, -6.183, -6.2657, -6.3286, -6.4341, -6.7356, -6.7592, -6.7616, -6.8127, -6.8429, -6.8453, -6.8547, -6.862, -6.8792, -6.9249, -6.9684, -6.9819, -6.6372, -7.1435, -7.1926, -7.1863, -7.2798, -7.0863, -4.9169, -7.34, -7.4124, -7.4507, -4.7115, -5.3708, -6.1157, -6.4109, -5.2447, -5.6726, -5.296, -4.4966, -5.8797, -4.872, -4.7438, -5.0884, -5.0067, -4.8214, -6.3854, -5.476, -5.48, -5.5266, -5.3277, -5.4241, -5.3408, -6.0565, -5.6117, -5.4955, -5.517, -5.9039, -5.8075, -6.0476, -5.8666, -5.9192, -5.9279, -5.9194, -6.1927, -6.3723, -6.5253, -6.5576, -6.8071, -6.9141, -6.9231, -6.9343, -7.0199, -7.0879, -7.1771, -6.8139, -7.2447, -7.2548, -5.8129, -7.2062, -7.3387, -7.3722, -7.3808, -7.4097, -7.4073, -7.4187, -6.1169, -7.4642, -7.5284, -6.3113, -7.5518, -7.5793, -7.5594, -7.566, -5.5993, -4.7844, -6.6211, -6.2304, -5.1048, -5.9085, -5.8083, -6.2916, -6.5733, -4.9986, -5.3685, -5.9508, -5.5693, -6.539, -5.4083, -6.1699, -5.4285, -5.2228, -5.6342, -6.2394, -5.6158, -6.2378, -5.9862, -5.3224, -6.2664, -5.5805, -5.5583, -5.4906, -5.7127, -5.618, -5.9958, -5.7737, -5.7899, -5.8729, -5.9674, -5.8461, -5.8848, -5.9092, -5.9298, -5.9444, -5.9419, -5.8194, -6.0827, -4.7745, -6.2095, -6.6326, -6.7125, -6.8723, -6.9141, -6.9148, -6.9397, -6.9888, -6.9969, -7.0125, -7.0291, -7.0952, -5.9211, -7.141, -7.1952, -7.1953, -7.1954, -7.2339, -7.2955, -7.3166, -6.0676, -7.3207, -7.4934, -7.5324, -7.5203, -7.6014, -7.6015, -6.3532, -7.5882, -6.4532, -7.0178, -6.5699, -6.0672, -5.5748, -6.4725, -6.429, -5.2083, -6.508, -6.6006, -5.9244, -4.7268, -6.1065, -5.2278, -6.1601, -5.1473, -5.8898, -5.9522, -5.6541, -5.2431, -5.3662, -5.8199, -5.6543, -5.7117, -5.6878, -5.7464, -6.1432, -6.1538, -5.9538, -5.8314, -5.9501, -5.8709, -5.9485, -6.0171, -5.9805, -5.9895, -6.0436, -6.4893, -6.3556, -6.7004, -6.7854, -6.7195, -6.263, -6.6517, -6.8781, -6.8932, -6.9812, -6.6294, -7.0896, -7.0771, -7.132, -7.1828, -6.7184, -7.3186, -7.5024, -7.5036, -7.5165, -7.4019, -7.3024, -7.0248, -7.5724, -7.6314, -7.6546, -7.6547, -6.1147, -7.6719, -6.8046, -6.2109, -6.3782, -6.7884, -7.0702, -6.1763, -6.0914, -7.3012, -5.9612, -6.3833, -6.9292, -6.2189, -5.762, -6.1922, -6.2667, -6.3114, -6.3416, -6.4124, -5.5596, -6.3225, -5.6293, -5.7443, -5.9622, -6.1756, -6.0777, -6.3688, -6.1101, -6.1146, -6.0067, -6.1001, -6.3683, -6.0483, -6.1329, -6.0088, -6.1755, -6.0358, -6.1414, -6.1891, -6.2632, -6.2151, -6.2496, -6.3619, -6.061, -6.6021, -6.6376, -6.8772, -6.8844, -6.9446, -6.9604, -6.9735, -6.9579, -6.9901, -7.0142, -7.1102, -7.157, -7.1865, -7.1835, -7.2939, -7.3543, -7.3982, -7.4354, -7.4361, -7.4112, -7.4785, -7.4875, -7.501, -7.5149, -7.5422, -7.5661, -7.5345, -7.6205, -6.4621, -7.0294, -6.2476, -6.0903, -6.3114, -6.2487, -6.6661, -7.0149, -6.8082, -6.7424, -6.6051, -6.3301, -6.1489, -6.5064, -5.8413, -6.7319, -6.3809, -6.5185, -6.5512, -6.4126, -6.1802, -6.352, -6.4954, -6.5995, -6.1266, -6.4113, -6.2203, -6.0234, -6.0459, -6.2808, -6.0501, -6.2478, -6.1991, -6.2669, -6.4115, -6.2086, -6.4317, -6.3933, -6.3225, -6.3074, -6.3228, -6.3226, -6.4032], \"loglift\": [30.0, 29.0, 28.0, 27.0, 26.0, 25.0, 24.0, 23.0, 22.0, 21.0, 20.0, 19.0, 18.0, 17.0, 16.0, 15.0, 14.0, 13.0, 12.0, 11.0, 10.0, 9.0, 8.0, 7.0, 6.0, 5.0, 4.0, 3.0, 2.0, 1.0, 2.5138, 2.5081, 2.5077, 2.5052, 2.505, 2.5038, 2.503, 2.5012, 2.4953, 2.4948, 2.4947, 2.4935, 2.4928, 2.4927, 2.4925, 2.4923, 2.4913, 2.4898, 2.4894, 2.4891, 2.487, 2.484, 2.4822, 2.482, 2.4791, 2.4788, 2.4768, 2.4767, 2.4736, 2.472, 2.3969, 2.4093, 2.4255, 2.3995, 2.2526, 2.2982, 2.2491, 2.096, 2.2973, 2.0559, 1.9689, 1.9332, 1.8999, 1.7863, 2.324, 1.9363, 1.9283, 1.9383, 1.7246, 1.7074, 1.6261, 2.0898, 1.7262, 1.5214, 1.4455, 1.6988, 1.1187, 1.9075, 0.8136, 1.1149, 1.0233, 0.8416, 2.0392, 2.0383, 2.0366, 2.0361, 2.0329, 2.0311, 2.031, 2.0304, 2.0293, 2.028, 2.0261, 2.0248, 2.0245, 2.0241, 2.0231, 2.023, 2.0223, 2.0214, 2.0212, 2.0204, 2.0202, 2.0201, 2.0193, 2.0189, 2.0169, 2.0162, 2.0162, 2.0154, 2.0152, 2.015, 1.9762, 1.9518, 1.9892, 1.9758, 1.9363, 1.9628, 1.9441, 1.9651, 1.9793, 1.8803, 1.8872, 1.9261, 1.8538, 1.9379, 1.7827, 1.8816, 1.7476, 1.6588, 1.7132, 1.8403, 1.6412, 1.8266, 1.7326, 1.4142, 1.7961, 1.382, 1.2027, 1.1172, 1.3079, 1.1326, 1.5537, 1.2787, 1.1362, 1.2669, 1.2923, 0.9281, 0.8902, 0.9091, 1.0093, 0.9837, 0.6988, 3.313, 3.3068, 3.3055, 3.3034, 3.2845, 3.2843, 3.276, 3.2738, 3.2733, 3.2703, 3.2687, 3.2687, 3.2678, 3.2659, 3.2623, 3.2581, 3.257, 3.2549, 3.2547, 3.2545, 3.2522, 3.247, 3.2455, 3.2442, 3.2423, 3.2287, 3.2253, 3.2247, 3.2182, 3.2181, 3.2068, 3.218, 3.1784, 3.1796, 3.1326, 3.0697, 2.9944, 3.1076, 3.0904, 2.7994, 3.0545, 3.0142, 2.7193, 2.1993, 2.6691, 1.9483, 2.5088, 1.5654, 2.1521, 2.213, 1.8493, 1.3494, 1.2416, 1.7828, 1.5367, 1.3053, 1.2422, 1.2718, 2.1717, 2.1818, 1.5435, 1.1228, 1.4631, 1.1399, 0.9412, 1.1375, 0.7607, 0.735, 0.8816, 1.3139, 1.3133, 1.313, 1.3126, 1.3126, 1.3124, 1.3124, 1.312, 1.312, 1.3115, 1.3113, 1.3108, 1.3108, 1.3104, 1.3101, 1.3095, 1.309, 1.3072, 1.307, 1.307, 1.3067, 1.3067, 1.3066, 1.3065, 1.3056, 1.3055, 1.3054, 1.3052, 1.3052, 1.305, 1.3005, 1.3016, 1.3048, 1.3029, 1.2906, 1.2803, 1.3035, 1.2716, 1.2757, 1.2895, 1.2472, 1.2004, 1.23, 1.2302, 1.2267, 1.2242, 1.2291, 1.1147, 1.2035, 1.065, 1.0535, 1.0643, 1.1065, 1.0514, 1.1482, 1.0221, 1.0082, 0.9416, 0.9832, 1.1331, 0.7672, 0.8548, 0.6915, 0.8693, 0.6371, 0.5998, 0.5539, 0.8262, 0.5065, 0.6913, 0.7178, 0.7175, 0.7173, 0.7172, 0.7167, 0.7166, 0.7165, 0.7164, 0.7164, 0.7164, 0.7163, 0.7162, 0.7159, 0.7158, 0.7156, 0.7156, 0.7152, 0.715, 0.7148, 0.7146, 0.7146, 0.7145, 0.7144, 0.7143, 0.7143, 0.7142, 0.7141, 0.7139, 0.7138, 0.7136, 0.7115, 0.7124, 0.701, 0.6924, 0.6959, 0.6943, 0.699, 0.7047, 0.6976, 0.6954, 0.69, 0.679, 0.6676, 0.6785, 0.6401, 0.6877, 0.6646, 0.6686, 0.6686, 0.6484, 0.614, 0.623, 0.6427, 0.6588, 0.5813, 0.6273, 0.5899, 0.5518, 0.5543, 0.5947, 0.5154, 0.5597, 0.4913, 0.5079, 0.5786, 0.4458, 0.5767, 0.5367, 0.4392, 0.3754, 0.3553, 0.3525, 0.5136]}, \"token.table\": {\"Topic\": [4, 5, 1, 3, 5, 5, 3, 2, 3, 1, 2, 3, 4, 5, 1, 2, 5, 1, 1, 4, 5, 1, 1, 5, 2, 4, 5, 5, 1, 2, 3, 4, 5, 3, 5, 4, 3, 1, 3, 4, 3, 4, 4, 5, 2, 4, 5, 1, 2, 3, 3, 4, 5, 4, 5, 1, 2, 3, 4, 5, 2, 3, 5, 1, 2, 4, 4, 1, 1, 2, 3, 5, 1, 2, 3, 2, 4, 5, 3, 1, 2, 3, 4, 5, 1, 3, 4, 5, 4, 4, 1, 3, 5, 2, 4, 5, 1, 3, 4, 5, 1, 2, 3, 4, 5, 1, 2, 3, 5, 1, 4, 1, 1, 3, 1, 1, 2, 3, 3, 4, 5, 1, 1, 2, 3, 2, 2, 5, 1, 2, 3, 4, 5, 1, 3, 3, 1, 2, 3, 4, 5, 2, 3, 4, 4, 5, 1, 2, 3, 4, 5, 4, 2, 2, 5, 2, 4, 5, 4, 4, 5, 3, 4, 5, 1, 2, 3, 5, 2, 4, 2, 3, 5, 3, 4, 1, 2, 3, 5, 1, 2, 3, 5, 2, 4, 1, 2, 5, 1, 2, 3, 4, 5, 1, 2, 3, 4, 5, 1, 2, 3, 4, 5, 1, 2, 3, 4, 5, 1, 2, 3, 4, 5, 2, 4, 5, 3, 1, 2, 3, 5, 1, 2, 4, 5, 2, 1, 2, 3, 5, 1, 2, 3, 4, 5, 3, 1, 5, 1, 2, 3, 4, 5, 4, 5, 3, 5, 2, 3, 5, 1, 2, 3, 1, 2, 3, 3, 1, 3, 2, 3, 4, 1, 2, 1, 2, 4, 5, 2, 1, 3, 3, 1, 3, 5, 1, 2, 3, 5, 2, 3, 4, 1, 2, 4, 1, 2, 3, 5, 3, 1, 2, 3, 4, 5, 1, 2, 3, 4, 5, 4, 2, 1, 2, 3, 5, 1, 1, 2, 3, 4, 5, 1, 2, 4, 5, 4, 5, 1, 2, 3, 5, 1, 2, 3, 4, 5, 5, 1, 1, 1, 2, 3, 4, 5, 4, 5, 1, 2, 5, 1, 2, 3, 4, 5, 1, 2, 3, 4, 5, 1, 2, 4, 5, 4, 1, 2, 3, 4, 5, 2, 1, 2, 3, 4, 1, 2, 3, 4, 1, 2, 3, 5, 3, 1, 2, 3, 4, 5, 2, 1, 1, 2, 2, 3, 1, 2, 3, 4, 5, 2, 2, 1, 4, 1, 2, 3, 4, 5, 2, 1, 3, 1, 2, 3, 1, 2, 3, 3, 4, 1, 2, 3, 4, 5, 1, 1, 2, 3, 5, 1, 2, 3, 4, 5, 2, 2, 4, 3, 1, 2, 3, 4, 2, 3, 5, 5, 3, 2, 1, 2, 3, 5, 3, 1, 4, 5, 2, 3, 5, 3, 5, 3, 1, 2, 3, 2, 1, 2, 3, 5, 1, 2, 5, 4, 5, 1, 2, 4, 5, 1, 2, 3, 4, 5, 5, 5, 2, 1, 2, 3, 4, 5, 1, 1, 2, 3, 1, 2, 1, 4, 2, 3, 4, 5, 3, 1, 2, 3, 4, 5, 1, 2, 3, 5, 1, 2, 3, 4, 5, 1, 2, 3, 5, 1, 1, 2, 1, 2, 4, 5, 5, 4, 1, 2, 3, 4, 5, 2, 3, 1, 2, 3, 5, 1, 2, 3, 5, 5, 3, 2, 3, 4, 1, 2, 4, 5, 1, 2, 4, 5, 2, 3, 5, 1, 2, 3, 4, 5, 1, 2, 3, 4, 5, 5, 2, 3, 3, 5, 1, 2, 3, 4, 5, 3, 1, 2, 1, 2, 3, 4, 5, 1, 4, 5, 1, 3, 5, 1, 2, 5, 1, 2, 3, 4, 5, 5, 1, 2, 3, 5, 5, 2, 5, 2, 4, 1, 2, 3, 4, 5, 1, 2, 5, 3, 5, 2, 1, 2, 3, 4, 5, 1, 2, 3, 4, 5, 5, 5, 1, 2, 3, 5, 2, 4, 4, 4, 5, 1, 2, 3, 5, 1, 1, 2, 3, 4, 5, 1, 1, 4, 5, 4, 5, 1, 5, 1, 3, 5, 1, 2, 4, 5, 1, 2, 4, 5, 5, 3, 4, 5, 1, 2, 3, 1, 2, 4, 5, 1, 3, 2, 3, 5, 4, 1, 2, 3, 2, 3, 1, 1, 2, 3, 4, 1, 2, 5, 2, 3, 4, 5, 1, 4, 5, 5, 2, 5, 2, 4, 1, 2, 4, 5, 2, 4, 1, 2, 3, 5, 1, 2, 3, 4, 1, 5, 1, 2, 3, 2, 4, 5, 4, 1, 2, 4, 2, 1, 2, 3, 4, 5, 5, 4, 1, 2, 3, 5, 1, 2, 3, 1, 1, 2, 3, 4, 5, 3, 4, 5, 1, 2, 3, 4, 2, 3, 4, 1, 4, 1, 2, 3, 4, 5, 3, 1, 2, 3, 1, 5, 1, 2, 3, 4, 5, 1, 2, 4, 5, 1, 3, 4, 5, 1, 2, 3, 4, 5, 1, 1, 2, 1, 5], \"Freq\": [0.9972905667036502, 0.9963128056350644, 0.014873356839754527, 0.012394464033128773, 0.9742048730039216, 0.9940268964410894, 0.9681364912609739, 0.9802254710061313, 0.9707784702502237, 0.04300111229885789, 0.3440088983908631, 0.017200444919543156, 0.08026874295786807, 0.5131466067663708, 0.012820461787756388, 0.03589729300571789, 0.9487141722939727, 0.9870702309803394, 0.9735251856074619, 0.04041090496566564, 0.9605361257223602, 0.9769622031239946, 0.012651197129951499, 0.9867933761362169, 0.00816934060282896, 0.8087647196800669, 0.1797254932622371, 0.9971302075549773, 0.020033628102819785, 0.07568259505509696, 0.01558171074663761, 0.19588436367201567, 0.6922731488863281, 0.9704180741238088, 0.9971917158427981, 0.9982165386380452, 0.9703545487881022, 0.7995971940908096, 0.18990433359656728, 0.984211717478149, 0.8131250215265661, 0.16262500430531324, 0.6299043702153094, 0.37124798631047223, 0.01755152173976903, 0.9126791304679895, 0.06435557971248644, 0.8051103406852377, 0.15451612599009612, 0.03252971073475708, 0.9579605365721767, 0.9967181858256497, 0.005476473548492581, 0.9901764664808775, 0.008610230143311979, 0.04918604751686097, 0.09591279265787889, 0.022133721382587436, 0.024593023758430484, 0.8091104816523629, 0.009373201981069995, 0.01874640396213999, 0.9701264050407444, 0.011908609296418852, 0.023817218592837704, 0.9586430483617177, 0.9864946985028694, 0.9814891664856296, 0.19518078399635932, 0.665207978110041, 0.09161547003910744, 0.05178265697862595, 0.007347174278715814, 0.7420646021502972, 0.24980392547633767, 0.9766271820767249, 0.9943507951560474, 0.007891672977428947, 0.9141242404621619, 0.22295871777421628, 0.05867334678268849, 0.035204008069613095, 0.03227034073047867, 0.6483404819487079, 0.41126205703095176, 0.014900799167788106, 0.08940479500672864, 0.4857660528698923, 0.987001847644438, 0.9872896293150913, 0.022413898722653734, 0.06403971063615353, 0.9125658765651877, 0.005806994127297391, 0.53424345971136, 0.4587525360564939, 0.01012593266687945, 0.025314831667198622, 0.9163969063525902, 0.04556669700095752, 0.08407784410525194, 0.1494717228537812, 0.11210379214033592, 0.09030583255749282, 0.5667469491539204, 0.03951251893212463, 0.17780633519456082, 0.3259782811900282, 0.4445158379864021, 0.9793328743772283, 0.025771917746769166, 0.9787214431401223, 0.9842510918309241, 0.925179043798945, 0.9893560373426746, 0.0633859526897514, 0.7680886031816935, 0.16405775990288599, 0.970544080790732, 0.0024681933203303708, 0.9971501014134698, 0.9956244449925475, 0.09624111694983009, 0.8883795410753548, 0.014806325684589245, 0.9641113123701808, 0.01775112161059998, 0.9807494689856487, 0.061050198869583606, 0.10247711953108676, 0.030525099434791803, 0.04578764915218771, 0.7609471216244528, 0.0797008998331691, 0.8767098981648601, 0.9702959096836146, 0.14123828009994727, 0.16183552928118958, 0.10887117424370936, 0.1677204576186874, 0.417829911962344, 0.7269455036132749, 0.044248856741677604, 0.221244283708388, 0.9913422047554591, 0.011662849467711282, 0.0897670723863154, 0.07380848173985934, 0.011968942984842053, 0.007979295323228035, 0.8158829468000667, 0.9904331932698477, 0.9866657443493512, 0.8903725443745931, 0.09443345167609321, 0.9891383917050289, 0.9649463623833461, 0.03573875416234615, 0.9928951625737442, 0.9847696204764651, 0.012157649635511915, 0.9054249925821484, 0.8913633619800793, 0.10946567603264132, 0.5444181062224234, 0.00800614862091799, 0.1761352696601958, 0.2642029044902937, 0.020841900587819696, 0.9691483773336159, 0.04763872055252795, 0.050146021634239944, 0.900121088334607, 0.7569361661896259, 0.20880997687989677, 0.06984583087116082, 0.06518944214641677, 0.1536608279165538, 0.7124274748858404, 0.48071085172565425, 0.3933088786846262, 0.12277896212906321, 0.9971250661210999, 0.9311136135616386, 0.06572566683964508, 0.060200516935383815, 0.6786240090897812, 0.259956777675521, 0.05569041461004364, 0.8512677661820957, 0.0198894337893013, 0.0198894337893013, 0.05171252785218338, 0.03364640203940967, 0.11888395387258083, 0.0201878412236458, 0.11888395387258083, 0.708817536296897, 0.06678256154348705, 0.3210700074206108, 0.017979920415554206, 0.2080533648085558, 0.38785256896409787, 0.05134921986218957, 0.20986202900199216, 0.02009317298955244, 0.024558322542786316, 0.6943307555278676, 0.00916934740749316, 0.01650482533348769, 0.012837086370490426, 0.03667738962997264, 0.9242702186753107, 0.009376461480426146, 0.9892166861849584, 0.004688230740213073, 0.921202791586333, 0.21345302012390513, 0.6083411073531296, 0.02668162751548814, 0.14408078858363596, 0.007644018252576289, 0.025480060841920962, 0.08663220686253127, 0.8790620990462732, 0.9847315483424788, 0.4462152401943717, 0.3583775944868182, 0.028108046626417117, 0.1686482797585027, 0.016522781361403283, 0.08880994981754263, 0.01239208602105246, 0.035110910392981975, 0.8467925447719181, 0.8425448228142357, 0.989031965167922, 0.9985342420978669, 0.035573701531479825, 0.0203278294465599, 0.03303272285065984, 0.05844250965885971, 0.8512278580746958, 0.9850251646018171, 0.012160804501257002, 0.8425500561227856, 0.9969841059249953, 0.25254626500672883, 0.7155477508523984, 0.9954023135683494, 0.05135636502557687, 0.8955266151334966, 0.05456613783967542, 0.021295417826447942, 0.9086044939284456, 0.06861856855188782, 0.9744458013576728, 0.13784669086926565, 0.8270801452155939, 0.1913061694072759, 0.7652246776291036, 0.9972355049988753, 0.2833768443289582, 0.7149815764607561, 0.09210775137219114, 0.45699615103894836, 0.12044859794824996, 0.3294623414466837, 0.9884442968287293, 0.19974886502675554, 0.7590456871016711, 0.9605639468347111, 0.005852497160591266, 0.011704994321182532, 0.9832195229793326, 0.764896085371953, 0.05572090688140055, 0.16716272064420165, 0.010131073978436463, 0.920057212733256, 0.07576941751920932, 0.9943395055038428, 0.027205240023771175, 0.8161572007131352, 0.15416302680137, 0.24460692143347615, 0.3363345169710297, 0.22422301131401978, 0.19364714613483527, 0.9731527723103331, 0.14021062704321005, 0.3148589519566822, 0.012299177810807898, 0.12299177810807899, 0.4107925388809838, 0.006100179460548081, 0.07015206379630294, 0.04880143568438465, 0.006100179460548081, 0.8692755731281017, 0.998615681604849, 0.970402767669565, 0.3697066822871125, 0.3415087149940277, 0.13159051403439598, 0.1566553738504714, 0.9723108829457604, 0.08437556938282571, 0.147657246419945, 0.010546946172853214, 0.7453175295482938, 0.010546946172853214, 0.04179325510471506, 0.0696554251745251, 0.7348647355912398, 0.15324193538395522, 0.9904632239504289, 0.00934399267877763, 0.5589951907468167, 0.2206559963474276, 0.0049034665854983915, 0.21084906317643085, 0.024536081213547115, 0.007010308918156318, 0.010515463377234477, 0.7676288265381169, 0.19278349524929875, 0.9922935283900853, 0.98932215114033, 0.9804759143841498, 0.053636211218386916, 0.09328036733632507, 0.046640183668162534, 0.4454137540309522, 0.36379343261166774, 0.9162050891552043, 0.08457277746048039, 0.011638754688831921, 0.011638754688831921, 0.9747457051896735, 0.02184710306525751, 0.004854911792279447, 0.00728236768841917, 0.21118866296415595, 0.754938783699454, 0.24542746335126567, 0.16893059165736468, 0.07012213238607591, 0.06693476273216337, 0.4462317515477558, 0.05479370812965522, 0.08338172976251881, 0.4669376866701054, 0.39546763258794637, 0.9853549591408822, 0.16540661183082375, 0.1797897954682867, 0.11146967319033774, 0.06112853045921747, 0.4818366518550083, 0.9831563225245633, 0.047029269589234125, 0.8230122178115972, 0.05643512350708095, 0.0752468313427746, 0.00893013249530332, 0.8037119245772988, 0.10716158994363983, 0.08037119245772988, 0.006008721237258319, 0.05708285175395403, 0.027039245567662434, 0.9073169068260062, 0.8313207373230557, 0.043878889271032215, 0.03510311141682577, 0.026327333562619328, 0.687435931912838, 0.20769340921621915, 0.9732599592100235, 0.9647753887346454, 0.0582026935277672, 0.9312430964442752, 0.8463197168020509, 0.14986911651702983, 0.12289231368605721, 0.3268935544049122, 0.044241232926980595, 0.012289231368605722, 0.49402710101795, 0.9798562185351891, 0.9887335156890329, 0.8170081553747999, 0.17021003236975, 0.11863174856599323, 0.04965980172529949, 0.09104296982971573, 0.11863174856599323, 0.6235063994398714, 0.9593436785414181, 0.06218143612339457, 0.9016308237892212, 0.00710691710261467, 0.9736476430582098, 0.01421383420522934, 0.09370515447811792, 0.585657215488237, 0.31625489636364795, 0.9884091569225478, 0.9881466284237689, 0.057612462427138376, 0.4008867177221712, 0.02160467341017689, 0.026405711945771754, 0.49450696916627107, 0.9941584893208646, 0.5571511149029067, 0.15423957418216058, 0.06295492823761657, 0.22663774165541964, 0.022551781033063992, 0.012886732018893711, 0.022551781033063992, 0.6378932349352386, 0.3028382024440022, 0.9854594703686519, 0.9685026243602104, 0.019370052487204206, 0.9160442346381307, 0.026193732617471415, 0.43656221029119024, 0.3055935472038332, 0.23574359355724273, 0.039883974137168904, 0.019941987068584452, 0.9412617896371861, 0.9992926142360394, 0.8683957865490056, 0.9783226996710893, 0.050356181975112504, 0.072512902044162, 0.032227956464072, 0.8459838571818901, 0.9873377282786078, 0.9808493275142025, 0.9810505825118843, 0.015328915351748192, 0.009544990883918709, 0.009544990883918709, 0.9783615656016675, 0.891652398474289, 0.9940424283876411, 0.9683131916399985, 0.13315432674448063, 0.13315432674448063, 0.7101564093038968, 0.9912201991747465, 0.03446509140155868, 0.00861627285038967, 0.12349991085558526, 0.832906375537668, 0.030700497810087747, 0.015350248905043874, 0.9517154321127201, 0.981208247798784, 0.01541164787118509, 0.03031641353030625, 0.03705339431481875, 0.6130652513906375, 0.3233750776566, 0.11459379753067404, 0.1426575846810432, 0.07483676573431775, 0.1496735314686355, 0.5191800622818293, 0.9976336941691684, 0.9948448872967084, 0.962661667060149, 0.14115878665593837, 0.0972427196963131, 0.1286113389531883, 0.1756642678385011, 0.46111870307606534, 0.9714235702088683, 0.5560021878623902, 0.4170016408967926, 0.02316675782759959, 0.06174921559677688, 0.9262382339516532, 0.9936319051553567, 0.984144661050991, 0.029666094435299318, 0.005933218887059864, 0.8899828330589795, 0.07416523608824829, 0.9239582612989726, 0.10753608271857197, 0.2602373201789442, 0.055918763013657426, 0.14409835084288644, 0.4301443308742879, 0.08995201674788221, 0.5302434671454109, 0.011835791677352922, 0.36454238366247, 0.4389860316527018, 0.11256052093659019, 0.21386498977952137, 0.005628026046829509, 0.22512104187318038, 0.5582610995060628, 0.3814784179958096, 0.05582610995060629, 0.9937628464922418, 0.9683522118180394, 0.02323639297578618, 0.9643103084951264, 0.06696257518140428, 0.05022193138605321, 0.7164995544410258, 0.16740643795351068, 0.9945368092071124, 0.9831066443061965, 0.12620020150120503, 0.0573637279550932, 0.30976413095750327, 0.08030921913713049, 0.43596433245870836, 0.9772904157456279, 0.9007608493222125, 0.009822844430879635, 0.009822844430879635, 0.04911422215439818, 0.9298959394566055, 0.45119393822603704, 0.4641779364483691, 0.08114998888957502, 0.0032459995555830005, 0.9975742994668578, 0.9123410546787623, 0.9691491121914794, 0.019191071528544146, 0.9935604422867363, 0.03616468920575372, 0.11527494684333998, 0.051986740733270975, 0.7956231625265818, 0.049512342010024385, 0.017682979289294423, 0.007073191715717769, 0.9265881147590278, 0.014824316127913068, 0.025942553223847867, 0.9598744692823712, 0.24605350916228622, 0.4005522242176752, 0.3204417793741402, 0.028610873158405374, 0.0028610873158405373, 0.0499394263634393, 0.15457441493445498, 0.07609817350619322, 0.4875039240240503, 0.2306725884406482, 0.9983066720001774, 0.01814231940366618, 0.9706140880961408, 0.006468081178245887, 0.9960845014498666, 0.34120212878885353, 0.5132866806997536, 0.062306475691877604, 0.05933950065893105, 0.02373580026357242, 0.9329105332222276, 0.9385289763917116, 0.9840586854066944, 0.055524218941898816, 0.08439681279168619, 0.019988718819083574, 0.5063808767501172, 0.3309243448937169, 0.024827600009263536, 0.004137933334877256, 0.9724143336961552, 0.007428831534864158, 0.040858573441752866, 0.9508904364626122, 0.01551481388286961, 0.009308888329721765, 0.9774332746207853, 0.11338724417652503, 0.014173405522065629, 0.011338724417652503, 0.04535489767061001, 0.8135534769665671, 0.9969126548701195, 0.014723997486869558, 0.9202498429293473, 0.06625798869091301, 0.9939026264996702, 0.997387814409603, 0.9761659643148112, 0.9992018239939507, 0.04276913208197083, 0.9564733174695293, 0.1812182093412811, 0.14094749615432975, 0.02013535659347568, 0.11410035402969551, 0.5436546280238433, 0.04927405486898621, 0.3536138055303716, 0.5941871322436572, 0.44132210728502536, 0.5557389499144764, 0.9711733991905213, 0.18677321389679402, 0.4293358293471759, 0.06064065386259546, 0.07034315848061073, 0.25226512006839713, 0.07886998527904777, 0.02175723731835801, 0.013598273323973755, 0.002719654664794751, 0.8838877660582941, 0.9953583093677807, 0.9988893797430209, 0.20754807479092058, 0.47798950557908987, 0.05031468479779893, 0.2641520951884444, 0.9784400043509245, 0.9920995313898461, 0.9872549718966512, 0.9982365969392712, 0.0060134734755377785, 0.006447889841887468, 0.022567614446606137, 0.02579155936754987, 0.9478398067574577, 0.9870364759213853, 0.0758801187182456, 0.4712554741448937, 0.0039936904588550315, 0.2675772607432871, 0.18370976110733145, 0.9731518298122886, 0.9590271470261934, 0.018267183752879876, 0.018267183752879876, 0.9729223738715237, 0.024568746814937467, 0.007328581677158788, 0.9930228172550157, 0.6305514436758332, 0.0028661429257992414, 0.3668662945023029, 0.0105521915028796, 0.0105521915028796, 0.9127645649990854, 0.0633131490172776, 0.006326127422650861, 0.025304509690603445, 0.7749506092747305, 0.18978382267952584, 0.9897443078236668, 0.5092154206002867, 0.3455390354073374, 0.12730385515007167, 0.8857053364087778, 0.03432966420189061, 0.07895822766434842, 0.03841910451596993, 0.09220585083832783, 0.5762865677395489, 0.29198519432137143, 0.12842064613307078, 0.8561376408871385, 0.05445877894531028, 0.9257992420702748, 0.9930237892606121, 0.9788031143013907, 0.5778441330685761, 0.24962866548562487, 0.17104186338829852, 0.9021685392463046, 0.09152434456121931, 0.9663012014833315, 0.31222064979484, 0.0421919797020054, 0.5822493198876746, 0.059068771582807565, 0.10561561663616588, 0.024850733326156678, 0.8666693247497141, 0.044484468594513445, 0.004448446859451344, 0.8162899987093217, 0.135677629213266, 0.9830702630201155, 0.9834924568797746, 0.009191518288596025, 0.9961336107562788, 0.9797223025217088, 0.994647866880859, 0.9403743655478046, 0.04624791961710515, 0.035230990883816204, 0.06542898306994438, 0.7675323013974245, 0.13085796613988876, 0.9488861923258033, 0.9972164189569148, 0.15938974696213876, 0.22314564574699425, 0.5419251396712718, 0.07969487348106938, 0.004538292336356453, 0.20876144747239683, 0.009076584672712907, 0.7760479895169534, 0.02043326156761276, 0.9807965552454124, 0.6494023440668105, 0.2810845966856344, 0.058155433797027804, 0.010171749216454312, 0.8289975611410264, 0.15766211285504184, 0.9974492120444299, 0.9063428840948896, 0.057545579942532676, 0.028772789971266338, 0.9817056042141442, 0.0935975368479991, 0.19176080720077862, 0.009131467009560888, 0.5341908200593118, 0.17121500642926663, 0.9952009751585312, 0.9880784112247023, 0.8850237853024908, 0.09415146652154158, 0.8290856837179313, 0.07537142579253922, 0.6558761493756482, 0.20496129667989005, 0.13732406877552633, 0.9833540206685362, 0.45347081775479303, 0.30663264819609815, 0.030231387850319535, 0.17706955740901442, 0.034550157543222326, 0.010848721427261765, 0.9112925998899882, 0.07594104999083236, 0.06003729714381014, 0.8459800961173247, 0.0272896805199137, 0.06549523324779288, 0.7754732563323089, 0.03565394281987627, 0.17826971409938136, 0.9967302982984627, 0.992433566787467, 0.055205006414846394, 0.03220292040866039, 0.016101460204330197, 0.027602503207423197, 0.8717790596344492, 0.8691554070611078, 0.7650923573232733, 0.10626282740601019, 0.12751539288721223, 0.8937886071674798, 0.10080322637227215, 0.5387555915465465, 0.19922732812398333, 0.050508336707488735, 0.0813745424731763, 0.13188287918066502, 0.009819657325447682, 0.009819657325447682, 0.9328674459175298, 0.04418845796451457, 0.015497829270627447, 0.015497829270627447, 0.8420487237040913, 0.12398263416501958, 0.11434016424013543, 0.09433063549811173, 0.08575512318010158, 0.162934734042193, 0.5431157801406433, 0.9612321319840705, 0.97493062101985, 0.9925119068747342, 0.9705076409480762, 0.9963931453877682], \"Term\": [\"Academy_Award\", \"Chancellor_of_the_Exchequer\", \"China\", \"China\", \"China\", \"Democrat\", \"Department_of_Defense\", \"Ea\", \"Environmental_Protection_Agency\", \"Europe\", \"Europe\", \"Europe\", \"Europe\", \"Europe\", \"Godhead\", \"Godhead\", \"Godhead\", \"Google\", \"Hogan\", \"Howard\", \"Howard\", \"Internet_Explorer\", \"Iraq\", \"Iraq\", \"Ireland\", \"Ireland\", \"Ireland\", \"Kennedy\", \"London\", \"London\", \"London\", \"London\", \"London\", \"Marine\", \"Muslim\", \"Pacific\", \"Sinclair\", \"Spam\", \"Spam\", \"Texas_Ranger\", \"Virginia\", \"Virginia\", \"Wales\", \"Wales\", \"Williams\", \"Williams\", \"Williams\", \"Windows\", \"Windows\", \"Windows\", \"accumulate\", \"actor\", \"actor\", \"actress\", \"actress\", \"addition\", \"addition\", \"addition\", \"addition\", \"addition\", \"airline\", \"airline\", \"airline\", \"album\", \"album\", \"album\", \"antic\", \"antivirus\", \"apple\", \"apple\", \"apple\", \"apple\", \"appliance\", \"appliance\", \"appliance\", \"argonaut\", \"arsenal\", \"arsenal\", \"ash\", \"ask\", \"ask\", \"ask\", \"ask\", \"ask\", \"attack\", \"attack\", \"attack\", \"attack\", \"aviator\", \"bafta\", \"bank\", \"bank\", \"bank\", \"baseball_club\", \"baseball_club\", \"baseball_club\", \"beat\", \"beat\", \"beat\", \"beat\", \"beginning\", \"beginning\", \"beginning\", \"beginning\", \"beginning\", \"billion\", \"billion\", \"billion\", \"billion\", \"bittorrent\", \"bittorrent\", \"blinkx\", \"bloglines\", \"bluray\", \"bot\", \"broadband\", \"broadband\", \"broadband\", \"broadreach\", \"brown\", \"brown\", \"browser\", \"bt\", \"bt\", \"bt\", \"bts\", \"budget\", \"budget\", \"business\", \"business\", \"business\", \"business\", \"business\", \"cabir\", \"cabir\", \"calculator\", \"call\", \"call\", \"call\", \"call\", \"call\", \"camera\", \"camera\", \"camera\", \"captain\", \"captain\", \"case\", \"case\", \"case\", \"case\", \"case\", \"casual\", \"cea\", \"cell\", \"cell\", \"cerium\", \"champion\", \"champion\", \"championship\", \"chelsea\", \"chelsea\", \"chronometer\", \"coach\", \"coach\", \"code\", \"code\", \"code\", \"code\", \"comedy\", \"comedy\", \"committee\", \"committee\", \"committee\", \"commodore\", \"commodore\", \"community\", \"community\", \"community\", \"community\", \"computer\", \"computer\", \"computer\", \"conservative\", \"console_table\", \"console_table\", \"consumer\", \"consumer\", \"consumer\", \"content\", \"content\", \"content\", \"content\", \"content\", \"continue\", \"continue\", \"continue\", \"continue\", \"continue\", \"control\", \"control\", \"control\", \"control\", \"control\", \"cost\", \"cost\", \"cost\", \"cost\", \"cost\", \"court\", \"court\", \"court\", \"court\", \"court\", \"cup\", \"cup\", \"cup\", \"custom\", \"customer\", \"customer\", \"customer\", \"customer\", \"cut\", \"cut\", \"cut\", \"cut\", \"darmstadtium\", \"data\", \"data\", \"data\", \"data\", \"deal\", \"deal\", \"deal\", \"deal\", \"deal\", \"deathifier\", \"debris\", \"debt\", \"decision\", \"decision\", \"decision\", \"decision\", \"decision\", \"decoration\", \"decoration\", \"degroot\", \"delta\", \"demonstration\", \"demonstration\", \"dems\", \"device\", \"device\", \"device\", \"digital\", \"digital\", \"digital\", \"directive\", \"distributor\", \"distributor\", \"donate\", \"donate\", \"doom\", \"download\", \"download\", \"drive\", \"drive\", \"drive\", \"drive\", \"drm\", \"ebay\", \"ebay\", \"ebbers\", \"economic\", \"economic\", \"economic\", \"electronic_mail\", \"electronic_mail\", \"electronic_mail\", \"electronic_mail\", \"electronics\", \"electronics\", \"enemy\", \"entertainment\", \"entertainment\", \"entertainment\", \"entree\", \"entree\", \"entree\", \"entree\", \"entropia\", \"establish\", \"establish\", \"establish\", \"establish\", \"establish\", \"executive\", \"executive\", \"executive\", \"executive\", \"executive\", \"exeem\", \"experiment\", \"exploitation\", \"exploitation\", \"exploitation\", \"exploitation\", \"explorer\", \"fan\", \"fan\", \"fan\", \"fan\", \"fan\", \"feel\", \"feel\", \"feel\", \"feel\", \"festival\", \"festival\", \"file\", \"file\", \"file\", \"file\", \"final\", \"final\", \"final\", \"final\", \"final\", \"finance\", \"firefox\", \"firewall\", \"five\", \"five\", \"five\", \"five\", \"five\", \"football\", \"football\", \"foreign\", \"foreign\", \"foreign\", \"former\", \"former\", \"former\", \"former\", \"former\", \"found\", \"found\", \"found\", \"found\", \"found\", \"four\", \"four\", \"four\", \"four\", \"franchise\", \"free\", \"free\", \"free\", \"free\", \"free\", \"french_fries\", \"gambling\", \"gambling\", \"gambling\", \"gambling\", \"gamers\", \"gamers\", \"gamers\", \"gamers\", \"general\", \"general\", \"general\", \"general\", \"generic\", \"great\", \"great\", \"great\", \"great\", \"great\", \"grid\", \"hacker\", \"hand-held\", \"hand-held\", \"handset\", \"handset\", \"harmonize\", \"harmonize\", \"harmonize\", \"harmonize\", \"harmonize\", \"hd\", \"highdefinition\", \"hiphop\", \"hiphop\", \"history\", \"history\", \"history\", \"history\", \"history\", \"horsepower\", \"hot_spot\", \"hot_spot\", \"iPod\", \"iPod\", \"iPod\", \"ibm\", \"ibm\", \"ibm\", \"icann\", \"indoor\", \"industry\", \"industry\", \"industry\", \"industry\", \"industry\", \"infect\", \"information\", \"information\", \"information\", \"information\", \"injury\", \"injury\", \"injury\", \"injury\", \"injury\", \"ink\", \"intel\", \"intel\", \"intellectual\", \"invention\", \"invention\", \"invention\", \"invention\", \"investing\", \"investing\", \"investing\", \"investor\", \"ippr\", \"iptv\", \"issue\", \"issue\", \"issue\", \"issue\", \"jaynes\", \"jeeves\", \"joule\", \"joule\", \"journalist\", \"journalist\", \"journalist\", \"kilgore\", \"kilroysilk\", \"land_line\", \"laptop\", \"laptop\", \"laptop\", \"laser\", \"law\", \"law\", \"law\", \"law\", \"leader\", \"leader\", \"leader\", \"league\", \"league\", \"left\", \"left\", \"left\", \"left\", \"let\", \"let\", \"let\", \"let\", \"let\", \"lib\", \"liberal\", \"life_style\", \"list\", \"list\", \"list\", \"list\", \"list\", \"lycos\", \"machine\", \"machine\", \"machine\", \"macintosh\", \"macintosh\", \"malicious\", \"marathon\", \"match\", \"match\", \"match\", \"match\", \"mda\", \"mean\", \"mean\", \"mean\", \"mean\", \"mean\", \"medium\", \"medium\", \"medium\", \"medium\", \"message\", \"message\", \"message\", \"message\", \"message\", \"microsoft\", \"microsoft\", \"microsoft\", \"military_policeman\", \"millan\", \"miniskirt\", \"miniskirt\", \"minute\", \"minute\", \"minute\", \"minute\", \"mononuclear_phagocyte_system\", \"mourinho\", \"name_calling\", \"name_calling\", \"name_calling\", \"name_calling\", \"name_calling\", \"napster\", \"negroponte\", \"net_income\", \"net_income\", \"net_income\", \"net_income\", \"network\", \"network\", \"network\", \"network\", \"newspaper\", \"nineyear\", \"nintendo\", \"nintendo\", \"nomination\", \"occupation\", \"occupation\", \"occupation\", \"occupation\", \"official\", \"official\", \"official\", \"official\", \"oil\", \"oil\", \"oil\", \"on-line\", \"on-line\", \"on-line\", \"on-line\", \"on-line\", \"open\", \"open\", \"open\", \"open\", \"open\", \"parliamentary\", \"patent\", \"patent\", \"pension\", \"pension\", \"personal_computer\", \"personal_computer\", \"personal_computer\", \"personal_computer\", \"personal_computer\", \"personal_digital_assistant\", \"phishing\", \"playstation\", \"point\", \"point\", \"point\", \"point\", \"point\", \"police\", \"police\", \"police\", \"policy\", \"policy\", \"policy\", \"political\", \"political\", \"political\", \"political_campaign\", \"political_campaign\", \"political_campaign\", \"political_campaign\", \"political_campaign\", \"politician\", \"portable\", \"portable\", \"portable\", \"poster\", \"prime\", \"printer\", \"private\", \"prize\", \"prize\", \"problem\", \"problem\", \"problem\", \"problem\", \"problem\", \"program\", \"program\", \"program\", \"prosecutor\", \"prosecutor\", \"psp\", \"radio\", \"radio\", \"radio\", \"radio\", \"radio\", \"rate\", \"rate\", \"rate\", \"rate\", \"rate\", \"reform\", \"reporter\", \"research\", \"research\", \"research\", \"research\", \"revolution\", \"rifle\", \"roddick\", \"rugby\", \"rugby\", \"rule\", \"rule\", \"rule\", \"rule\", \"scam\", \"screen\", \"screen\", \"screen\", \"screen\", \"screen\", \"screensaver\", \"search\", \"search\", \"search\", \"season\", \"season\", \"secretary\", \"secretary\", \"security\", \"security\", \"security\", \"shooting\", \"shooting\", \"shooting\", \"shooting\", \"side\", \"side\", \"side\", \"side\", \"simonetti\", \"sister\", \"sister\", \"sister\", \"site\", \"site\", \"site\", \"six\", \"six\", \"six\", \"six\", \"skull\", \"skull\", \"skype\", \"skype\", \"sleep_together\", \"sloncek\", \"software\", \"software\", \"software\", \"sony\", \"sony\", \"spammer\", \"sphere\", \"sphere\", \"sphere\", \"sphere\", \"spokesman\", \"spokesman\", \"spokesman\", \"sport\", \"sport\", \"sport\", \"sport\", \"spyware\", \"squad\", \"squad\", \"stockholder\", \"subscription\", \"suspend\", \"synergistic\", \"synergistic\", \"team\", \"team\", \"team\", \"team\", \"telewest\", \"tennis\", \"text\", \"text\", \"text\", \"text\", \"title\", \"title\", \"title\", \"title\", \"tony\", \"tony\", \"tool\", \"tool\", \"tool\", \"tour\", \"tour\", \"tour\", \"tournament\", \"traffic\", \"traffic\", \"traffic\", \"tremor\", \"truly\", \"truly\", \"truly\", \"truly\", \"truly\", \"ukip\", \"underbrush\", \"update\", \"update\", \"useless\", \"useless\", \"user\", \"user\", \"user\", \"uwb\", \"version\", \"version\", \"version\", \"version\", \"version\", \"victory\", \"victory\", \"victory\", \"video\", \"video\", \"video\", \"video\", \"videodisk\", \"videodisk\", \"videodisk\", \"virus\", \"volt\", \"wage\", \"wage\", \"wage\", \"wage\", \"wage\", \"warez\", \"web\", \"web\", \"web\", \"web_log\", \"web_log\", \"web_site\", \"web_site\", \"web_site\", \"web_site\", \"web_site\", \"winner\", \"winner\", \"winner\", \"winner\", \"winning\", \"winning\", \"winning\", \"winning\", \"without\", \"without\", \"without\", \"without\", \"without\", \"wong\", \"worm\", \"xbox\", \"xp\", \"yukos\"]}, \"R\": 30, \"lambda.step\": 0.01, \"plot.opts\": {\"xlab\": \"PC1\", \"ylab\": \"PC2\"}, \"topic.order\": [1, 2, 3, 4, 5]};\n",
              "\n",
              "function LDAvis_load_lib(url, callback){\n",
              "  var s = document.createElement('script');\n",
              "  s.src = url;\n",
              "  s.async = true;\n",
              "  s.onreadystatechange = s.onload = callback;\n",
              "  s.onerror = function(){console.warn(\"failed to load library \" + url);};\n",
              "  document.getElementsByTagName(\"head\")[0].appendChild(s);\n",
              "}\n",
              "\n",
              "if(typeof(LDAvis) !== \"undefined\"){\n",
              "   // already loaded: just create the visualization\n",
              "   !function(LDAvis){\n",
              "       new LDAvis(\"#\" + \"ldavis_el4951397252951356327717608503\", ldavis_el4951397252951356327717608503_data);\n",
              "   }(LDAvis);\n",
              "}else if(typeof define === \"function\" && define.amd){\n",
              "   // require.js is available: use it to load d3/LDAvis\n",
              "   require.config({paths: {d3: \"https://d3js.org/d3.v5\"}});\n",
              "   require([\"d3\"], function(d3){\n",
              "      window.d3 = d3;\n",
              "      LDAvis_load_lib(\"https://cdn.jsdelivr.net/gh/bmabey/pyLDAvis@3.4.0/pyLDAvis/js/ldavis.v3.0.0.js\", function(){\n",
              "        new LDAvis(\"#\" + \"ldavis_el4951397252951356327717608503\", ldavis_el4951397252951356327717608503_data);\n",
              "      });\n",
              "    });\n",
              "}else{\n",
              "    // require.js not available: dynamically load d3 & LDAvis\n",
              "    LDAvis_load_lib(\"https://d3js.org/d3.v5.js\", function(){\n",
              "         LDAvis_load_lib(\"https://cdn.jsdelivr.net/gh/bmabey/pyLDAvis@3.4.0/pyLDAvis/js/ldavis.v3.0.0.js\", function(){\n",
              "                 new LDAvis(\"#\" + \"ldavis_el4951397252951356327717608503\", ldavis_el4951397252951356327717608503_data);\n",
              "            })\n",
              "         });\n",
              "}\n",
              "</script>"
            ],
            "text/plain": [
              "<IPython.core.display.HTML object>"
            ]
          },
          "execution_count": 79,
          "metadata": {},
          "output_type": "execute_result"
        }
      ],
      "source": [
        "import pyLDAvis.gensim as gensimvis\n",
        "vis_data = gensimvis.prepare(ldamallet, corpus, id2word, sort_topics=False)\n",
        "pyLDAvis.display(vis_data)"
      ]
    },
    {
      "cell_type": "code",
      "execution_count": null,
      "metadata": {
        "colab": {
          "base_uri": "https://localhost:8080/",
          "height": 478
        },
        "id": "Vz3zOzBFZYY3",
        "outputId": "c05ab17e-0d3b-44d3-c779-1a23091c5460"
      },
      "outputs": [
        {
          "name": "stderr",
          "output_type": "stream",
          "text": [
            "/usr/local/lib/python3.10/dist-packages/ipykernel/ipkernel.py:283: DeprecationWarning: `should_run_async` will not call `transform_cell` automatically in the future. Please pass the result to `transformed_cell` argument and any exception that happen during thetransform in `preprocessing_exc_tuple` in IPython 7.17 and above.\n",
            "  and should_run_async(code)\n"
          ]
        },
        {
          "data": {
            "text/html": [
              "\n",
              "  <div id=\"df-ed2469eb-04c6-4085-8d51-90e56ffd9ac3\">\n",
              "    <div class=\"colab-df-container\">\n",
              "      <div>\n",
              "<style scoped>\n",
              "    .dataframe tbody tr th:only-of-type {\n",
              "        vertical-align: middle;\n",
              "    }\n",
              "\n",
              "    .dataframe tbody tr th {\n",
              "        vertical-align: top;\n",
              "    }\n",
              "\n",
              "    .dataframe thead th {\n",
              "        text-align: right;\n",
              "    }\n",
              "</style>\n",
              "<table border=\"1\" class=\"dataframe\">\n",
              "  <thead>\n",
              "    <tr style=\"text-align: right;\">\n",
              "      <th></th>\n",
              "      <th>Topic 1</th>\n",
              "      <th>Topic 2</th>\n",
              "      <th>Topic 3</th>\n",
              "      <th>Topic 4</th>\n",
              "      <th>Topic 5</th>\n",
              "    </tr>\n",
              "  </thead>\n",
              "  <tbody>\n",
              "    <tr>\n",
              "      <th>0</th>\n",
              "      <td>0.997158</td>\n",
              "      <td>NaN</td>\n",
              "      <td>NaN</td>\n",
              "      <td>NaN</td>\n",
              "      <td>NaN</td>\n",
              "    </tr>\n",
              "    <tr>\n",
              "      <th>1</th>\n",
              "      <td>0.788220</td>\n",
              "      <td>0.204470</td>\n",
              "      <td>NaN</td>\n",
              "      <td>NaN</td>\n",
              "      <td>NaN</td>\n",
              "    </tr>\n",
              "    <tr>\n",
              "      <th>2</th>\n",
              "      <td>0.955791</td>\n",
              "      <td>NaN</td>\n",
              "      <td>0.038186</td>\n",
              "      <td>NaN</td>\n",
              "      <td>NaN</td>\n",
              "    </tr>\n",
              "    <tr>\n",
              "      <th>3</th>\n",
              "      <td>0.888432</td>\n",
              "      <td>NaN</td>\n",
              "      <td>0.099841</td>\n",
              "      <td>NaN</td>\n",
              "      <td>NaN</td>\n",
              "    </tr>\n",
              "    <tr>\n",
              "      <th>4</th>\n",
              "      <td>0.916832</td>\n",
              "      <td>0.079600</td>\n",
              "      <td>NaN</td>\n",
              "      <td>NaN</td>\n",
              "      <td>NaN</td>\n",
              "    </tr>\n",
              "    <tr>\n",
              "      <th>...</th>\n",
              "      <td>...</td>\n",
              "      <td>...</td>\n",
              "      <td>...</td>\n",
              "      <td>...</td>\n",
              "      <td>...</td>\n",
              "    </tr>\n",
              "    <tr>\n",
              "      <th>2220</th>\n",
              "      <td>NaN</td>\n",
              "      <td>0.860918</td>\n",
              "      <td>NaN</td>\n",
              "      <td>NaN</td>\n",
              "      <td>0.136498</td>\n",
              "    </tr>\n",
              "    <tr>\n",
              "      <th>2221</th>\n",
              "      <td>NaN</td>\n",
              "      <td>NaN</td>\n",
              "      <td>0.189993</td>\n",
              "      <td>NaN</td>\n",
              "      <td>0.806112</td>\n",
              "    </tr>\n",
              "    <tr>\n",
              "      <th>2222</th>\n",
              "      <td>NaN</td>\n",
              "      <td>NaN</td>\n",
              "      <td>NaN</td>\n",
              "      <td>0.994247</td>\n",
              "      <td>NaN</td>\n",
              "    </tr>\n",
              "    <tr>\n",
              "      <th>2223</th>\n",
              "      <td>NaN</td>\n",
              "      <td>NaN</td>\n",
              "      <td>NaN</td>\n",
              "      <td>0.994522</td>\n",
              "      <td>NaN</td>\n",
              "    </tr>\n",
              "    <tr>\n",
              "      <th>2224</th>\n",
              "      <td>NaN</td>\n",
              "      <td>0.990618</td>\n",
              "      <td>NaN</td>\n",
              "      <td>NaN</td>\n",
              "      <td>NaN</td>\n",
              "    </tr>\n",
              "  </tbody>\n",
              "</table>\n",
              "<p>2225 rows × 5 columns</p>\n",
              "</div>\n",
              "      <button class=\"colab-df-convert\" onclick=\"convertToInteractive('df-ed2469eb-04c6-4085-8d51-90e56ffd9ac3')\"\n",
              "              title=\"Convert this dataframe to an interactive table.\"\n",
              "              style=\"display:none;\">\n",
              "        \n",
              "  <svg xmlns=\"http://www.w3.org/2000/svg\" height=\"24px\"viewBox=\"0 0 24 24\"\n",
              "       width=\"24px\">\n",
              "    <path d=\"M0 0h24v24H0V0z\" fill=\"none\"/>\n",
              "    <path d=\"M18.56 5.44l.94 2.06.94-2.06 2.06-.94-2.06-.94-.94-2.06-.94 2.06-2.06.94zm-11 1L8.5 8.5l.94-2.06 2.06-.94-2.06-.94L8.5 2.5l-.94 2.06-2.06.94zm10 10l.94 2.06.94-2.06 2.06-.94-2.06-.94-.94-2.06-.94 2.06-2.06.94z\"/><path d=\"M17.41 7.96l-1.37-1.37c-.4-.4-.92-.59-1.43-.59-.52 0-1.04.2-1.43.59L10.3 9.45l-7.72 7.72c-.78.78-.78 2.05 0 2.83L4 21.41c.39.39.9.59 1.41.59.51 0 1.02-.2 1.41-.59l7.78-7.78 2.81-2.81c.8-.78.8-2.07 0-2.86zM5.41 20L4 18.59l7.72-7.72 1.47 1.35L5.41 20z\"/>\n",
              "  </svg>\n",
              "      </button>\n",
              "      \n",
              "  <style>\n",
              "    .colab-df-container {\n",
              "      display:flex;\n",
              "      flex-wrap:wrap;\n",
              "      gap: 12px;\n",
              "    }\n",
              "\n",
              "    .colab-df-convert {\n",
              "      background-color: #E8F0FE;\n",
              "      border: none;\n",
              "      border-radius: 50%;\n",
              "      cursor: pointer;\n",
              "      display: none;\n",
              "      fill: #1967D2;\n",
              "      height: 32px;\n",
              "      padding: 0 0 0 0;\n",
              "      width: 32px;\n",
              "    }\n",
              "\n",
              "    .colab-df-convert:hover {\n",
              "      background-color: #E2EBFA;\n",
              "      box-shadow: 0px 1px 2px rgba(60, 64, 67, 0.3), 0px 1px 3px 1px rgba(60, 64, 67, 0.15);\n",
              "      fill: #174EA6;\n",
              "    }\n",
              "\n",
              "    [theme=dark] .colab-df-convert {\n",
              "      background-color: #3B4455;\n",
              "      fill: #D2E3FC;\n",
              "    }\n",
              "\n",
              "    [theme=dark] .colab-df-convert:hover {\n",
              "      background-color: #434B5C;\n",
              "      box-shadow: 0px 1px 3px 1px rgba(0, 0, 0, 0.15);\n",
              "      filter: drop-shadow(0px 1px 2px rgba(0, 0, 0, 0.3));\n",
              "      fill: #FFFFFF;\n",
              "    }\n",
              "  </style>\n",
              "\n",
              "      <script>\n",
              "        const buttonEl =\n",
              "          document.querySelector('#df-ed2469eb-04c6-4085-8d51-90e56ffd9ac3 button.colab-df-convert');\n",
              "        buttonEl.style.display =\n",
              "          google.colab.kernel.accessAllowed ? 'block' : 'none';\n",
              "\n",
              "        async function convertToInteractive(key) {\n",
              "          const element = document.querySelector('#df-ed2469eb-04c6-4085-8d51-90e56ffd9ac3');\n",
              "          const dataTable =\n",
              "            await google.colab.kernel.invokeFunction('convertToInteractive',\n",
              "                                                     [key], {});\n",
              "          if (!dataTable) return;\n",
              "\n",
              "          const docLinkHtml = 'Like what you see? Visit the ' +\n",
              "            '<a target=\"_blank\" href=https://colab.research.google.com/notebooks/data_table.ipynb>data table notebook</a>'\n",
              "            + ' to learn more about interactive tables.';\n",
              "          element.innerHTML = '';\n",
              "          dataTable['output_type'] = 'display_data';\n",
              "          await google.colab.output.renderOutput(dataTable, element);\n",
              "          const docLink = document.createElement('div');\n",
              "          docLink.innerHTML = docLinkHtml;\n",
              "          element.appendChild(docLink);\n",
              "        }\n",
              "      </script>\n",
              "    </div>\n",
              "  </div>\n",
              "  "
            ],
            "text/plain": [
              "       Topic 1   Topic 2   Topic 3   Topic 4   Topic 5\n",
              "0     0.997158       NaN       NaN       NaN       NaN\n",
              "1     0.788220  0.204470       NaN       NaN       NaN\n",
              "2     0.955791       NaN  0.038186       NaN       NaN\n",
              "3     0.888432       NaN  0.099841       NaN       NaN\n",
              "4     0.916832  0.079600       NaN       NaN       NaN\n",
              "...        ...       ...       ...       ...       ...\n",
              "2220       NaN  0.860918       NaN       NaN  0.136498\n",
              "2221       NaN       NaN  0.189993       NaN  0.806112\n",
              "2222       NaN       NaN       NaN  0.994247       NaN\n",
              "2223       NaN       NaN       NaN  0.994522       NaN\n",
              "2224       NaN  0.990618       NaN       NaN       NaN\n",
              "\n",
              "[2225 rows x 5 columns]"
            ]
          },
          "execution_count": 80,
          "metadata": {},
          "output_type": "execute_result"
        }
      ],
      "source": [
        "df_weights = pd.DataFrame.from_records([{v: k for v, k in row} for row in tm_results])\n",
        "df_weights.columns = ['Topic ' + str(i) for i in range(1,6)]\n",
        "df_weights"
      ]
    },
    {
      "cell_type": "code",
      "execution_count": null,
      "metadata": {
        "id": "KLUNOA8aZF-h"
      },
      "outputs": [],
      "source": [
        "df_weights['Dominant']=df_weights.idxmax(axis=1)"
      ]
    },
    {
      "cell_type": "code",
      "execution_count": null,
      "metadata": {
        "colab": {
          "base_uri": "https://localhost:8080/",
          "height": 478
        },
        "id": "ruG9oaKpcCBo",
        "outputId": "5cdbe4bb-6bbd-41b4-c5cb-7044f3f7b960"
      },
      "outputs": [
        {
          "name": "stderr",
          "output_type": "stream",
          "text": [
            "/usr/local/lib/python3.10/dist-packages/ipykernel/ipkernel.py:283: DeprecationWarning: `should_run_async` will not call `transform_cell` automatically in the future. Please pass the result to `transformed_cell` argument and any exception that happen during thetransform in `preprocessing_exc_tuple` in IPython 7.17 and above.\n",
            "  and should_run_async(code)\n"
          ]
        },
        {
          "data": {
            "text/html": [
              "\n",
              "  <div id=\"df-5aa4f0b5-1fa9-41e7-b6d5-e4cd8e8caadf\">\n",
              "    <div class=\"colab-df-container\">\n",
              "      <div>\n",
              "<style scoped>\n",
              "    .dataframe tbody tr th:only-of-type {\n",
              "        vertical-align: middle;\n",
              "    }\n",
              "\n",
              "    .dataframe tbody tr th {\n",
              "        vertical-align: top;\n",
              "    }\n",
              "\n",
              "    .dataframe thead th {\n",
              "        text-align: right;\n",
              "    }\n",
              "</style>\n",
              "<table border=\"1\" class=\"dataframe\">\n",
              "  <thead>\n",
              "    <tr style=\"text-align: right;\">\n",
              "      <th></th>\n",
              "      <th>Topic 1</th>\n",
              "      <th>Topic 2</th>\n",
              "      <th>Topic 3</th>\n",
              "      <th>Topic 4</th>\n",
              "      <th>Topic 5</th>\n",
              "      <th>Dominant</th>\n",
              "    </tr>\n",
              "  </thead>\n",
              "  <tbody>\n",
              "    <tr>\n",
              "      <th>0</th>\n",
              "      <td>0.997158</td>\n",
              "      <td>NaN</td>\n",
              "      <td>NaN</td>\n",
              "      <td>NaN</td>\n",
              "      <td>NaN</td>\n",
              "      <td>Topic 1</td>\n",
              "    </tr>\n",
              "    <tr>\n",
              "      <th>1</th>\n",
              "      <td>0.788220</td>\n",
              "      <td>0.204470</td>\n",
              "      <td>NaN</td>\n",
              "      <td>NaN</td>\n",
              "      <td>NaN</td>\n",
              "      <td>Topic 1</td>\n",
              "    </tr>\n",
              "    <tr>\n",
              "      <th>2</th>\n",
              "      <td>0.955791</td>\n",
              "      <td>NaN</td>\n",
              "      <td>0.038186</td>\n",
              "      <td>NaN</td>\n",
              "      <td>NaN</td>\n",
              "      <td>Topic 1</td>\n",
              "    </tr>\n",
              "    <tr>\n",
              "      <th>3</th>\n",
              "      <td>0.888432</td>\n",
              "      <td>NaN</td>\n",
              "      <td>0.099841</td>\n",
              "      <td>NaN</td>\n",
              "      <td>NaN</td>\n",
              "      <td>Topic 1</td>\n",
              "    </tr>\n",
              "    <tr>\n",
              "      <th>4</th>\n",
              "      <td>0.916832</td>\n",
              "      <td>0.079600</td>\n",
              "      <td>NaN</td>\n",
              "      <td>NaN</td>\n",
              "      <td>NaN</td>\n",
              "      <td>Topic 1</td>\n",
              "    </tr>\n",
              "    <tr>\n",
              "      <th>...</th>\n",
              "      <td>...</td>\n",
              "      <td>...</td>\n",
              "      <td>...</td>\n",
              "      <td>...</td>\n",
              "      <td>...</td>\n",
              "      <td>...</td>\n",
              "    </tr>\n",
              "    <tr>\n",
              "      <th>2220</th>\n",
              "      <td>NaN</td>\n",
              "      <td>0.860918</td>\n",
              "      <td>NaN</td>\n",
              "      <td>NaN</td>\n",
              "      <td>0.136498</td>\n",
              "      <td>Topic 2</td>\n",
              "    </tr>\n",
              "    <tr>\n",
              "      <th>2221</th>\n",
              "      <td>NaN</td>\n",
              "      <td>NaN</td>\n",
              "      <td>0.189993</td>\n",
              "      <td>NaN</td>\n",
              "      <td>0.806112</td>\n",
              "      <td>Topic 5</td>\n",
              "    </tr>\n",
              "    <tr>\n",
              "      <th>2222</th>\n",
              "      <td>NaN</td>\n",
              "      <td>NaN</td>\n",
              "      <td>NaN</td>\n",
              "      <td>0.994247</td>\n",
              "      <td>NaN</td>\n",
              "      <td>Topic 4</td>\n",
              "    </tr>\n",
              "    <tr>\n",
              "      <th>2223</th>\n",
              "      <td>NaN</td>\n",
              "      <td>NaN</td>\n",
              "      <td>NaN</td>\n",
              "      <td>0.994522</td>\n",
              "      <td>NaN</td>\n",
              "      <td>Topic 4</td>\n",
              "    </tr>\n",
              "    <tr>\n",
              "      <th>2224</th>\n",
              "      <td>NaN</td>\n",
              "      <td>0.990618</td>\n",
              "      <td>NaN</td>\n",
              "      <td>NaN</td>\n",
              "      <td>NaN</td>\n",
              "      <td>Topic 2</td>\n",
              "    </tr>\n",
              "  </tbody>\n",
              "</table>\n",
              "<p>2225 rows × 6 columns</p>\n",
              "</div>\n",
              "      <button class=\"colab-df-convert\" onclick=\"convertToInteractive('df-5aa4f0b5-1fa9-41e7-b6d5-e4cd8e8caadf')\"\n",
              "              title=\"Convert this dataframe to an interactive table.\"\n",
              "              style=\"display:none;\">\n",
              "        \n",
              "  <svg xmlns=\"http://www.w3.org/2000/svg\" height=\"24px\"viewBox=\"0 0 24 24\"\n",
              "       width=\"24px\">\n",
              "    <path d=\"M0 0h24v24H0V0z\" fill=\"none\"/>\n",
              "    <path d=\"M18.56 5.44l.94 2.06.94-2.06 2.06-.94-2.06-.94-.94-2.06-.94 2.06-2.06.94zm-11 1L8.5 8.5l.94-2.06 2.06-.94-2.06-.94L8.5 2.5l-.94 2.06-2.06.94zm10 10l.94 2.06.94-2.06 2.06-.94-2.06-.94-.94-2.06-.94 2.06-2.06.94z\"/><path d=\"M17.41 7.96l-1.37-1.37c-.4-.4-.92-.59-1.43-.59-.52 0-1.04.2-1.43.59L10.3 9.45l-7.72 7.72c-.78.78-.78 2.05 0 2.83L4 21.41c.39.39.9.59 1.41.59.51 0 1.02-.2 1.41-.59l7.78-7.78 2.81-2.81c.8-.78.8-2.07 0-2.86zM5.41 20L4 18.59l7.72-7.72 1.47 1.35L5.41 20z\"/>\n",
              "  </svg>\n",
              "      </button>\n",
              "      \n",
              "  <style>\n",
              "    .colab-df-container {\n",
              "      display:flex;\n",
              "      flex-wrap:wrap;\n",
              "      gap: 12px;\n",
              "    }\n",
              "\n",
              "    .colab-df-convert {\n",
              "      background-color: #E8F0FE;\n",
              "      border: none;\n",
              "      border-radius: 50%;\n",
              "      cursor: pointer;\n",
              "      display: none;\n",
              "      fill: #1967D2;\n",
              "      height: 32px;\n",
              "      padding: 0 0 0 0;\n",
              "      width: 32px;\n",
              "    }\n",
              "\n",
              "    .colab-df-convert:hover {\n",
              "      background-color: #E2EBFA;\n",
              "      box-shadow: 0px 1px 2px rgba(60, 64, 67, 0.3), 0px 1px 3px 1px rgba(60, 64, 67, 0.15);\n",
              "      fill: #174EA6;\n",
              "    }\n",
              "\n",
              "    [theme=dark] .colab-df-convert {\n",
              "      background-color: #3B4455;\n",
              "      fill: #D2E3FC;\n",
              "    }\n",
              "\n",
              "    [theme=dark] .colab-df-convert:hover {\n",
              "      background-color: #434B5C;\n",
              "      box-shadow: 0px 1px 3px 1px rgba(0, 0, 0, 0.15);\n",
              "      filter: drop-shadow(0px 1px 2px rgba(0, 0, 0, 0.3));\n",
              "      fill: #FFFFFF;\n",
              "    }\n",
              "  </style>\n",
              "\n",
              "      <script>\n",
              "        const buttonEl =\n",
              "          document.querySelector('#df-5aa4f0b5-1fa9-41e7-b6d5-e4cd8e8caadf button.colab-df-convert');\n",
              "        buttonEl.style.display =\n",
              "          google.colab.kernel.accessAllowed ? 'block' : 'none';\n",
              "\n",
              "        async function convertToInteractive(key) {\n",
              "          const element = document.querySelector('#df-5aa4f0b5-1fa9-41e7-b6d5-e4cd8e8caadf');\n",
              "          const dataTable =\n",
              "            await google.colab.kernel.invokeFunction('convertToInteractive',\n",
              "                                                     [key], {});\n",
              "          if (!dataTable) return;\n",
              "\n",
              "          const docLinkHtml = 'Like what you see? Visit the ' +\n",
              "            '<a target=\"_blank\" href=https://colab.research.google.com/notebooks/data_table.ipynb>data table notebook</a>'\n",
              "            + ' to learn more about interactive tables.';\n",
              "          element.innerHTML = '';\n",
              "          dataTable['output_type'] = 'display_data';\n",
              "          await google.colab.output.renderOutput(dataTable, element);\n",
              "          const docLink = document.createElement('div');\n",
              "          docLink.innerHTML = docLinkHtml;\n",
              "          element.appendChild(docLink);\n",
              "        }\n",
              "      </script>\n",
              "    </div>\n",
              "  </div>\n",
              "  "
            ],
            "text/plain": [
              "       Topic 1   Topic 2   Topic 3   Topic 4   Topic 5 Dominant\n",
              "0     0.997158       NaN       NaN       NaN       NaN  Topic 1\n",
              "1     0.788220  0.204470       NaN       NaN       NaN  Topic 1\n",
              "2     0.955791       NaN  0.038186       NaN       NaN  Topic 1\n",
              "3     0.888432       NaN  0.099841       NaN       NaN  Topic 1\n",
              "4     0.916832  0.079600       NaN       NaN       NaN  Topic 1\n",
              "...        ...       ...       ...       ...       ...      ...\n",
              "2220       NaN  0.860918       NaN       NaN  0.136498  Topic 2\n",
              "2221       NaN       NaN  0.189993       NaN  0.806112  Topic 5\n",
              "2222       NaN       NaN       NaN  0.994247       NaN  Topic 4\n",
              "2223       NaN       NaN       NaN  0.994522       NaN  Topic 4\n",
              "2224       NaN  0.990618       NaN       NaN       NaN  Topic 2\n",
              "\n",
              "[2225 rows x 6 columns]"
            ]
          },
          "execution_count": 82,
          "metadata": {},
          "output_type": "execute_result"
        }
      ],
      "source": [
        "df_weights"
      ]
    },
    {
      "cell_type": "code",
      "execution_count": null,
      "metadata": {
        "colab": {
          "base_uri": "https://localhost:8080/"
        },
        "id": "xsQ_-plqdeJj",
        "outputId": "54efb274-0ecc-4d54-9623-e71d2a2f30af"
      },
      "outputs": [
        {
          "name": "stderr",
          "output_type": "stream",
          "text": [
            "/usr/local/lib/python3.10/dist-packages/ipykernel/ipkernel.py:283: DeprecationWarning: `should_run_async` will not call `transform_cell` automatically in the future. Please pass the result to `transformed_cell` argument and any exception that happen during thetransform in `preprocessing_exc_tuple` in IPython 7.17 and above.\n",
            "  and should_run_async(code)\n"
          ]
        }
      ],
      "source": [
        "# display a progress meter\n",
        "from tqdm import tqdm\n",
        "\n",
        "def topic_model_coherence_generator(corpus, texts, dictionary, start_topic_count=2, end_topic_count=10, step=1, cpus=1):\n",
        "  models = []\n",
        "  coherence_scores = []\n",
        "  for topic_nums in tqdm(range(start_topic_count, end_topic_count+1, step)):\n",
        "    mallet_lda_model = gensim.models.LdaModel(corpus=corpus, num_topics=topic_nums,\n",
        "                                                            id2word=dictionary, iterations=500)\n",
        "\n",
        "    cv_coherence_model_mallet_lda = gensim. models.CoherenceModel (model=mallet_lda_model, corpus=corpus, texts=texts,\n",
        "                                                                     dictionary=dictionary, coherence='c_v')\n",
        "\n",
        "    coherence_score = cv_coherence_model_mallet_lda.get_coherence()\n",
        "    coherence_scores.append(coherence_score)\n",
        "    models.append(mallet_lda_model)\n",
        "  return models, coherence_scores"
      ]
    },
    {
      "cell_type": "code",
      "execution_count": null,
      "metadata": {
        "colab": {
          "background_save": true,
          "base_uri": "https://localhost:8080/"
        },
        "id": "ItUpfvOBd4eS",
        "outputId": "5cae060d-f547-491e-9f4f-413fd297e05a"
      },
      "outputs": [
        {
          "name": "stderr",
          "output_type": "stream",
          "text": [
            "/usr/local/lib/python3.10/dist-packages/ipykernel/ipkernel.py:283: DeprecationWarning: `should_run_async` will not call `transform_cell` automatically in the future. Please pass the result to `transformed_cell` argument and any exception that happen during thetransform in `preprocessing_exc_tuple` in IPython 7.17 and above.\n",
            "  and should_run_async(code)\n",
            "  0%|          | 0/25 [00:00<?, ?it/s]WARNING:gensim.models.ldamodel:too few updates, training might not converge; consider increasing the number of passes or iterations to improve accuracy\n",
            "  4%|▍         | 1/25 [00:17<06:49, 17.06s/it]WARNING:gensim.models.ldamodel:too few updates, training might not converge; consider increasing the number of passes or iterations to improve accuracy\n",
            "  8%|▊         | 2/25 [00:32<06:09, 16.05s/it]WARNING:gensim.models.ldamodel:too few updates, training might not converge; consider increasing the number of passes or iterations to improve accuracy\n",
            " 12%|█▏        | 3/25 [00:48<05:51, 15.98s/it]WARNING:gensim.models.ldamodel:too few updates, training might not converge; consider increasing the number of passes or iterations to improve accuracy\n",
            " 16%|█▌        | 4/25 [01:04<05:33, 15.90s/it]WARNING:gensim.models.ldamodel:too few updates, training might not converge; consider increasing the number of passes or iterations to improve accuracy\n",
            " 20%|██        | 5/25 [01:20<05:22, 16.14s/it]WARNING:gensim.models.ldamodel:too few updates, training might not converge; consider increasing the number of passes or iterations to improve accuracy\n",
            " 24%|██▍       | 6/25 [01:37<05:11, 16.39s/it]WARNING:gensim.models.ldamodel:too few updates, training might not converge; consider increasing the number of passes or iterations to improve accuracy\n",
            " 28%|██▊       | 7/25 [01:55<05:04, 16.93s/it]WARNING:gensim.models.ldamodel:too few updates, training might not converge; consider increasing the number of passes or iterations to improve accuracy\n",
            " 32%|███▏      | 8/25 [02:13<04:52, 17.22s/it]WARNING:gensim.models.ldamodel:too few updates, training might not converge; consider increasing the number of passes or iterations to improve accuracy\n",
            " 36%|███▌      | 9/25 [02:31<04:41, 17.58s/it]WARNING:gensim.models.ldamodel:too few updates, training might not converge; consider increasing the number of passes or iterations to improve accuracy\n",
            " 40%|████      | 10/25 [02:49<04:26, 17.77s/it]WARNING:gensim.models.ldamodel:too few updates, training might not converge; consider increasing the number of passes or iterations to improve accuracy\n",
            " 44%|████▍     | 11/25 [03:09<04:14, 18.16s/it]WARNING:gensim.models.ldamodel:too few updates, training might not converge; consider increasing the number of passes or iterations to improve accuracy\n",
            " 48%|████▊     | 12/25 [03:29<04:03, 18.73s/it]WARNING:gensim.models.ldamodel:too few updates, training might not converge; consider increasing the number of passes or iterations to improve accuracy\n",
            " 52%|█████▏    | 13/25 [03:51<03:57, 19.77s/it]WARNING:gensim.models.ldamodel:too few updates, training might not converge; consider increasing the number of passes or iterations to improve accuracy\n",
            " 56%|█████▌    | 14/25 [04:11<03:39, 19.91s/it]WARNING:gensim.models.ldamodel:too few updates, training might not converge; consider increasing the number of passes or iterations to improve accuracy\n",
            " 60%|██████    | 15/25 [04:33<03:25, 20.57s/it]WARNING:gensim.models.ldamodel:too few updates, training might not converge; consider increasing the number of passes or iterations to improve accuracy\n",
            " 64%|██████▍   | 16/25 [04:57<03:14, 21.59s/it]WARNING:gensim.models.ldamodel:too few updates, training might not converge; consider increasing the number of passes or iterations to improve accuracy\n",
            " 68%|██████▊   | 17/25 [05:22<03:01, 22.68s/it]WARNING:gensim.models.ldamodel:too few updates, training might not converge; consider increasing the number of passes or iterations to improve accuracy\n",
            " 72%|███████▏  | 18/25 [05:48<02:46, 23.74s/it]WARNING:gensim.models.ldamodel:too few updates, training might not converge; consider increasing the number of passes or iterations to improve accuracy\n",
            " 76%|███████▌  | 19/25 [06:17<02:31, 25.26s/it]WARNING:gensim.models.ldamodel:too few updates, training might not converge; consider increasing the number of passes or iterations to improve accuracy\n",
            " 80%|████████  | 20/25 [06:44<02:09, 25.83s/it]WARNING:gensim.models.ldamodel:too few updates, training might not converge; consider increasing the number of passes or iterations to improve accuracy\n",
            " 84%|████████▍ | 21/25 [07:14<01:48, 27.07s/it]WARNING:gensim.models.ldamodel:too few updates, training might not converge; consider increasing the number of passes or iterations to improve accuracy\n",
            " 88%|████████▊ | 22/25 [07:45<01:23, 28.00s/it]WARNING:gensim.models.ldamodel:too few updates, training might not converge; consider increasing the number of passes or iterations to improve accuracy\n",
            " 92%|█████████▏| 23/25 [08:17<00:58, 29.30s/it]WARNING:gensim.models.ldamodel:too few updates, training might not converge; consider increasing the number of passes or iterations to improve accuracy\n",
            " 96%|█████████▌| 24/25 [08:49<00:30, 30.24s/it]WARNING:gensim.models.ldamodel:too few updates, training might not converge; consider increasing the number of passes or iterations to improve accuracy\n",
            "100%|██████████| 25/25 [09:23<00:00, 22.53s/it]\n"
          ]
        }
      ],
      "source": [
        "lda_models, coherence_scores = topic_model_coherence_generator(corpus=corpus, texts=data, dictionary=id2word, start_topic_count=2, end_topic_count=50, step=2, cpus=-1)"
      ]
    },
    {
      "cell_type": "code",
      "execution_count": null,
      "metadata": {
        "colab": {
          "background_save": true
        },
        "id": "k3eIrRwvAVln",
        "outputId": "c73876ec-cbbe-4daa-c4fb-6e695f7e86cc"
      },
      "outputs": [
        {
          "name": "stderr",
          "output_type": "stream",
          "text": [
            "/usr/local/lib/python3.10/dist-packages/ipykernel/ipkernel.py:283: DeprecationWarning: `should_run_async` will not call `transform_cell` automatically in the future. Please pass the result to `transformed_cell` argument and any exception that happen during thetransform in `preprocessing_exc_tuple` in IPython 7.17 and above.\n",
            "  and should_run_async(code)\n"
          ]
        },
        {
          "data": {
            "text/plain": [
              "25"
            ]
          },
          "execution_count": 85,
          "metadata": {},
          "output_type": "execute_result"
        }
      ],
      "source": [
        "len(coherence_scores)"
      ]
    },
    {
      "cell_type": "code",
      "execution_count": null,
      "metadata": {
        "colab": {
          "background_save": true
        },
        "id": "RGLrr9GRAO-I",
        "outputId": "525e137d-fdf0-442c-c233-728f3ccb6fa3"
      },
      "outputs": [
        {
          "name": "stderr",
          "output_type": "stream",
          "text": [
            "/usr/local/lib/python3.10/dist-packages/ipykernel/ipkernel.py:283: DeprecationWarning: `should_run_async` will not call `transform_cell` automatically in the future. Please pass the result to `transformed_cell` argument and any exception that happen during thetransform in `preprocessing_exc_tuple` in IPython 7.17 and above.\n",
            "  and should_run_async(code)\n"
          ]
        },
        {
          "data": {
            "image/png": "[encoded data removed]",
            "text/plain": [
              "<Figure size 1200x600 with 1 Axes>"
            ]
          },
          "metadata": {},
          "output_type": "display_data"
        }
      ],
      "source": [
        "x_ax = range(2, 27, 1)\n",
        "y_ax = coherence_scores\n",
        "plt.figure(figsize=(12, 6))\n",
        "plt.plot(x_ax, y_ax, c='r')\n",
        "plt.axhline(y=0.522, c='k', linestyle='--', linewidth=2)\n",
        "plt.rcParams['figure.facecolor'] = 'white'\n",
        "xl = plt.xlabel('Number of Topics')\n",
        "yl = plt.ylabel('Coherence Score')\n",
        "plt.show()"
      ]
    },
    {
      "cell_type": "markdown",
      "metadata": {
        "id": "ArJBuiUVfxKd"
      },
      "source": [
        "#### 1. Explain the ML Model used and it's performance using Evaluation metric Score Chart."
      ]
    },
    {
      "cell_type": "code",
      "execution_count": null,
      "metadata": {
        "colab": {
          "background_save": true
        },
        "id": "rqD5ZohzfxKe",
        "outputId": "6e11d07d-7175-4c34-fca9-7a3cb491e0bc"
      },
      "outputs": [
        {
          "name": "stderr",
          "output_type": "stream",
          "text": [
            "/usr/local/lib/python3.10/dist-packages/ipykernel/ipkernel.py:283: DeprecationWarning: `should_run_async` will not call `transform_cell` automatically in the future. Please pass the result to `transformed_cell` argument and any exception that happen during thetransform in `preprocessing_exc_tuple` in IPython 7.17 and above.\n",
            "  and should_run_async(code)\n"
          ]
        }
      ],
      "source": [
        "# Visualizing evaluation Metric Score chart"
      ]
    },
    {
      "cell_type": "markdown",
      "metadata": {
        "id": "4qY1EAkEfxKe"
      },
      "source": [
        "#### 2. Cross- Validation & Hyperparameter Tuning"
      ]
    },
    {
      "cell_type": "code",
      "execution_count": null,
      "metadata": {
        "colab": {
          "background_save": true
        },
        "id": "Dy61ujd6fxKe",
        "outputId": "496fcb9e-c2de-4ec0-a884-008a84d38214"
      },
      "outputs": [
        {
          "name": "stderr",
          "output_type": "stream",
          "text": [
            "/usr/local/lib/python3.10/dist-packages/ipykernel/ipkernel.py:283: DeprecationWarning: `should_run_async` will not call `transform_cell` automatically in the future. Please pass the result to `transformed_cell` argument and any exception that happen during thetransform in `preprocessing_exc_tuple` in IPython 7.17 and above.\n",
            "  and should_run_async(code)\n"
          ]
        }
      ],
      "source": [
        "# ML Model - 1 Implementation with hyperparameter optimization techniques (i.e., GridSearch CV, RandomSearch CV, Bayesian Optimization etc.)\n",
        "\n",
        "# Fit the Algorithm\n",
        "\n",
        "# Predict on the model"
      ]
    },
    {
      "cell_type": "markdown",
      "metadata": {
        "id": "PiV4Ypx8fxKe"
      },
      "source": [
        "##### Which hyperparameter optimization technique have you used and why?"
      ]
    },
    {
      "cell_type": "markdown",
      "metadata": {
        "id": "negyGRa7fxKf"
      },
      "source": [
        "Answer Here."
      ]
    },
    {
      "cell_type": "markdown",
      "metadata": {
        "id": "TfvqoZmBfxKf"
      },
      "source": [
        "##### Have you seen any improvement? Note down the improvement with updates Evaluation metric Score Chart."
      ]
    },
    {
      "cell_type": "markdown",
      "metadata": {
        "id": "OaLui8CcfxKf"
      },
      "source": [
        "Answer Here."
      ]
    },
    {
      "cell_type": "markdown",
      "metadata": {
        "id": "dJ2tPlVmpsJ0"
      },
      "source": [
        "### ML Model - 2"
      ]
    },
    {
      "cell_type": "markdown",
      "metadata": {
        "id": "JWYfwnehpsJ1"
      },
      "source": [
        "#### 1. Explain the ML Model used and it's performance using Evaluation metric Score Chart."
      ]
    },
    {
      "cell_type": "code",
      "execution_count": null,
      "metadata": {
        "colab": {
          "background_save": true
        },
        "id": "yEl-hgQWpsJ1",
        "outputId": "c1d9bab9-7a9b-4a99-8995-f68f498b6cbd"
      },
      "outputs": [
        {
          "name": "stderr",
          "output_type": "stream",
          "text": [
            "/usr/local/lib/python3.10/dist-packages/ipykernel/ipkernel.py:283: DeprecationWarning: `should_run_async` will not call `transform_cell` automatically in the future. Please pass the result to `transformed_cell` argument and any exception that happen during thetransform in `preprocessing_exc_tuple` in IPython 7.17 and above.\n",
            "  and should_run_async(code)\n"
          ]
        }
      ],
      "source": [
        "# Visualizing evaluation Metric Score chart"
      ]
    },
    {
      "cell_type": "markdown",
      "metadata": {
        "id": "-jK_YjpMpsJ2"
      },
      "source": [
        "#### 2. Cross- Validation & Hyperparameter Tuning"
      ]
    },
    {
      "cell_type": "code",
      "execution_count": null,
      "metadata": {
        "colab": {
          "background_save": true
        },
        "id": "Dn0EOfS6psJ2",
        "outputId": "92f93235-3482-4ec8-ae79-f69d132d2e87"
      },
      "outputs": [
        {
          "name": "stderr",
          "output_type": "stream",
          "text": [
            "/usr/local/lib/python3.10/dist-packages/ipykernel/ipkernel.py:283: DeprecationWarning: `should_run_async` will not call `transform_cell` automatically in the future. Please pass the result to `transformed_cell` argument and any exception that happen during thetransform in `preprocessing_exc_tuple` in IPython 7.17 and above.\n",
            "  and should_run_async(code)\n"
          ]
        }
      ],
      "source": [
        "# ML Model - 1 Implementation with hyperparameter optimization techniques (i.e., GridSearch CV, RandomSearch CV, Bayesian Optimization etc.)\n",
        "\n",
        "# Fit the Algorithm\n",
        "\n",
        "# Predict on the model"
      ]
    },
    {
      "cell_type": "markdown",
      "metadata": {
        "id": "HAih1iBOpsJ2"
      },
      "source": [
        "##### Which hyperparameter optimization technique have you used and why?"
      ]
    },
    {
      "cell_type": "markdown",
      "metadata": {
        "id": "9kBgjYcdpsJ2"
      },
      "source": [
        "Answer Here."
      ]
    },
    {
      "cell_type": "markdown",
      "metadata": {
        "id": "zVGeBEFhpsJ2"
      },
      "source": [
        "##### Have you seen any improvement? Note down the improvement with updates Evaluation metric Score Chart."
      ]
    },
    {
      "cell_type": "markdown",
      "metadata": {
        "id": "74yRdG6UpsJ3"
      },
      "source": [
        "Answer Here."
      ]
    },
    {
      "cell_type": "markdown",
      "metadata": {
        "id": "bmKjuQ-FpsJ3"
      },
      "source": [
        "#### 3. Explain each evaluation metric's indication towards business and the business impact pf the ML model used."
      ]
    },
    {
      "cell_type": "markdown",
      "metadata": {
        "id": "BDKtOrBQpsJ3"
      },
      "source": [
        "Answer Here."
      ]
    },
    {
      "cell_type": "markdown",
      "metadata": {
        "id": "Fze-IPXLpx6K"
      },
      "source": [
        "### ML Model - 3"
      ]
    },
    {
      "cell_type": "code",
      "execution_count": null,
      "metadata": {
        "colab": {
          "background_save": true
        },
        "id": "FFrSXAtrpx6M",
        "outputId": "0924e569-f045-4458-99d0-3eabe1d94f39"
      },
      "outputs": [
        {
          "name": "stderr",
          "output_type": "stream",
          "text": [
            "/usr/local/lib/python3.10/dist-packages/ipykernel/ipkernel.py:283: DeprecationWarning: `should_run_async` will not call `transform_cell` automatically in the future. Please pass the result to `transformed_cell` argument and any exception that happen during thetransform in `preprocessing_exc_tuple` in IPython 7.17 and above.\n",
            "  and should_run_async(code)\n"
          ]
        }
      ],
      "source": [
        "# ML Model - 3 Implementation\n",
        "\n",
        "# Fit the Algorithm\n",
        "\n",
        "# Predict on the model"
      ]
    },
    {
      "cell_type": "markdown",
      "metadata": {
        "id": "7AN1z2sKpx6M"
      },
      "source": [
        "#### 1. Explain the ML Model used and it's performance using Evaluation metric Score Chart."
      ]
    },
    {
      "cell_type": "code",
      "execution_count": null,
      "metadata": {
        "colab": {
          "background_save": true
        },
        "id": "xIY4lxxGpx6M",
        "outputId": "8fedfa86-5921-473a-d4b6-5e64898d390c"
      },
      "outputs": [
        {
          "name": "stderr",
          "output_type": "stream",
          "text": [
            "/usr/local/lib/python3.10/dist-packages/ipykernel/ipkernel.py:283: DeprecationWarning: `should_run_async` will not call `transform_cell` automatically in the future. Please pass the result to `transformed_cell` argument and any exception that happen during thetransform in `preprocessing_exc_tuple` in IPython 7.17 and above.\n",
            "  and should_run_async(code)\n"
          ]
        }
      ],
      "source": [
        "# Visualizing evaluation Metric Score chart"
      ]
    },
    {
      "cell_type": "markdown",
      "metadata": {
        "id": "9PIHJqyupx6M"
      },
      "source": [
        "#### 2. Cross- Validation & Hyperparameter Tuning"
      ]
    },
    {
      "cell_type": "code",
      "execution_count": null,
      "metadata": {
        "colab": {
          "background_save": true
        },
        "id": "eSVXuaSKpx6M",
        "outputId": "45afe755-926c-4f3a-83ca-e406d0f33b0d"
      },
      "outputs": [
        {
          "name": "stderr",
          "output_type": "stream",
          "text": [
            "/usr/local/lib/python3.10/dist-packages/ipykernel/ipkernel.py:283: DeprecationWarning: `should_run_async` will not call `transform_cell` automatically in the future. Please pass the result to `transformed_cell` argument and any exception that happen during thetransform in `preprocessing_exc_tuple` in IPython 7.17 and above.\n",
            "  and should_run_async(code)\n"
          ]
        }
      ],
      "source": [
        "# ML Model - 3 Implementation with hyperparameter optimization techniques (i.e., GridSearch CV, RandomSearch CV, Bayesian Optimization etc.)\n",
        "\n",
        "# Fit the Algorithm\n",
        "\n",
        "# Predict on the model"
      ]
    },
    {
      "cell_type": "markdown",
      "metadata": {
        "id": "_-qAgymDpx6N"
      },
      "source": [
        "##### Which hyperparameter optimization technique have you used and why?"
      ]
    },
    {
      "cell_type": "markdown",
      "metadata": {
        "id": "lQMffxkwpx6N"
      },
      "source": [
        "Answer Here."
      ]
    },
    {
      "cell_type": "markdown",
      "metadata": {
        "id": "Z-hykwinpx6N"
      },
      "source": [
        "##### Have you seen any improvement? Note down the improvement with updates Evaluation metric Score Chart."
      ]
    },
    {
      "cell_type": "markdown",
      "metadata": {
        "id": "MzVzZC6opx6N"
      },
      "source": [
        "Answer Here."
      ]
    },
    {
      "cell_type": "markdown",
      "metadata": {
        "id": "h_CCil-SKHpo"
      },
      "source": [
        "### 1. Which Evaluation metrics did you consider for a positive business impact and why?"
      ]
    },
    {
      "cell_type": "markdown",
      "metadata": {
        "id": "jHVz9hHDKFms"
      },
      "source": [
        "Answer Here."
      ]
    },
    {
      "cell_type": "markdown",
      "metadata": {
        "id": "cBFFvTBNJzUa"
      },
      "source": [
        "### 2. Which ML model did you choose from the above created models as your final prediction model and why?"
      ]
    },
    {
      "cell_type": "markdown",
      "metadata": {
        "id": "6ksF5Q1LKTVm"
      },
      "source": [
        "Answer Here."
      ]
    },
    {
      "cell_type": "markdown",
      "metadata": {
        "id": "HvGl1hHyA_VK"
      },
      "source": [
        "### 3. Explain the model which you have used and the feature importance using any model explainability tool?"
      ]
    },
    {
      "cell_type": "markdown",
      "metadata": {
        "id": "YnvVTiIxBL-C"
      },
      "source": [
        "Answer Here."
      ]
    },
    {
      "cell_type": "markdown",
      "metadata": {
        "id": "EyNgTHvd2WFk"
      },
      "source": [
        "## ***8.*** ***Future Work (Optional)***"
      ]
    },
    {
      "cell_type": "markdown",
      "metadata": {
        "id": "KH5McJBi2d8v"
      },
      "source": [
        "### 1. Save the best performing ml model in a pickle file or joblib file format for deployment process.\n"
      ]
    },
    {
      "cell_type": "code",
      "execution_count": null,
      "metadata": {
        "colab": {
          "background_save": true
        },
        "id": "bQIANRl32f4J",
        "outputId": "e95ea7f0-a346-4624-c5cd-c1e213cdaaa3"
      },
      "outputs": [
        {
          "name": "stderr",
          "output_type": "stream",
          "text": [
            "/usr/local/lib/python3.10/dist-packages/ipykernel/ipkernel.py:283: DeprecationWarning: `should_run_async` will not call `transform_cell` automatically in the future. Please pass the result to `transformed_cell` argument and any exception that happen during thetransform in `preprocessing_exc_tuple` in IPython 7.17 and above.\n",
            "  and should_run_async(code)\n"
          ]
        }
      ],
      "source": [
        "# Save the File"
      ]
    },
    {
      "cell_type": "markdown",
      "metadata": {
        "id": "iW_Lq9qf2h6X"
      },
      "source": [
        "### 2. Again Load the saved model file and try to predict unseen data for a sanity check.\n"
      ]
    },
    {
      "cell_type": "code",
      "execution_count": null,
      "metadata": {
        "colab": {
          "background_save": true
        },
        "id": "oEXk9ydD2nVC",
        "outputId": "76a7db2a-d602-4822-bf06-90433016d874"
      },
      "outputs": [
        {
          "name": "stderr",
          "output_type": "stream",
          "text": [
            "/usr/local/lib/python3.10/dist-packages/ipykernel/ipkernel.py:283: DeprecationWarning: `should_run_async` will not call `transform_cell` automatically in the future. Please pass the result to `transformed_cell` argument and any exception that happen during thetransform in `preprocessing_exc_tuple` in IPython 7.17 and above.\n",
            "  and should_run_async(code)\n"
          ]
        }
      ],
      "source": [
        "# Load the File and predict unseen data."
      ]
    },
    {
      "cell_type": "markdown",
      "metadata": {
        "id": "-Kee-DAl2viO"
      },
      "source": [
        "### ***Congrats! Your model is successfully created and ready for deployment on a live server for a real user interaction !!!***"
      ]
    },
    {
      "cell_type": "markdown",
      "metadata": {
        "id": "gCX9965dhzqZ"
      },
      "source": [
        "# **Conclusion**"
      ]
    },
    {
      "cell_type": "markdown",
      "metadata": {
        "id": "Fjb1IsQkh3yE"
      },
      "source": [
        "Write the conclusion here."
      ]
    },
    {
      "cell_type": "markdown",
      "metadata": {
        "id": "gIfDvo9L0UH2"
      },
      "source": [
        "### ***Hurrah! You have successfully completed your Machine Learning Capstone Project !!!***"
      ]
    }
  ],
  "metadata": {
    "colab": {
      "collapsed_sections": [
        "yQaldy8SH6Dl",
        "mDgbUHAGgjLW",
        "85gYPyotYoAp",
        "RoGjAbkUYoAp",
        "4Of9eVA-YrdM",
        "iky9q4vBYrdO",
        "F6T5p64dYrdO",
        "y-Ehk30pYrdP",
        "bamQiAODYuh1",
        "QHF8YVU7Yuh3",
        "GwzvFGzlYuh3",
        "qYpmQ266Yuh3",
        "OH-pJp9IphqM",
        "bbFf2-_FphqN",
        "_ouA3fa0phqN",
        "Seke61FWphqN",
        "PIIx-8_IphqN",
        "t27r6nlMphqO",
        "r2jJGEOYphqO",
        "b0JNsNcRphqO",
        "BZR9WyysphqO",
        "jj7wYXLtphqO",
        "eZrbJ2SmphqO",
        "rFu4xreNphqO",
        "YJ55k-q6phqO",
        "gCFgpxoyphqP",
        "OVtJsKN_phqQ",
        "lssrdh5qphqQ",
        "U2RJ9gkRphqQ",
        "1M8mcRywphqQ",
        "tgIPom80phqQ",
        "JMzcOPDDphqR",
        "x-EpHcCOp1ci",
        "X_VqEhTip1ck",
        "8zGJKyg5p1ck",
        "PVzmfK_Ep1ck",
        "n3dbpmDWp1ck",
        "ylSl6qgtp1ck",
        "ZWILFDl5p1ck",
        "M7G43BXep1ck",
        "E6MkPsBcp1cl",
        "2cELzS2fp1cl",
        "3MPXvC8up1cl",
        "YPEH6qLeZNRQ",
        "q29F0dvdveiT",
        "EXh0U9oCveiU",
        "22aHeOlLveiV",
        "Yfr_Vlr8HBkt",
        "I79__PHVH19G",
        "Ou-I18pAyIpj",
        "fF3858GYyt-u",
        "4_0_7-oCpUZd",
        "hwyV_J3ipUZe",
        "3yB-zSqbpUZe",
        "dEUvejAfpUZe",
        "Fd15vwWVpUZf",
        "bn_IUdTipZyH",
        "49K5P_iCpZyH",
        "Nff-vKELpZyI",
        "kLW572S8pZyI",
        "dWbDXHzopZyI",
        "7wuGOrhz0itI",
        "id1riN9m0vUs",
        "578E2V7j08f6",
        "89xtkJwZ18nB",
        "67NQN5KX2AMe",
        "ArJBuiUVfxKd",
        "4qY1EAkEfxKe",
        "PiV4Ypx8fxKe",
        "TfvqoZmBfxKf",
        "dJ2tPlVmpsJ0",
        "JWYfwnehpsJ1",
        "-jK_YjpMpsJ2",
        "HAih1iBOpsJ2",
        "zVGeBEFhpsJ2",
        "bmKjuQ-FpsJ3",
        "Fze-IPXLpx6K",
        "7AN1z2sKpx6M",
        "9PIHJqyupx6M",
        "_-qAgymDpx6N",
        "Z-hykwinpx6N",
        "h_CCil-SKHpo",
        "cBFFvTBNJzUa",
        "HvGl1hHyA_VK",
        "KH5McJBi2d8v",
        "-Kee-DAl2viO",
        "gCX9965dhzqZ",
        "gIfDvo9L0UH2"
      ],
      "provenance": [],
      "include_colab_link": true
    },
    "gpuClass": "standard",
    "kernelspec": {
      "display_name": "Python 3",
      "name": "python3"
    },
    "language_info": {
      "name": "python"
    }
  },
  "nbformat": 4,
  "nbformat_minor": 0
}